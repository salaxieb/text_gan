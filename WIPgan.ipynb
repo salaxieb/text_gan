{
 "cells": [
  {
   "cell_type": "code",
   "execution_count": 1,
   "metadata": {},
   "outputs": [
    {
     "name": "stdout",
     "output_type": "stream",
     "text": [
      "Thu Aug 25 07:27:33 2022       \n",
      "+-----------------------------------------------------------------------------+\n",
      "| NVIDIA-SMI 450.51.05    Driver Version: 450.51.05    CUDA Version: 11.2     |\n",
      "|-------------------------------+----------------------+----------------------+\n",
      "| GPU  Name        Persistence-M| Bus-Id        Disp.A | Volatile Uncorr. ECC |\n",
      "| Fan  Temp  Perf  Pwr:Usage/Cap|         Memory-Usage | GPU-Util  Compute M. |\n",
      "|                               |                      |               MIG M. |\n",
      "|===============================+======================+======================|\n",
      "|   0  Tesla P100-PCIE...  Off  | 00000000:5E:00.0 Off |                    0 |\n",
      "| N/A   45C    P0    27W / 250W |      0MiB / 16280MiB |      0%      Default |\n",
      "|                               |                      |                  N/A |\n",
      "+-------------------------------+----------------------+----------------------+\n",
      "|   1  Tesla P100-PCIE...  Off  | 00000000:D8:00.0 Off |                    0 |\n",
      "| N/A   28C    P0    25W / 250W |      0MiB / 16280MiB |      0%      Default |\n",
      "|                               |                      |                  N/A |\n",
      "+-------------------------------+----------------------+----------------------+\n",
      "                                                                               \n",
      "+-----------------------------------------------------------------------------+\n",
      "| Processes:                                                                  |\n",
      "|  GPU   GI   CI        PID   Type   Process name                  GPU Memory |\n",
      "|        ID   ID                                                   Usage      |\n",
      "|=============================================================================|\n",
      "|  No running processes found                                                 |\n",
      "+-----------------------------------------------------------------------------+\n"
     ]
    }
   ],
   "source": [
    "!nvidia-smi"
   ]
  },
  {
   "cell_type": "code",
   "execution_count": 2,
   "metadata": {},
   "outputs": [],
   "source": [
    "import numpy as np\n",
    "from tqdm.notebook import tqdm"
   ]
  },
  {
   "cell_type": "code",
   "execution_count": 3,
   "metadata": {},
   "outputs": [
    {
     "data": {
      "text/plain": [
       "(20819, 20819)"
      ]
     },
     "execution_count": 3,
     "metadata": {},
     "output_type": "execute_result"
    }
   ],
   "source": [
    "import os\n",
    "import re\n",
    "from sklearn.preprocessing import LabelEncoder\n",
    "from sklearn.preprocessing import OneHotEncoder\n",
    "\n",
    "files = ['NLU-Evaluation-Data/AnnotatedData/NLU-Data-Home-Domain-Annotated-All.csv']\n",
    "labels = []\n",
    "sentences = []\n",
    "\n",
    "for filename in files: \n",
    "    with open(filename, encoding='utf-8') as f:\n",
    "        for line in f.readlines():\n",
    "            line = line.split(';')\n",
    "            if line[8]:\n",
    "                sentences.append(line[8])\n",
    "                labels.append(line[2] + '_' + line[3])\n",
    "\n",
    "le = LabelEncoder()\n",
    "ohe = OneHotEncoder()\n",
    "ohe.fit(le.fit_transform(labels).reshape(-1, 1))\n",
    "\n",
    "labels = np.array(labels)\n",
    "sentences = np.array(sentences)\n",
    "len(labels), len(sentences)"
   ]
  },
  {
   "cell_type": "markdown",
   "metadata": {},
   "source": [
    "# оставляем только 1 пример"
   ]
  },
  {
   "cell_type": "code",
   "execution_count": 4,
   "metadata": {},
   "outputs": [
    {
     "data": {
      "text/plain": [
       "(array(['news_query'], dtype='<U24'),\n",
       " array([\"what's sensational in time of india\"], dtype='<U365'))"
      ]
     },
     "execution_count": 4,
     "metadata": {},
     "output_type": "execute_result"
    }
   ],
   "source": [
    "labels = labels[367:368]\n",
    "sentences = sentences[367:368]\n",
    "labels, sentences"
   ]
  },
  {
   "cell_type": "code",
   "execution_count": 5,
   "metadata": {},
   "outputs": [
    {
     "data": {
      "text/plain": [
       "6"
      ]
     },
     "execution_count": 5,
     "metadata": {},
     "output_type": "execute_result"
    }
   ],
   "source": [
    "max_len = -1\n",
    "lengths = []\n",
    "for message in sentences:\n",
    "    max_len = len(message.split()) if len(message.split()) > max_len else max_len\n",
    "    lengths.append(len(message.split()))\n",
    "max_len"
   ]
  },
  {
   "cell_type": "code",
   "execution_count": 6,
   "metadata": {},
   "outputs": [
    {
     "data": {
      "image/png": "[encoded data removed]",
      "text/plain": [
       "<Figure size 432x288 with 1 Axes>"
      ]
     },
     "metadata": {
      "needs_background": "light"
     },
     "output_type": "display_data"
    }
   ],
   "source": [
    "import matplotlib.pyplot as plt\n",
    "plt.hist(lengths, bins=100)\n",
    "plt.show()"
   ]
  },
  {
   "cell_type": "code",
   "execution_count": 7,
   "metadata": {},
   "outputs": [],
   "source": [
    "TARGET_LEN = 52\n",
    "EMBEDDING_SIZE = 200"
   ]
  },
  {
   "cell_type": "markdown",
   "metadata": {},
   "source": [
    "# !!!ЭМБЕДИНГИ НЕ КАЧЕСТВЕННЫЕ, не сдавайся"
   ]
  },
  {
   "cell_type": "code",
   "execution_count": 8,
   "metadata": {},
   "outputs": [],
   "source": [
    "import pickle\n",
    "with open('word2vec_100.pkl', 'rb') as rf:\n",
    "    W2V_100 = pickle.load(rf)\n",
    "with open('fasttext_100.pkl', 'rb') as rf:\n",
    "    FT_100 = pickle.load(rf)"
   ]
  },
  {
   "cell_type": "code",
   "execution_count": 9,
   "metadata": {},
   "outputs": [
    {
     "name": "stdout",
     "output_type": "stream",
     "text": [
      "neut\n",
      "cyto\n",
      "ijk\n"
     ]
    },
    {
     "data": {
      "text/plain": [
       "0.02994892"
      ]
     },
     "execution_count": 9,
     "metadata": {},
     "output_type": "execute_result"
    }
   ],
   "source": [
    "norms = []\n",
    "for token in W2V_100.wv.vocab:\n",
    "    if np.linalg.norm(W2V_100.wv[token]) < 0.25:\n",
    "        print(token)\n",
    "    norms.append(np.linalg.norm(W2V_100.wv[token]))\n",
    "min(norms)"
   ]
  },
  {
   "cell_type": "code",
   "execution_count": 10,
   "metadata": {},
   "outputs": [
    {
     "data": {
      "text/plain": [
       "([('google', 0.5979539155960083),\n",
       "  ('siri', 0.5428193211555481),\n",
       "  ('wanna', 0.5294137597084045),\n",
       "  ('hey', 0.5242522954940796),\n",
       "  ('gotta', 0.5072860717773438),\n",
       "  ('yourself', 0.49988099932670593),\n",
       "  ('dialog', 0.48816388845443726),\n",
       "  ('reschedule', 0.4799187183380127),\n",
       "  ('your', 0.4734569489955902),\n",
       "  (\"let's\", 0.4709017276763916)],\n",
       " [('us', 0.7899342775344849),\n",
       "  ('him', 0.7358139157295227),\n",
       "  ('meowk', 0.7257457971572876),\n",
       "  ('mekk3', 0.7218109369277954),\n",
       "  ('jme', 0.7211407423019409),\n",
       "  ('rème', 0.718085527420044),\n",
       "  ('dáme', 0.716890275478363),\n",
       "  ('dôme', 0.7083154320716858),\n",
       "  ('jérôme', 0.7071205377578735),\n",
       "  ('gme', 0.7071195244789124)])"
      ]
     },
     "execution_count": 10,
     "metadata": {},
     "output_type": "execute_result"
    }
   ],
   "source": [
    "W2V_100.wv.most_similar(positive='please'), FT_100.wv.most_similar('me')"
   ]
  },
  {
   "cell_type": "code",
   "execution_count": 12,
   "metadata": {},
   "outputs": [
    {
     "name": "stdout",
     "output_type": "stream",
     "text": [
      "Collecting keras-nlp\n",
      "  Using cached keras_nlp-0.3.0-py3-none-any.whl (142 kB)\n",
      "Requirement already satisfied: numpy in /usr/local/lib/python3.8/site-packages (from keras-nlp) (1.19.5)\n",
      "Requirement already satisfied: absl-py in /usr/local/lib/python3.8/site-packages (from keras-nlp) (0.15.0)\n",
      "Collecting tensorflow-text\n",
      "  Using cached tensorflow_text-2.9.0-cp38-cp38-manylinux_2_17_x86_64.manylinux2014_x86_64.whl (4.6 MB)\n",
      "Requirement already satisfied: tensorflow in /usr/local/lib/python3.8/site-packages (from keras-nlp) (2.5.0)\n",
      "Requirement already satisfied: packaging in /usr/local/lib/python3.8/site-packages (from keras-nlp) (20.9)\n",
      "Requirement already satisfied: six in /usr/local/lib/python3.8/site-packages (from absl-py->keras-nlp) (1.15.0)\n",
      "Requirement already satisfied: pyparsing>=2.0.2 in /usr/local/lib/python3.8/site-packages (from packaging->keras-nlp) (2.4.7)\n",
      "Requirement already satisfied: tensorflow-estimator<2.6.0,>=2.5.0rc0 in /usr/local/lib/python3.8/site-packages (from tensorflow->keras-nlp) (2.5.0)\n",
      "Requirement already satisfied: h5py~=3.1.0 in /usr/local/lib/python3.8/site-packages (from tensorflow->keras-nlp) (3.1.0)\n",
      "Requirement already satisfied: termcolor~=1.1.0 in /usr/local/lib/python3.8/site-packages (from tensorflow->keras-nlp) (1.1.0)\n",
      "Requirement already satisfied: grpcio~=1.34.0 in /usr/local/lib/python3.8/site-packages (from tensorflow->keras-nlp) (1.34.1)\n",
      "Requirement already satisfied: wrapt~=1.12.1 in /usr/local/lib/python3.8/site-packages (from tensorflow->keras-nlp) (1.12.1)\n",
      "Requirement already satisfied: wheel~=0.35 in /usr/local/lib/python3.8/site-packages (from tensorflow->keras-nlp) (0.36.2)\n",
      "Requirement already satisfied: opt-einsum~=3.3.0 in /usr/local/lib/python3.8/site-packages (from tensorflow->keras-nlp) (3.3.0)\n",
      "Requirement already satisfied: google-pasta~=0.2 in /usr/local/lib/python3.8/site-packages (from tensorflow->keras-nlp) (0.2.0)\n",
      "Requirement already satisfied: keras-nightly~=2.5.0.dev in /usr/local/lib/python3.8/site-packages (from tensorflow->keras-nlp) (2.5.0.dev2021032900)\n",
      "Requirement already satisfied: gast==0.4.0 in /usr/local/lib/python3.8/site-packages (from tensorflow->keras-nlp) (0.4.0)\n",
      "Requirement already satisfied: flatbuffers~=1.12.0 in /usr/local/lib/python3.8/site-packages (from tensorflow->keras-nlp) (1.12)\n",
      "Requirement already satisfied: keras-preprocessing~=1.1.2 in /usr/local/lib/python3.8/site-packages (from tensorflow->keras-nlp) (1.1.2)\n",
      "Requirement already satisfied: astunparse~=1.6.3 in /usr/local/lib/python3.8/site-packages (from tensorflow->keras-nlp) (1.6.3)\n",
      "Requirement already satisfied: protobuf>=3.9.2 in /usr/local/lib/python3.8/site-packages (from tensorflow->keras-nlp) (3.19.4)\n",
      "Requirement already satisfied: tensorboard~=2.5 in /usr/local/lib/python3.8/site-packages (from tensorflow->keras-nlp) (2.8.0)\n",
      "Requirement already satisfied: typing-extensions~=3.7.4 in /usr/local/lib/python3.8/site-packages (from tensorflow->keras-nlp) (3.7.4.3)\n",
      "Requirement already satisfied: tensorboard-plugin-wit>=1.6.0 in /usr/local/lib/python3.8/site-packages (from tensorboard~=2.5->tensorflow->keras-nlp) (1.8.1)\n",
      "Requirement already satisfied: markdown>=2.6.8 in /usr/local/lib/python3.8/site-packages (from tensorboard~=2.5->tensorflow->keras-nlp) (3.3.6)\n",
      "Requirement already satisfied: google-auth<3,>=1.6.3 in /usr/local/lib/python3.8/site-packages (from tensorboard~=2.5->tensorflow->keras-nlp) (2.6.5)\n",
      "Requirement already satisfied: requests<3,>=2.21.0 in /usr/local/lib/python3.8/site-packages (from tensorboard~=2.5->tensorflow->keras-nlp) (2.25.1)\n",
      "Requirement already satisfied: werkzeug>=0.11.15 in /usr/local/lib/python3.8/site-packages (from tensorboard~=2.5->tensorflow->keras-nlp) (2.1.1)\n",
      "Requirement already satisfied: google-auth-oauthlib<0.5,>=0.4.1 in /usr/local/lib/python3.8/site-packages (from tensorboard~=2.5->tensorflow->keras-nlp) (0.4.6)\n",
      "Requirement already satisfied: tensorboard-data-server<0.7.0,>=0.6.0 in /usr/local/lib/python3.8/site-packages (from tensorboard~=2.5->tensorflow->keras-nlp) (0.6.1)\n",
      "Requirement already satisfied: setuptools>=41.0.0 in /usr/local/lib/python3.8/site-packages (from tensorboard~=2.5->tensorflow->keras-nlp) (53.0.0)\n",
      "Requirement already satisfied: pyasn1-modules>=0.2.1 in /usr/local/lib/python3.8/site-packages (from google-auth<3,>=1.6.3->tensorboard~=2.5->tensorflow->keras-nlp) (0.2.8)\n",
      "Requirement already satisfied: rsa<5,>=3.1.4 in /usr/local/lib/python3.8/site-packages (from google-auth<3,>=1.6.3->tensorboard~=2.5->tensorflow->keras-nlp) (4.8)\n",
      "Requirement already satisfied: cachetools<6.0,>=2.0.0 in /usr/local/lib/python3.8/site-packages (from google-auth<3,>=1.6.3->tensorboard~=2.5->tensorflow->keras-nlp) (5.0.0)\n",
      "Requirement already satisfied: requests-oauthlib>=0.7.0 in /usr/local/lib/python3.8/site-packages (from google-auth-oauthlib<0.5,>=0.4.1->tensorboard~=2.5->tensorflow->keras-nlp) (1.3.1)\n",
      "Requirement already satisfied: importlib-metadata>=4.4 in /usr/local/lib/python3.8/site-packages (from markdown>=2.6.8->tensorboard~=2.5->tensorflow->keras-nlp) (4.11.3)\n",
      "Requirement already satisfied: zipp>=0.5 in /usr/local/lib/python3.8/site-packages (from importlib-metadata>=4.4->markdown>=2.6.8->tensorboard~=2.5->tensorflow->keras-nlp) (3.7.0)\n",
      "Requirement already satisfied: pyasn1<0.5.0,>=0.4.6 in /usr/local/lib/python3.8/site-packages (from pyasn1-modules>=0.2.1->google-auth<3,>=1.6.3->tensorboard~=2.5->tensorflow->keras-nlp) (0.4.8)\n",
      "Requirement already satisfied: chardet<5,>=3.0.2 in /usr/local/lib/python3.8/site-packages (from requests<3,>=2.21.0->tensorboard~=2.5->tensorflow->keras-nlp) (3.0.4)\n",
      "Requirement already satisfied: idna<3,>=2.5 in /usr/local/lib/python3.8/site-packages (from requests<3,>=2.21.0->tensorboard~=2.5->tensorflow->keras-nlp) (2.10)\n",
      "Requirement already satisfied: certifi>=2017.4.17 in /usr/local/lib/python3.8/site-packages (from requests<3,>=2.21.0->tensorboard~=2.5->tensorflow->keras-nlp) (2020.12.5)\n",
      "Requirement already satisfied: urllib3<1.27,>=1.21.1 in /usr/local/lib/python3.8/site-packages (from requests<3,>=2.21.0->tensorboard~=2.5->tensorflow->keras-nlp) (1.26.3)\n",
      "Requirement already satisfied: oauthlib>=3.0.0 in /usr/local/lib/python3.8/site-packages (from requests-oauthlib>=0.7.0->google-auth-oauthlib<0.5,>=0.4.1->tensorboard~=2.5->tensorflow->keras-nlp) (3.1.0)\n",
      "Collecting tensorflow-hub>=0.8.0\n",
      "  Using cached tensorflow_hub-0.12.0-py2.py3-none-any.whl (108 kB)\n",
      "Collecting tensorflow\n",
      "  Using cached tensorflow-2.9.1-cp38-cp38-manylinux_2_17_x86_64.manylinux2014_x86_64.whl (511.7 MB)\n",
      "  Downloading tensorflow-2.9.0-cp38-cp38-manylinux_2_17_x86_64.manylinux2014_x86_64.whl (511.7 MB)\n",
      "\u001b[K     |████████████████████████████████| 511.7 MB 376 bytes/s  0:00:01\n",
      "\u001b[?25hINFO: pip is looking at multiple versions of tensorflow-text to determine which version is compatible with other requirements. This could take a while.\n",
      "Collecting tensorflow-text\n",
      "  Downloading tensorflow_text-2.8.2-cp38-cp38-manylinux_2_12_x86_64.manylinux2010_x86_64.whl (4.9 MB)\n",
      "\u001b[K     |████████████████████████████████| 4.9 MB 464 kB/s eta 0:00:01\n",
      "\u001b[?25h  Downloading tensorflow_text-2.8.1-cp38-cp38-manylinux_2_12_x86_64.manylinux2010_x86_64.whl (4.9 MB)\n",
      "\u001b[K     |████████████████████████████████| 4.9 MB 730 kB/s eta 0:00:01\n",
      "\u001b[?25h  Downloading tensorflow_text-2.7.3-cp38-cp38-manylinux2010_x86_64.whl (4.9 MB)\n",
      "\u001b[K     |████████████████████████████████| 4.9 MB 872 kB/s eta 0:00:01\n",
      "\u001b[?25h  Downloading tensorflow_text-2.7.0-cp38-cp38-manylinux2010_x86_64.whl (4.9 MB)\n",
      "\u001b[K     |████████████████████████████████| 4.9 MB 926 kB/s eta 0:00:01\n",
      "\u001b[?25h  Downloading tensorflow_text-2.6.0-cp38-cp38-manylinux1_x86_64.whl (4.4 MB)\n",
      "\u001b[K     |████████████████████████████████| 4.4 MB 1.3 MB/s eta 0:00:01\n",
      "\u001b[?25h  Downloading tensorflow_text-2.5.0-cp38-cp38-manylinux1_x86_64.whl (4.3 MB)\n",
      "\u001b[K     |████████████████████████████████| 4.3 MB 602 kB/s eta 0:00:01\n",
      "\u001b[?25h  Downloading tensorflow_text-2.4.3-cp38-cp38-manylinux1_x86_64.whl (3.4 MB)\n",
      "\u001b[K     |████████████████████████████████| 3.4 MB 903 kB/s eta 0:00:01\n",
      "\u001b[?25h  Downloading tensorflow_text-2.4.2-cp38-cp38-manylinux1_x86_64.whl (3.4 MB)\n",
      "\u001b[K     |████████████████████████████████| 3.4 MB 1.6 MB/s eta 0:00:01\n",
      "\u001b[?25h  Downloading tensorflow_text-2.4.1-cp38-cp38-manylinux1_x86_64.whl (3.4 MB)\n",
      "\u001b[K     |████████████████████████████████| 3.4 MB 1.3 MB/s eta 0:00:01\n",
      "\u001b[?25h  Downloading tensorflow_text-2.3.0-cp38-cp38-manylinux1_x86_64.whl (2.6 MB)\n",
      "\u001b[K     |████████████████████████████████| 2.6 MB 1.9 MB/s eta 0:00:01\n",
      "\u001b[?25h  Downloading tensorflow_text-2.2.1-cp38-cp38-manylinux1_x86_64.whl (3.0 MB)\n",
      "\u001b[K     |████████████████████████████████| 3.0 MB 2.6 MB/s eta 0:00:01\n",
      "\u001b[?25h  Downloading tensorflow_text-2.2.0-cp38-cp38-manylinux1_x86_64.whl (3.0 MB)\n",
      "\u001b[K     |████████████████████████████████| 3.0 MB 471 kB/s eta 0:00:01\n",
      "\u001b[?25hCollecting tensorflow\n",
      "  Downloading tensorflow-2.8.2-cp38-cp38-manylinux2010_x86_64.whl (498.0 MB)\n",
      "\u001b[K     |████████████████████████████████| 498.0 MB 36 kB/s  eta 0:00:01     |████████████▋                   | 197.0 MB 2.3 MB/s eta 0:02:13     |██████████████▋                 | 228.1 MB 4.4 MB/s eta 0:01:02     |███████████████                 | 232.9 MB 968 kB/s eta 0:04:34     |████████████████▏               | 251.7 MB 2.4 MB/s eta 0:01:43     |█████████████████████▉          | 339.2 MB 3.4 MB/s eta 0:00:47\n",
      "\u001b[?25h  Downloading tensorflow-2.8.1-cp38-cp38-manylinux2010_x86_64.whl (498.0 MB)\n",
      "\u001b[K     |████████████████████████████████| 498.0 MB 54 kB/s  eta 0:00:01     |█████████████                   | 203.0 MB 3.5 MB/s eta 0:01:25     |███████████████████████         | 358.3 MB 2.7 MB/s eta 0:00:52     |█████████████████████████████▏  | 453.1 MB 1.3 MB/s eta 0:00:34\n",
      "\u001b[?25h  Downloading tensorflow-2.8.0-cp38-cp38-manylinux2010_x86_64.whl (497.6 MB)\n",
      "\u001b[K     |████████████████████████████████| 497.6 MB 3.5 kB/s eta 0:00:01     |███████████████████▍            | 300.7 MB 2.7 MB/s eta 0:01:13     |███████████████████████▌        | 366.2 MB 3.4 MB/s eta 0:00:39\n",
      "\u001b[?25hCollecting tf-estimator-nightly==2.8.0.dev2021122109\n",
      "  Downloading tf_estimator_nightly-2.8.0.dev2021122109-py2.py3-none-any.whl (462 kB)\n",
      "\u001b[K     |████████████████████████████████| 462 kB 312 kB/s eta 0:00:01\n",
      "\u001b[?25hCollecting libclang>=9.0.1\n",
      "  Using cached libclang-14.0.6-py2.py3-none-manylinux2010_x86_64.whl (14.1 MB)\n",
      "Collecting tensorflow\n",
      "  Downloading tensorflow-2.7.3-cp38-cp38-manylinux2010_x86_64.whl (495.5 MB)\n",
      "\u001b[K     |████████████████████████████████| 495.5 MB 33 kB/s  eta 0:00:01     |██████▉                         | 105.9 MB 3.4 MB/s eta 0:01:55     |████████▍                       | 130.5 MB 564 kB/s eta 0:10:47     |██████████                      | 154.3 MB 3.4 MB/s eta 0:01:40     |███████████▊                    | 182.1 MB 2.5 MB/s eta 0:02:04     |███████████████▉                | 244.4 MB 2.0 MB/s eta 0:02:05\n",
      "\u001b[?25h  Downloading tensorflow-2.7.2-cp38-cp38-manylinux2010_x86_64.whl (495.5 MB)\n",
      "\u001b[K     |████████████████████████████████| 495.5 MB 35 kB/s  eta 0:00:011   |██▊                             | 41.6 MB 2.3 MB/s eta 0:03:15     |███▌                            | 53.6 MB 1.9 MB/s eta 0:03:49     |████▊                           | 73.6 MB 4.6 MB/s eta 0:01:33     |█████████████████▉              | 277.0 MB 846 kB/s eta 0:04:19\n",
      "\u001b[?25h  Downloading tensorflow-2.7.1-cp38-cp38-manylinux2010_x86_64.whl (495.1 MB)\n",
      "\u001b[K     |████████████████████████████████| 495.1 MB 16 kB/s  eta 0:00:014     |██████████████████▍             | 284.0 MB 10.0 MB/s eta 0:00:22\n",
      "\u001b[?25h  Downloading tensorflow-2.7.0-cp38-cp38-manylinux2010_x86_64.whl (489.6 MB)\n",
      "\u001b[K     |████████████████████████████████| 489.6 MB 51 kB/s  eta 0:00:016     |██████████████████████          | 337.2 MB 3.1 MB/s eta 0:00:49\n",
      "\u001b[?25h  Downloading tensorflow-2.6.5-cp38-cp38-manylinux2010_x86_64.whl (464.3 MB)\n",
      "\u001b[K     |████████████████████████████████| 464.3 MB 61 kB/s  eta 0:00:011    |███████▍                        | 107.7 MB 3.7 MB/s eta 0:01:36     |██████████████████████████▏     | 379.7 MB 2.9 MB/s eta 0:00:30     |██████████████████████████▌     | 384.4 MB 817 kB/s eta 0:01:38\n",
      "\u001b[?25h  Downloading tensorflow-2.6.4-cp38-cp38-manylinux2010_x86_64.whl (464.3 MB)\n",
      "\u001b[K     |████████████████████████████████| 464.3 MB 1.3 kB/s eta 0:00:015\n",
      "\u001b[?25h  Downloading tensorflow-2.6.3-cp38-cp38-manylinux2010_x86_64.whl (463.9 MB)\n",
      "\u001b[K     |████████████████████████████████| 463.9 MB 41 kB/s  eta 0:00:012   |██▎                             | 33.0 MB 3.5 MB/s eta 0:02:04     |███▉                            | 56.1 MB 845 kB/s eta 0:08:03     |██████▋                         | 95.1 MB 422 kB/s eta 0:14:33     |███████████▏                    | 161.2 MB 2.9 MB/s eta 0:01:46     |███████████▎                    | 163.6 MB 2.9 MB/s eta 0:01:45      | 165.0 MB 3.0 MB/s eta 0:01:39      | 169.0 MB 3.0 MB/s eta 0:01:39��██████▊                    | 169.2 MB 3.0 MB/s eta 0:01:39/s eta 0:01:39                    | 169.6 MB 3.0 MB/s eta 0:01:3970.0 MB 3.0 MB/s eta 0:01:39     |████████████████████▊           | 300.5 MB 138 kB/s eta 0:19:42     |████████████████████████▋       | 356.9 MB 6.1 MB/s eta 0:00:18     |█████████████████████████████▋  | 429.4 MB 2.9 MB/s eta 0:00:124 MB 3.2 MB/s eta 0:00:078 MB 4.2 MB/s eta 0:00:05█████▊ | 445.0 MB 4.2 MB/s eta 0:00:053 MB 4.3 MB/s eta 0:00:04██████ | 449.4 MB 4.3 MB/s eta 0:00:04�██████████████ | 449.6 MB 4.3 MB/s eta 0:00:04��██████████████████████ | 449.7 MB 4.3 MB/s eta 0:00:04███████████████████████████████ | 449.9 MB 4.3 MB/s eta 0:00:04B/s eta 0:00:04��██ | 450.2 MB 4.3 MB/s eta 0:00:04███████████ | 450.3 MB 4.3 MB/s eta 0:00:04�███████████████████ | 450.5 MB 4.3 MB/s eta 0:00:04��███████████████████████████ | 450.6 MB 4.3 MB/s eta 0:00:0400:04 450.9 MB 4.3 MB/s eta 0:00:04��███████████▏| 451.1 MB 4.3 MB/s eta 0:00:04██████████████████████████████▏| 451.2 MB 4.3 MB/s eta 0:00:03��██▏| 451.4 MB 4.3 MB/s eta 0:00:03\n",
      "\u001b[?25h  Downloading tensorflow-2.6.2-cp38-cp38-manylinux2010_x86_64.whl (458.4 MB)\n",
      "\u001b[K     |████████████████████████████████| 458.4 MB 66 kB/s s eta 0:00:01   |██▊                             | 39.8 MB 1.2 MB/s eta 0:06:00     |████                            | 57.3 MB 1.3 MB/s eta 0:05:19��████████████████████▉          | 313.4 MB 3.8 MB/s eta 0:00:38��█████████████████████          | 313.8 MB 3.8 MB/s eta 0:00:381.4 MB 7.0 MB/s eta 0:00:16\n",
      "\u001b[?25h  Downloading tensorflow-2.6.1-cp38-cp38-manylinux2010_x86_64.whl (458.4 MB)\n",
      "\u001b[K     |████████████████████████████████| 458.4 MB 34 kB/s  eta 0:00:01 eta 0:00:26 573 kB 18.3 MB/s eta 0:00:26               | 860 kB 18.3 MB/s eta 0:00:26                               | 1.1 MB 18.3 MB/s eta 0:00:26     |▌                               | 6.5 MB 18.3 MB/s eta 0:00:25     |█▌                              | 21.6 MB 8.2 MB/s eta 0:00:54                    | 62.6 MB 7.7 MB/s eta 0:00:527 MB/s eta 0:00:52��██▍                           | 63.1 MB 7.7 MB/s eta 0:00:52      | 63.3 MB 7.7 MB/s eta 0:00:520:52                        | 63.8 MB 7.7 MB/s eta 0:00:52B 7.7 MB/s eta 0:00:52████▌                           | 64.3 MB 7.7 MB/s eta 0:00:52     |████████▌                       | 122.2 MB 163 kB/s eta 0:34:17     |████████▋                       | 122.8 MB 535 kB/s eta 0:10:28     |██████████▍                     | 148.8 MB 665 kB/s eta 0:07:46     |██████████▍                     | 148.9 MB 665 kB/s eta 0:07:46     |███████████                     | 157.5 MB 1.5 MB/s eta 0:03:243.2 MB/s eta 0:01:23     |█████████████████▉              | 254.8 MB 568 kB/s eta 0:05:59     |███████████████████▊            | 283.0 MB 303 kB/s eta 0:09:38     |███████████████████████████████ | 444.3 MB 803 kB/s eta 0:00:18\n",
      "\u001b[?25hCollecting keras~=2.6\n",
      "  Using cached keras-2.9.0-py2.py3-none-any.whl (1.6 MB)\n",
      "Collecting clang~=5.0\n",
      "  Downloading clang-5.0.tar.gz (30 kB)\n",
      "Collecting tensorflow\n",
      "  Downloading tensorflow-2.6.0-cp38-cp38-manylinux2010_x86_64.whl (458.4 MB)\n",
      "\u001b[K     |████████████████████████████████| 458.4 MB 52 kB/s  eta 0:00:01    |██                              | 27.9 MB 1.1 MB/s eta 0:06:47     |████████▉                       | 126.9 MB 380 kB/s eta 0:14:31     |█████████                       | 127.4 MB 263 kB/s eta 0:20:59     |█████████                       | 127.6 MB 263 kB/s eta 0:20:58     |███████████▏                    | 159.2 MB 204 kB/s eta 0:24:23     |█████████████▍                  | 191.2 MB 109 kB/s eta 0:40:40     |█████████████▍                  | 191.3 MB 109 kB/s eta 0:40:39     |███████████████                 | 215.8 MB 1.0 MB/s eta 0:03:54     |██████████████████████▎         | 319.6 MB 1.6 MB/s eta 0:01:25��███████████████████▉   | 412.8 MB 3.6 MB/s eta 0:00:131 MB 2.0 MB/s eta 0:00:08\n",
      "\u001b[?25hInstalling collected packages: tensorflow-hub, tensorflow-text, keras-nlp\n",
      "Successfully installed keras-nlp-0.3.0 tensorflow-hub-0.12.0 tensorflow-text-2.5.0\n",
      "\u001b[33mWARNING: You are using pip version 21.0.1; however, version 22.2.2 is available.\n",
      "You should consider upgrading via the '/usr/local/bin/python -m pip install --upgrade pip' command.\u001b[0m\n"
     ]
    }
   ],
   "source": [
    "!pip install keras-nlp --upgrade"
   ]
  },
  {
   "cell_type": "code",
   "execution_count": null,
   "metadata": {},
   "outputs": [
    {
     "name": "stdout",
     "output_type": "stream",
     "text": [
      "(3, 52, 200)\n"
     ]
    },
    {
     "data": {
      "image/png": "[encoded data removed]",
      "text/plain": [
       "<Figure size 432x288 with 2 Axes>"
      ]
     },
     "metadata": {
      "needs_background": "light"
     },
     "output_type": "display_data"
    }
   ],
   "source": [
    "from tqdm.notebook import tqdm\n",
    "from gan_helpers import pad_sequences\n",
    "def vectorize_sentence(sentence):\n",
    "    vec = []\n",
    "    for token in sentence.split():\n",
    "        tkn_vec = np.concatenate((W2V_100.wv[token], FT_100.wv[token]), axis=0)\n",
    "        vec.append(tkn_vec)\n",
    "    return pad_sequences(vec, target_len=TARGET_LEN, embedding_size=EMBEDDING_SIZE)"
   ]
  },
  {
   "cell_type": "code",
   "execution_count": 36,
   "metadata": {},
   "outputs": [
    {
     "data": {
      "text/plain": [
       "[array([\"what's sensational in time of india\",\n",
       "        \"what's sensational in time of india\",\n",
       "        \"what's sensational in time of india\"], dtype='<U365'),\n",
       " array(['news_query', 'news_query', 'news_query'], dtype='<U24')]"
      ]
     },
     "execution_count": 36,
     "metadata": {},
     "output_type": "execute_result"
    }
   ],
   "source": [
    "RANDOM_DIM = 100\n",
    "\n",
    "\n",
    "class DataGenerator():\n",
    "    def __init__(self, labels, sentences, batches_per_epoch, batch_size):\n",
    "        self.train_sentences = sentences\n",
    "        self.train_labels = labels\n",
    "        self.batches_per_epoch = batches_per_epoch\n",
    "        self.batch_size = batch_size\n",
    "    \n",
    "    @staticmethod\n",
    "    def rand_norm(npoints=1, ndim=RANDOM_DIM):\n",
    "        rand_vec = np.random.normal(0, 1, size=[npoints, ndim])\n",
    "        return rand_vec\n",
    "\n",
    "    def __len__(self):\n",
    "        return self.batches_per_epoch\n",
    "\n",
    "    def batch(self):\n",
    "        rand_sentences_indexes = np.random.randint(0, self.train_sentences.shape[0], size=self.batch_size)\n",
    "        sent_batch = np.array([vectorize_sentence(sent) for sent in self.train_sentences[rand_sentences_indexes]])\n",
    "        labels_batch = ohe.transform(le.transform(self.train_labels[rand_sentences_indexes]).reshape(-1, 1)).todense()\n",
    "        return sent_batch, labels_batch\n",
    "\n",
    "    def __iter__(self):\n",
    "        for b in tqdm(range(self.batches_per_epoch), leave=False):\n",
    "            yield self.batch()\n",
    "\n",
    "    def rand_batch(self):\n",
    "        rand_vec = self.rand_norm(self.batch_size)\n",
    "        # for training generator with label\n",
    "        rand_labels = np.random.randint(0, len(le.classes_), size=[self.batch_size])\n",
    "        rand_labels = ohe.transform(rand_labels.reshape(-1, 1)).todense()\n",
    "        return (rand_vec, rand_labels)\n",
    "\n",
    "\n",
    "sample_size = 3\n",
    "np.random.seed(42)\n",
    "sent_indexes = np.random.randint(0, len(sentences), size=sample_size)\n",
    "MESSAGES_FROM_DATASET = [sentences[sent_indexes], labels[sent_indexes]]\n",
    "FIXED_NOISE = [DataGenerator.rand_norm(sample_size), ohe.transform(le.transform(labels[sent_indexes]).reshape(-1, 1)).todense()]\n",
    "MESSAGES_FROM_DATASET"
   ]
  },
  {
   "cell_type": "markdown",
   "metadata": {},
   "source": [
    "# GENERATOR"
   ]
  },
  {
   "cell_type": "code",
   "execution_count": 37,
   "metadata": {},
   "outputs": [],
   "source": [
    "from gan_helpers import give_pe"
   ]
  },
  {
   "cell_type": "code",
   "execution_count": 38,
   "metadata": {},
   "outputs": [
    {
     "data": {
      "text/plain": [
       "TensorShape([3, 52, 200])"
      ]
     },
     "execution_count": 38,
     "metadata": {},
     "output_type": "execute_result"
    }
   ],
   "source": [
    "from tensorflow import keras\n",
    "from tensorflow.keras import backend as K\n",
    "import numpy as np\n",
    "from gan_helpers import make_generator\n",
    "\n",
    "\n",
    "generator = make_generator(complexity=180, classes = len(le.classes_), verbose=False)\n",
    "generated_from_noise = generator(FIXED_NOISE)\n",
    "generated_from_noise.shape"
   ]
  },
  {
   "cell_type": "code",
   "execution_count": 39,
   "metadata": {},
   "outputs": [
    {
     "name": "stdout",
     "output_type": "stream",
     "text": [
      "('defies withdrawing withdrawal withdrawal owing owing owing gaffe makes withdrawal withdrawal hus hus ameliorate materiality materiality nonessential nonessential nonessential preserving boggling boggling boggling menial importance objectivity neglecting neglecting neglecting neglecting neglecting neglecting neglecting neglecting neglecting neglecting neglecting seizes adopts proffer', 1.0619219488983687, nan)\n",
      "('defies withdrawing withdrawal withdrawal owing owing owing gaffe makes withdrawal withdrawal hus hus ameliorate materiality materiality nonessential nonessential nonessential preserving boggling boggling boggling menial importance objectivity neglecting neglecting neglecting neglecting neglecting neglecting neglecting neglecting neglecting neglecting neglecting seizes adopts proffer', 1.061956226514527, nan)\n",
      "('defies withdrawing withdrawal withdrawal owing owing owing gaffe makes withdrawal withdrawal hus hus ameliorate materiality materiality nonessential nonessential nonessential shopkeeper boggling boggling boggling menial importance objectivity neglecting neglecting neglecting neglecting neglecting neglecting neglecting neglecting neglecting neglecting neglecting seizes adopts proffer', 1.0608685518919418, nan)\n"
     ]
    }
   ],
   "source": [
    "from scipy.spatial.distance import cosine\n",
    "\n",
    "\n",
    "def distance_to_that_message(generated_vec):\n",
    "    that_message_vec = vectorize_sentence(MESSAGES_FROM_DATASET[0][0])\n",
    "    return np.mean([cosine(a, b)  for a, b in zip(generated_vec, that_message_vec)])\n",
    "\n",
    "\n",
    "def message_recovery_with_metric(vector: np.ndarray):\n",
    "    assert len(vector.shape) == 2\n",
    "    tokens = []\n",
    "    metric = []\n",
    "    vector = vector.numpy()\n",
    "    for token_vec in vector:\n",
    "        w2v = token_vec[:100]\n",
    "        if np.linalg.norm(w2v) < 0.25:\n",
    "            token = ''\n",
    "        else:\n",
    "            token = W2V_100.wv.most_similar([w2v])[0][0]\n",
    "        tokens.append(token)\n",
    "        \n",
    "        metric.append(cosine(token_vec[100:], FT_100.wv[token]))\n",
    "    return ' '.join(tokens[-40:]).strip(), np.mean(metric), distance_to_that_message(vector)\n",
    "\n",
    "\n",
    "\n",
    "for example in generated_from_noise:\n",
    "    print(message_recovery_with_metric(example))"
   ]
  },
  {
   "cell_type": "markdown",
   "metadata": {},
   "source": [
    "# DISCRIMINATOR"
   ]
  },
  {
   "cell_type": "code",
   "execution_count": 40,
   "metadata": {},
   "outputs": [
    {
     "data": {
      "text/plain": [
       "<tf.Tensor: shape=(3, 1), dtype=float32, numpy=\n",
       "array([[0.47638056],\n",
       "       [0.47638997],\n",
       "       [0.47635394]], dtype=float32)>"
      ]
     },
     "execution_count": 40,
     "metadata": {},
     "output_type": "execute_result"
    }
   ],
   "source": [
    "from gan_helpers import make_discriminator\n",
    "discriminator = make_discriminator(complexity=480, classes=len(le.classes_), verbose=False)\n",
    "discriminator(generated_from_noise)[0]"
   ]
  },
  {
   "cell_type": "markdown",
   "metadata": {},
   "source": [
    "# BUILDING GAN"
   ]
  },
  {
   "cell_type": "code",
   "execution_count": 41,
   "metadata": {},
   "outputs": [],
   "source": [
    "def optimizer():\n",
    "    return keras.optimizers.Adam(lr=0.0002, beta_1=0.5)"
   ]
  },
  {
   "cell_type": "code",
   "execution_count": 42,
   "metadata": {},
   "outputs": [
    {
     "name": "stdout",
     "output_type": "stream",
     "text": [
      "Model: \"model_3\"\n",
      "__________________________________________________________________________________________________\n",
      "Layer (type)                    Output Shape         Param #     Connected to                     \n",
      "==================================================================================================\n",
      "input_4 (InputLayer)            [(None, 100)]        0                                            \n",
      "__________________________________________________________________________________________________\n",
      "input_5 (InputLayer)            [(None, 61)]         0                                            \n",
      "__________________________________________________________________________________________________\n",
      "model_2 (Functional)            (None, 52, 200)      1651790     input_4[0][0]                    \n",
      "                                                                 input_5[0][0]                    \n",
      "__________________________________________________________________________________________________\n",
      "discriminator (Functional)      [(None, 1), (None, 6 1504822     model_2[0][0]                    \n",
      "==================================================================================================\n",
      "Total params: 3,156,612\n",
      "Trainable params: 3,149,232\n",
      "Non-trainable params: 7,380\n",
      "__________________________________________________________________________________________________\n"
     ]
    }
   ],
   "source": [
    "def make_gan(discriminator, generator):   \n",
    "    noise = generator.inputs\n",
    "    texts = generator(noise)\n",
    "    real_vs_fake_and_label = discriminator(texts)\n",
    "    gan = keras.models.Model(inputs=noise, outputs=real_vs_fake_and_label)\n",
    "    # make discrimator not trainable before compile\n",
    "    # because GAN training is training of generator\n",
    "    discriminator.trainable = False  \n",
    "    gan.compile(\n",
    "        loss={\n",
    "            'discriminator': 'binary_crossentropy',\n",
    "            'discriminator_1': 'categorical_crossentropy',\n",
    "        },\n",
    "        loss_weights={'discriminator':1, 'discriminator_1': 0.01},\n",
    "        optimizer=optimizer(),\n",
    "        metrics={'discriminator':'acc'})\n",
    "    discriminator.trainable = True\n",
    "    gan.summary()\n",
    "    return gan\n",
    "\n",
    "gan = make_gan(discriminator, generator)"
   ]
  },
  {
   "cell_type": "markdown",
   "metadata": {},
   "source": [
    "# save and load"
   ]
  },
  {
   "cell_type": "code",
   "execution_count": 43,
   "metadata": {},
   "outputs": [],
   "source": [
    "def save_models():\n",
    "    discriminator.save('models/discriminator')\n",
    "    generator.save('models/generator')\n",
    "    gan.save('models/gan')\n",
    "# save_models()"
   ]
  },
  {
   "cell_type": "code",
   "execution_count": 44,
   "metadata": {},
   "outputs": [],
   "source": [
    "def load_models():\n",
    "    discriminator = keras.models.load_model('models/discriminator')\n",
    "    generator = keras.models.load_model('models/generator')\n",
    "    gan = keras.models.load_model('models/gan')\n",
    "# load_models()"
   ]
  },
  {
   "cell_type": "markdown",
   "metadata": {},
   "source": [
    "# final logic check"
   ]
  },
  {
   "cell_type": "code",
   "execution_count": 45,
   "metadata": {},
   "outputs": [
    {
     "data": {
      "text/plain": [
       "<tf.Tensor: shape=(3, 1), dtype=float32, numpy=\n",
       "array([[0.47638056],\n",
       "       [0.47638997],\n",
       "       [0.47635394]], dtype=float32)>"
      ]
     },
     "execution_count": 45,
     "metadata": {},
     "output_type": "execute_result"
    }
   ],
   "source": [
    "gan(FIXED_NOISE)[0]"
   ]
  },
  {
   "cell_type": "code",
   "execution_count": 46,
   "metadata": {},
   "outputs": [
    {
     "data": {
      "text/plain": [
       "<tf.Tensor: shape=(3, 1), dtype=float32, numpy=\n",
       "array([[0.47638056],\n",
       "       [0.47638997],\n",
       "       [0.47635394]], dtype=float32)>"
      ]
     },
     "execution_count": 46,
     "metadata": {},
     "output_type": "execute_result"
    }
   ],
   "source": [
    "discriminator(generator(FIXED_NOISE))[0]"
   ]
  },
  {
   "cell_type": "code",
   "execution_count": 47,
   "metadata": {},
   "outputs": [],
   "source": [
    "import warnings\n",
    "warnings.filterwarnings('ignore')"
   ]
  },
  {
   "cell_type": "markdown",
   "metadata": {},
   "source": [
    "# train"
   ]
  },
  {
   "cell_type": "code",
   "execution_count": 48,
   "metadata": {},
   "outputs": [
    {
     "name": "stdout",
     "output_type": "stream",
     "text": [
      "\n",
      "('defies withdrawing withdrawal withdrawal owing owing owing gaffe makes withdrawal withdrawal hus hus ameliorate materiality materiality nonessential nonessential nonessential preserving boggling boggling boggling menial importance objectivity neglecting neglecting neglecting neglecting neglecting neglecting neglecting neglecting neglecting neglecting neglecting seizes adopts proffer', 1.0619219491132894, nan)\n",
      "('defies withdrawing withdrawal withdrawal owing owing owing gaffe makes withdrawal withdrawal hus hus ameliorate materiality materiality nonessential nonessential nonessential preserving boggling boggling boggling menial importance objectivity neglecting neglecting neglecting neglecting neglecting neglecting neglecting neglecting neglecting neglecting neglecting seizes adopts proffer', 1.061956227266749, nan)\n",
      "('defies withdrawing withdrawal withdrawal owing owing owing gaffe makes withdrawal withdrawal hus hus ameliorate materiality materiality nonessential nonessential nonessential shopkeeper boggling boggling boggling menial importance objectivity neglecting neglecting neglecting neglecting neglecting neglecting neglecting neglecting neglecting neglecting neglecting seizes adopts proffer', 1.0608685532172855, nan)\n"
     ]
    },
    {
     "data": {
      "application/vnd.jupyter.widget-view+json": {
       "model_id": "4881d8a2890244e2ae7053cbabd0856c",
       "version_major": 2,
       "version_minor": 0
      },
      "text/plain": [
       "  0%|          | 0/30 [00:00<?, ?it/s]"
      ]
     },
     "metadata": {},
     "output_type": "display_data"
    },
    {
     "name": "stdout",
     "output_type": "stream",
     "text": [
      "0.47 0.5 0.5   \r"
     ]
    },
    {
     "ename": "ResourceExhaustedError",
     "evalue": " OOM when allocating tensor with shape[256,26,160] and type float on /job:localhost/replica:0/task:0/device:GPU:0 by allocator GPU_0_bfc\n\t [[node model_3/discriminator/dropout_14/dropout/random_uniform/RandomUniform (defined at <ipython-input-48-56139d85a6e8>:58) ]]\nHint: If you want to see a list of allocated tensors when OOM happens, add report_tensor_allocations_upon_oom to RunOptions for current allocation info.\n [Op:__forward_train_function_207654403]\n\nFunction call stack:\ntrain_function\n",
     "output_type": "error",
     "traceback": [
      "\u001b[0;31m---------------------------------------------------------------------------\u001b[0m",
      "\u001b[0;31mResourceExhaustedError\u001b[0m                    Traceback (most recent call last)",
      "\u001b[0;32m<ipython-input-48-56139d85a6e8>\u001b[0m in \u001b[0;36m<module>\u001b[0;34m\u001b[0m\n\u001b[1;32m     56\u001b[0m     \u001b[0;31m#         print(gan.train_on_batch(noise, [y_real_fake, noise[1]]))\u001b[0m\u001b[0;34m\u001b[0m\u001b[0;34m\u001b[0m\u001b[0;34m\u001b[0m\u001b[0m\n\u001b[1;32m     57\u001b[0m \u001b[0;34m\u001b[0m\u001b[0m\n\u001b[0;32m---> 58\u001b[0;31m             \u001b[0mloss\u001b[0m\u001b[0;34m,\u001b[0m \u001b[0m_\u001b[0m\u001b[0;34m,\u001b[0m \u001b[0m_\u001b[0m\u001b[0;34m,\u001b[0m \u001b[0maccuracy\u001b[0m \u001b[0;34m=\u001b[0m \u001b[0mgan\u001b[0m\u001b[0;34m.\u001b[0m\u001b[0mtrain_on_batch\u001b[0m\u001b[0;34m(\u001b[0m\u001b[0mnoise\u001b[0m\u001b[0;34m,\u001b[0m \u001b[0;34m[\u001b[0m\u001b[0my_real_fake\u001b[0m\u001b[0;34m,\u001b[0m \u001b[0mnoise\u001b[0m\u001b[0;34m[\u001b[0m\u001b[0;36m1\u001b[0m\u001b[0;34m]\u001b[0m\u001b[0;34m]\u001b[0m\u001b[0;34m)\u001b[0m\u001b[0;34m\u001b[0m\u001b[0;34m\u001b[0m\u001b[0m\n\u001b[0m\u001b[1;32m     59\u001b[0m             \u001b[0mgenerator_epochs\u001b[0m \u001b[0;34m+=\u001b[0m \u001b[0;36m1\u001b[0m\u001b[0;34m\u001b[0m\u001b[0;34m\u001b[0m\u001b[0m\n\u001b[1;32m     60\u001b[0m             \u001b[0maccuracy\u001b[0m \u001b[0;34m=\u001b[0m \u001b[0mtf\u001b[0m\u001b[0;34m.\u001b[0m\u001b[0mmath\u001b[0m\u001b[0;34m.\u001b[0m\u001b[0mreduce_mean\u001b[0m\u001b[0;34m(\u001b[0m\u001b[0mgan\u001b[0m\u001b[0;34m(\u001b[0m\u001b[0mnoise\u001b[0m\u001b[0;34m)\u001b[0m\u001b[0;34m[\u001b[0m\u001b[0;36m0\u001b[0m\u001b[0;34m]\u001b[0m\u001b[0;34m)\u001b[0m\u001b[0;34m\u001b[0m\u001b[0;34m\u001b[0m\u001b[0m\n",
      "\u001b[0;32m/usr/local/lib/python3.8/site-packages/tensorflow/python/keras/engine/training.py\u001b[0m in \u001b[0;36mtrain_on_batch\u001b[0;34m(self, x, y, sample_weight, class_weight, reset_metrics, return_dict)\u001b[0m\n\u001b[1;32m   1823\u001b[0m                                                     class_weight)\n\u001b[1;32m   1824\u001b[0m       \u001b[0mself\u001b[0m\u001b[0;34m.\u001b[0m\u001b[0mtrain_function\u001b[0m \u001b[0;34m=\u001b[0m \u001b[0mself\u001b[0m\u001b[0;34m.\u001b[0m\u001b[0mmake_train_function\u001b[0m\u001b[0;34m(\u001b[0m\u001b[0;34m)\u001b[0m\u001b[0;34m\u001b[0m\u001b[0;34m\u001b[0m\u001b[0m\n\u001b[0;32m-> 1825\u001b[0;31m       \u001b[0mlogs\u001b[0m \u001b[0;34m=\u001b[0m \u001b[0mself\u001b[0m\u001b[0;34m.\u001b[0m\u001b[0mtrain_function\u001b[0m\u001b[0;34m(\u001b[0m\u001b[0miterator\u001b[0m\u001b[0;34m)\u001b[0m\u001b[0;34m\u001b[0m\u001b[0;34m\u001b[0m\u001b[0m\n\u001b[0m\u001b[1;32m   1826\u001b[0m \u001b[0;34m\u001b[0m\u001b[0m\n\u001b[1;32m   1827\u001b[0m     \u001b[0;32mif\u001b[0m \u001b[0mreset_metrics\u001b[0m\u001b[0;34m:\u001b[0m\u001b[0;34m\u001b[0m\u001b[0;34m\u001b[0m\u001b[0m\n",
      "\u001b[0;32m/usr/local/lib/python3.8/site-packages/tensorflow/python/eager/def_function.py\u001b[0m in \u001b[0;36m__call__\u001b[0;34m(self, *args, **kwds)\u001b[0m\n\u001b[1;32m    887\u001b[0m \u001b[0;34m\u001b[0m\u001b[0m\n\u001b[1;32m    888\u001b[0m       \u001b[0;32mwith\u001b[0m \u001b[0mOptionalXlaContext\u001b[0m\u001b[0;34m(\u001b[0m\u001b[0mself\u001b[0m\u001b[0;34m.\u001b[0m\u001b[0m_jit_compile\u001b[0m\u001b[0;34m)\u001b[0m\u001b[0;34m:\u001b[0m\u001b[0;34m\u001b[0m\u001b[0;34m\u001b[0m\u001b[0m\n\u001b[0;32m--> 889\u001b[0;31m         \u001b[0mresult\u001b[0m \u001b[0;34m=\u001b[0m \u001b[0mself\u001b[0m\u001b[0;34m.\u001b[0m\u001b[0m_call\u001b[0m\u001b[0;34m(\u001b[0m\u001b[0;34m*\u001b[0m\u001b[0margs\u001b[0m\u001b[0;34m,\u001b[0m \u001b[0;34m**\u001b[0m\u001b[0mkwds\u001b[0m\u001b[0;34m)\u001b[0m\u001b[0;34m\u001b[0m\u001b[0;34m\u001b[0m\u001b[0m\n\u001b[0m\u001b[1;32m    890\u001b[0m \u001b[0;34m\u001b[0m\u001b[0m\n\u001b[1;32m    891\u001b[0m       \u001b[0mnew_tracing_count\u001b[0m \u001b[0;34m=\u001b[0m \u001b[0mself\u001b[0m\u001b[0;34m.\u001b[0m\u001b[0mexperimental_get_tracing_count\u001b[0m\u001b[0;34m(\u001b[0m\u001b[0;34m)\u001b[0m\u001b[0;34m\u001b[0m\u001b[0;34m\u001b[0m\u001b[0m\n",
      "\u001b[0;32m/usr/local/lib/python3.8/site-packages/tensorflow/python/eager/def_function.py\u001b[0m in \u001b[0;36m_call\u001b[0;34m(self, *args, **kwds)\u001b[0m\n\u001b[1;32m    915\u001b[0m       \u001b[0;31m# In this case we have created variables on the first call, so we run the\u001b[0m\u001b[0;34m\u001b[0m\u001b[0;34m\u001b[0m\u001b[0;34m\u001b[0m\u001b[0m\n\u001b[1;32m    916\u001b[0m       \u001b[0;31m# defunned version which is guaranteed to never create variables.\u001b[0m\u001b[0;34m\u001b[0m\u001b[0;34m\u001b[0m\u001b[0;34m\u001b[0m\u001b[0m\n\u001b[0;32m--> 917\u001b[0;31m       \u001b[0;32mreturn\u001b[0m \u001b[0mself\u001b[0m\u001b[0;34m.\u001b[0m\u001b[0m_stateless_fn\u001b[0m\u001b[0;34m(\u001b[0m\u001b[0;34m*\u001b[0m\u001b[0margs\u001b[0m\u001b[0;34m,\u001b[0m \u001b[0;34m**\u001b[0m\u001b[0mkwds\u001b[0m\u001b[0;34m)\u001b[0m  \u001b[0;31m# pylint: disable=not-callable\u001b[0m\u001b[0;34m\u001b[0m\u001b[0;34m\u001b[0m\u001b[0m\n\u001b[0m\u001b[1;32m    918\u001b[0m     \u001b[0;32melif\u001b[0m \u001b[0mself\u001b[0m\u001b[0;34m.\u001b[0m\u001b[0m_stateful_fn\u001b[0m \u001b[0;32mis\u001b[0m \u001b[0;32mnot\u001b[0m \u001b[0;32mNone\u001b[0m\u001b[0;34m:\u001b[0m\u001b[0;34m\u001b[0m\u001b[0;34m\u001b[0m\u001b[0m\n\u001b[1;32m    919\u001b[0m       \u001b[0;31m# Release the lock early so that multiple threads can perform the call\u001b[0m\u001b[0;34m\u001b[0m\u001b[0;34m\u001b[0m\u001b[0;34m\u001b[0m\u001b[0m\n",
      "\u001b[0;32m/usr/local/lib/python3.8/site-packages/tensorflow/python/eager/function.py\u001b[0m in \u001b[0;36m__call__\u001b[0;34m(self, *args, **kwargs)\u001b[0m\n\u001b[1;32m   3021\u001b[0m       (graph_function,\n\u001b[1;32m   3022\u001b[0m        filtered_flat_args) = self._maybe_define_function(args, kwargs)\n\u001b[0;32m-> 3023\u001b[0;31m     return graph_function._call_flat(\n\u001b[0m\u001b[1;32m   3024\u001b[0m         filtered_flat_args, captured_inputs=graph_function.captured_inputs)  # pylint: disable=protected-access\n\u001b[1;32m   3025\u001b[0m \u001b[0;34m\u001b[0m\u001b[0m\n",
      "\u001b[0;32m/usr/local/lib/python3.8/site-packages/tensorflow/python/eager/function.py\u001b[0m in \u001b[0;36m_call_flat\u001b[0;34m(self, args, captured_inputs, cancellation_manager)\u001b[0m\n\u001b[1;32m   1966\u001b[0m     \u001b[0mforward_function\u001b[0m\u001b[0;34m,\u001b[0m \u001b[0margs_with_tangents\u001b[0m \u001b[0;34m=\u001b[0m \u001b[0mforward_backward\u001b[0m\u001b[0;34m.\u001b[0m\u001b[0mforward\u001b[0m\u001b[0;34m(\u001b[0m\u001b[0;34m)\u001b[0m\u001b[0;34m\u001b[0m\u001b[0;34m\u001b[0m\u001b[0m\n\u001b[1;32m   1967\u001b[0m     \u001b[0;32mif\u001b[0m \u001b[0mexecuting_eagerly\u001b[0m\u001b[0;34m:\u001b[0m\u001b[0;34m\u001b[0m\u001b[0;34m\u001b[0m\u001b[0m\n\u001b[0;32m-> 1968\u001b[0;31m       flat_outputs = forward_function.call(\n\u001b[0m\u001b[1;32m   1969\u001b[0m           ctx, args_with_tangents, cancellation_manager=cancellation_manager)\n\u001b[1;32m   1970\u001b[0m     \u001b[0;32melse\u001b[0m\u001b[0;34m:\u001b[0m\u001b[0;34m\u001b[0m\u001b[0;34m\u001b[0m\u001b[0m\n",
      "\u001b[0;32m/usr/local/lib/python3.8/site-packages/tensorflow/python/eager/function.py\u001b[0m in \u001b[0;36mcall\u001b[0;34m(self, ctx, args, cancellation_manager)\u001b[0m\n\u001b[1;32m    589\u001b[0m       \u001b[0;32mwith\u001b[0m \u001b[0m_InterpolateFunctionError\u001b[0m\u001b[0;34m(\u001b[0m\u001b[0mself\u001b[0m\u001b[0;34m)\u001b[0m\u001b[0;34m:\u001b[0m\u001b[0;34m\u001b[0m\u001b[0;34m\u001b[0m\u001b[0m\n\u001b[1;32m    590\u001b[0m         \u001b[0;32mif\u001b[0m \u001b[0mcancellation_manager\u001b[0m \u001b[0;32mis\u001b[0m \u001b[0;32mNone\u001b[0m\u001b[0;34m:\u001b[0m\u001b[0;34m\u001b[0m\u001b[0;34m\u001b[0m\u001b[0m\n\u001b[0;32m--> 591\u001b[0;31m           outputs = execute.execute(\n\u001b[0m\u001b[1;32m    592\u001b[0m               \u001b[0mstr\u001b[0m\u001b[0;34m(\u001b[0m\u001b[0mself\u001b[0m\u001b[0;34m.\u001b[0m\u001b[0msignature\u001b[0m\u001b[0;34m.\u001b[0m\u001b[0mname\u001b[0m\u001b[0;34m)\u001b[0m\u001b[0;34m,\u001b[0m\u001b[0;34m\u001b[0m\u001b[0;34m\u001b[0m\u001b[0m\n\u001b[1;32m    593\u001b[0m               \u001b[0mnum_outputs\u001b[0m\u001b[0;34m=\u001b[0m\u001b[0mself\u001b[0m\u001b[0;34m.\u001b[0m\u001b[0m_num_outputs\u001b[0m\u001b[0;34m,\u001b[0m\u001b[0;34m\u001b[0m\u001b[0;34m\u001b[0m\u001b[0m\n",
      "\u001b[0;32m/usr/local/lib/python3.8/site-packages/tensorflow/python/eager/execute.py\u001b[0m in \u001b[0;36mquick_execute\u001b[0;34m(op_name, num_outputs, inputs, attrs, ctx, name)\u001b[0m\n\u001b[1;32m     57\u001b[0m   \u001b[0;32mtry\u001b[0m\u001b[0;34m:\u001b[0m\u001b[0;34m\u001b[0m\u001b[0;34m\u001b[0m\u001b[0m\n\u001b[1;32m     58\u001b[0m     \u001b[0mctx\u001b[0m\u001b[0;34m.\u001b[0m\u001b[0mensure_initialized\u001b[0m\u001b[0;34m(\u001b[0m\u001b[0;34m)\u001b[0m\u001b[0;34m\u001b[0m\u001b[0;34m\u001b[0m\u001b[0m\n\u001b[0;32m---> 59\u001b[0;31m     tensors = pywrap_tfe.TFE_Py_Execute(ctx._handle, device_name, op_name,\n\u001b[0m\u001b[1;32m     60\u001b[0m                                         inputs, attrs, num_outputs)\n\u001b[1;32m     61\u001b[0m   \u001b[0;32mexcept\u001b[0m \u001b[0mcore\u001b[0m\u001b[0;34m.\u001b[0m\u001b[0m_NotOkStatusException\u001b[0m \u001b[0;32mas\u001b[0m \u001b[0me\u001b[0m\u001b[0;34m:\u001b[0m\u001b[0;34m\u001b[0m\u001b[0;34m\u001b[0m\u001b[0m\n",
      "\u001b[0;31mResourceExhaustedError\u001b[0m:  OOM when allocating tensor with shape[256,26,160] and type float on /job:localhost/replica:0/task:0/device:GPU:0 by allocator GPU_0_bfc\n\t [[node model_3/discriminator/dropout_14/dropout/random_uniform/RandomUniform (defined at <ipython-input-48-56139d85a6e8>:58) ]]\nHint: If you want to see a list of allocated tensors when OOM happens, add report_tensor_allocations_upon_oom to RunOptions for current allocation info.\n [Op:__forward_train_function_207654403]\n\nFunction call stack:\ntrain_function\n"
     ]
    }
   ],
   "source": [
    "import tensorflow as tf\n",
    "generator_acc_follow = []\n",
    "generator_accuracy_cumulative = 0.5\n",
    "discriminator_accuracy_cumulative = 0.5\n",
    "generator_epochs = 0\n",
    "loss_cumulative = 1\n",
    "BATCH_SIZE = 256\n",
    "data = DataGenerator(labels, sentences, batches_per_epoch=30, batch_size=BATCH_SIZE)\n",
    "\n",
    "for epoch in range(300):\n",
    "    print()\n",
    "    generated_from_noise = generator(FIXED_NOISE)\n",
    "    if epoch % 1 == 0:\n",
    "        for example in generated_from_noise:\n",
    "            print(message_recovery_with_metric(example))\n",
    "    if all(message_recovery_with_metric(example)[0] == sentences[0] for example in generated_from_noise):\n",
    "        print(f'training_finished in {generator_epochs} epochs')\n",
    "        break\n",
    "    # save_models()\n",
    "\n",
    "    for sent_batch, labels_batch in data:\n",
    "        ##########################\n",
    "        # discriminator training #\n",
    "        ##########################\n",
    "        noise = data.rand_batch()\n",
    "        generated_texts = generator(noise)\n",
    "        # X\n",
    "        X = np.concatenate([sent_batch, generated_texts])\n",
    "        # target valuest smoothing\n",
    "        y_real = np.random.uniform(0.8, 1, size=[BATCH_SIZE])\n",
    "        y_real = np.ones((BATCH_SIZE,))\n",
    "        y_fake = np.random.uniform(0, 0.2, size=[BATCH_SIZE])\n",
    "        y_fake = np.zeros((BATCH_SIZE,))\n",
    "        # Y\n",
    "        y_real_fake = np.concatenate([y_real, y_fake])\n",
    "        y_labels = np.concatenate([labels_batch, np.zeros((BATCH_SIZE, len(le.classes_)))]) \n",
    "        \n",
    "#         print(discriminator.train_on_batch(X, [y_real_fake, np.array(y_labels)]))\n",
    "        discriminator.trainable = True\n",
    "        loss, _, _, accuracy = discriminator.train_on_batch(X, [y_real_fake, np.array(y_labels)])\n",
    "        # print('1', loss, accuracy, discriminator(sent_batch)[0])\n",
    "        discriminator_accuracy_cumulative = 0.99 * discriminator_accuracy_cumulative + 0.01 * accuracy\n",
    "        generator_accuracy_cumulative = 1 - discriminator_accuracy_cumulative\n",
    "        \n",
    "        ######################\n",
    "        # generator training #\n",
    "        ######################\n",
    "        discriminator.trainable = False\n",
    "        while True:\n",
    "            noise = data.rand_batch()\n",
    "            # target values\n",
    "    #         y_real_fake = np.random.uniform(0.9, 1.0, size=[BATCH_SIZE])\n",
    "            y_real_fake = np.ones((BATCH_SIZE,))\n",
    "\n",
    "            # train GAN and save accuracy to array\n",
    "    #         print(gan.train_on_batch(noise, [y_real_fake, noise[1]]))\n",
    "\n",
    "            loss, _, _, accuracy = gan.train_on_batch(noise, [y_real_fake, noise[1]])\n",
    "            generator_epochs += 1\n",
    "            accuracy = tf.math.reduce_mean(gan(noise)[0])\n",
    "            # print('3', loss, accuracy)\n",
    "\n",
    "            generator_accuracy_cumulative = 0.99 * generator_accuracy_cumulative + 0.01 * accuracy\n",
    "            discriminator_accuracy_cumulative = 1 - generator_accuracy_cumulative\n",
    "            print( \n",
    "                round(float(loss), 2),\n",
    "                round(float(generator_accuracy_cumulative), 2),\n",
    "                round(float(discriminator_accuracy_cumulative), 2),\n",
    "                end='   \\r',\n",
    "            )\n",
    "            if generator_accuracy_cumulative > 0.5:\n",
    "                break\n",
    "#     print()\n",
    "#     if epoch%10==0:\n",
    "#         generated_from_noise = generator(FIXED_NOISE)\n",
    "#         for example in generated_from_noise:\n",
    "#             print(message_recovery_with_metric(example))\n",
    "        "
   ]
  },
  {
   "cell_type": "markdown",
   "metadata": {},
   "source": [
    "training_finished in 2775 epochs - with 128 batch size, 1 sample size"
   ]
  },
  {
   "cell_type": "markdown",
   "metadata": {},
   "source": [
    "expected: any death news in times of india"
   ]
  },
  {
   "cell_type": "code",
   "execution_count": null,
   "metadata": {},
   "outputs": [],
   "source": [
    "discriminator.train_on_batch(X, [y_real_fake, np.array(y_labels)])\n",
    "y_labels"
   ]
  },
  {
   "cell_type": "code",
   "execution_count": null,
   "metadata": {},
   "outputs": [],
   "source": [
    "labels_batch, np.zeros((BATCH_SIZE, len(le.classes_)))"
   ]
  },
  {
   "cell_type": "code",
   "execution_count": null,
   "metadata": {},
   "outputs": [],
   "source": [
    "float(loss)"
   ]
  },
  {
   "cell_type": "code",
   "execution_count": null,
   "metadata": {},
   "outputs": [],
   "source": [
    "for sent, lbl in data:\n",
    "    print(sent[0][0])\n",
    "    print(sent[0][-1])\n",
    "    break"
   ]
  },
  {
   "cell_type": "code",
   "execution_count": null,
   "metadata": {},
   "outputs": [],
   "source": [
    "generated_from_noise = generator(FIXED_NOISE)\n",
    "print(generated_from_noise[-1][0])\n",
    "print(generated_from_noise[-1][-1])"
   ]
  },
  {
   "cell_type": "code",
   "execution_count": null,
   "metadata": {},
   "outputs": [],
   "source": [
    "generated_from_noise = generator.forward(*FIXED_NOISE)\n",
    "generated_from_noise[0][-1]"
   ]
  },
  {
   "cell_type": "code",
   "execution_count": null,
   "metadata": {},
   "outputs": [],
   "source": []
  },
  {
   "cell_type": "code",
   "execution_count": null,
   "metadata": {},
   "outputs": [],
   "source": []
  },
  {
   "cell_type": "code",
   "execution_count": null,
   "metadata": {},
   "outputs": [],
   "source": []
  },
  {
   "cell_type": "code",
   "execution_count": null,
   "metadata": {},
   "outputs": [],
   "source": []
  },
  {
   "cell_type": "code",
   "execution_count": null,
   "metadata": {},
   "outputs": [],
   "source": []
  }
 ],
 "metadata": {
  "kernelspec": {
   "display_name": "Python 3 (ipykernel)",
   "language": "python",
   "name": "python3"
  },
  "language_info": {
   "codemirror_mode": {
    "name": "ipython",
    "version": 3
   },
   "file_extension": ".py",
   "mimetype": "text/x-python",
   "name": "python",
   "nbconvert_exporter": "python",
   "pygments_lexer": "ipython3",
   "version": "3.9.6"
  }
 },
 "nbformat": 4,
 "nbformat_minor": 4
}
