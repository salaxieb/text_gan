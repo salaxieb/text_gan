{
 "cells": [
  {
   "cell_type": "code",
   "execution_count": 1,
   "metadata": {},
   "outputs": [
    {
     "name": "stdout",
     "output_type": "stream",
     "text": [
      "Mon Aug 15 22:27:55 2022       \n",
      "+-----------------------------------------------------------------------------+\n",
      "| NVIDIA-SMI 450.51.05    Driver Version: 450.51.05    CUDA Version: 11.2     |\n",
      "|-------------------------------+----------------------+----------------------+\n",
      "| GPU  Name        Persistence-M| Bus-Id        Disp.A | Volatile Uncorr. ECC |\n",
      "| Fan  Temp  Perf  Pwr:Usage/Cap|         Memory-Usage | GPU-Util  Compute M. |\n",
      "|                               |                      |               MIG M. |\n",
      "|===============================+======================+======================|\n",
      "|   0  Tesla P100-PCIE...  Off  | 00000000:5E:00.0 Off |                    0 |\n",
      "| N/A   44C    P0    27W / 250W |      0MiB / 16280MiB |      0%      Default |\n",
      "|                               |                      |                  N/A |\n",
      "+-------------------------------+----------------------+----------------------+\n",
      "|   1  Tesla P100-PCIE...  Off  | 00000000:D8:00.0 Off |                    0 |\n",
      "| N/A   30C    P0    25W / 250W |      0MiB / 16280MiB |      0%      Default |\n",
      "|                               |                      |                  N/A |\n",
      "+-------------------------------+----------------------+----------------------+\n",
      "                                                                               \n",
      "+-----------------------------------------------------------------------------+\n",
      "| Processes:                                                                  |\n",
      "|  GPU   GI   CI        PID   Type   Process name                  GPU Memory |\n",
      "|        ID   ID                                                   Usage      |\n",
      "|=============================================================================|\n",
      "|  No running processes found                                                 |\n",
      "+-----------------------------------------------------------------------------+\n"
     ]
    }
   ],
   "source": [
    "!nvidia-smi"
   ]
  },
  {
   "cell_type": "code",
   "execution_count": 2,
   "metadata": {},
   "outputs": [],
   "source": [
    "import numpy as np\n",
    "from tqdm.notebook import tqdm"
   ]
  },
  {
   "cell_type": "code",
   "execution_count": 5,
   "metadata": {},
   "outputs": [],
   "source": [
    "import os\n",
    "import re\n",
    "from conllu import parse_incr\n",
    "from sklearn.preprocessing import LabelEncoder\n",
    "from sklearn.preprocessing import OneHotEncoder\n",
    "\n",
    "files = {'train': ['ru_syntagrus-ud-train-a.conllu', 'ru_syntagrus-ud-train-b.conllu', 'ru_syntagrus-ud-train-c.conllu'],\n",
    "         'test':  ['ru_syntagrus-ud-test.conllu'],\n",
    "         'dev':   ['ru_syntagrus-ud-dev.conllu']}\n",
    "\n",
    "labels = []\n",
    "sentences = []\n",
    "for data_type in files:\n",
    "    for filename in files[data_type]: \n",
    "        with open(os.path.join('UD_Russian-SynTagRus', filename), encoding='utf-8') as f:\n",
    "            parsed = parse_incr(f)\n",
    "            for token_list in parsed:\n",
    "                topic_name = token_list.metadata['sent_id'].split('.')[0]\n",
    "                # уберём цифры из названий темы\n",
    "                topic_name = re.sub(r'\\d+', '', topic_name)\n",
    "                sentence = ' '.join([token['form'] for token in token_list]).lower()\n",
    "                labels.append(topic_name)\n",
    "                sentences.append(sentence)\n",
    "\n",
    "le = LabelEncoder()\n",
    "ohe = OneHotEncoder()\n",
    "ohe.fit(le.fit_transform(labels).reshape(-1, 1))\n",
    "\n",
    "labels = np.array(labels)\n",
    "sentences = np.array(sentences)"
   ]
  },
  {
   "cell_type": "markdown",
   "metadata": {},
   "source": [
    "# оставляем только 1 пример"
   ]
  },
  {
   "cell_type": "code",
   "execution_count": 6,
   "metadata": {},
   "outputs": [
    {
     "data": {
      "text/plain": [
       "(array(['Anketa'], dtype='<U53'),\n",
       " array(['однако стиль работы семена еремеевича заключался в том , чтобы принимать всех желающих и лично вникать в дело .'],\n",
       "       dtype='<U1218'))"
      ]
     },
     "execution_count": 6,
     "metadata": {},
     "output_type": "execute_result"
    }
   ],
   "source": [
    "labels = labels[3:4]\n",
    "sentences = sentences[3:4]\n",
    "labels, sentences"
   ]
  },
  {
   "cell_type": "code",
   "execution_count": 5,
   "metadata": {},
   "outputs": [
    {
     "data": {
      "text/plain": [
       "19"
      ]
     },
     "execution_count": 5,
     "metadata": {},
     "output_type": "execute_result"
    }
   ],
   "source": [
    "max_len = -1\n",
    "lengths = []\n",
    "for message in sentences:\n",
    "    max_len = len(message.split()) if len(message.split()) > max_len else max_len\n",
    "    lengths.append(len(message.split()))\n",
    "max_len"
   ]
  },
  {
   "cell_type": "code",
   "execution_count": 6,
   "metadata": {},
   "outputs": [
    {
     "data": {
      "image/png": "[encoded data removed]",
      "text/plain": [
       "<Figure size 432x288 with 1 Axes>"
      ]
     },
     "metadata": {
      "needs_background": "light"
     },
     "output_type": "display_data"
    }
   ],
   "source": [
    "import matplotlib.pyplot as plt\n",
    "plt.hist(lengths, bins=100)\n",
    "plt.show()"
   ]
  },
  {
   "cell_type": "code",
   "execution_count": 7,
   "metadata": {},
   "outputs": [],
   "source": [
    "TARGET_LEN = 52\n",
    "EMBEDDING_SIZE = 200"
   ]
  },
  {
   "cell_type": "markdown",
   "metadata": {},
   "source": [
    "# !!!ЭМБЕДИНГИ НЕ КАЧЕСТВЕННЫЕ, не сдавайся"
   ]
  },
  {
   "cell_type": "code",
   "execution_count": 8,
   "metadata": {},
   "outputs": [],
   "source": [
    "import pickle\n",
    "with open('word2vec_100.pkl', 'rb') as rf:\n",
    "    W2V_100 = pickle.load(rf)\n",
    "with open('fasttext_100.pkl', 'rb') as rf:\n",
    "    FT_100 = pickle.load(rf)"
   ]
  },
  {
   "cell_type": "code",
   "execution_count": 9,
   "metadata": {},
   "outputs": [
    {
     "data": {
      "text/plain": [
       "([('накрахмаленных', 0.81927490234375),\n",
       "  (';', 0.8096592426300049),\n",
       "  ('рядовыми', 0.8064565062522888),\n",
       "  ('чеченская', 0.7928946018218994),\n",
       "  ('соцстранах', 0.7922433614730835),\n",
       "  ('дымящих', 0.7861340641975403),\n",
       "  ('одиночного', 0.7822094559669495),\n",
       "  ('наркотикам', 0.7802185416221619),\n",
       "  ('линейный', 0.7785296440124512),\n",
       "  ('качественную', 0.7770684361457825)],\n",
       " [('он', 0.9201070070266724),\n",
       "  ('уж', 0.8810179829597473),\n",
       "  ('мыл', 0.8596895933151245),\n",
       "  ('мышь', 0.8507342338562012),\n",
       "  ('онф', 0.8464065194129944),\n",
       "  ('мне', 0.8424739241600037),\n",
       "  ('даешь', 0.838414192199707),\n",
       "  ('он-лайн', 0.8318077921867371),\n",
       "  ('ешь', 0.8273506760597229),\n",
       "  ('да', 0.8267568349838257)])"
      ]
     },
     "execution_count": 9,
     "metadata": {},
     "output_type": "execute_result"
    }
   ],
   "source": [
    "W2V_100.wv.most_similar(positive='.'), FT_100.wv.most_similar('я')"
   ]
  },
  {
   "cell_type": "code",
   "execution_count": 10,
   "metadata": {},
   "outputs": [],
   "source": [
    "def pad_sequences(sequence, target_len: int=20, embedding_size: int=300) -> np.array:\n",
    "    sequence = np.array(sequence)\n",
    "    if sequence.size == 0:\n",
    "        # empty array\n",
    "        current_length = 0\n",
    "        return np.zeros((target_len, embedding_size))\n",
    "    elif len(sequence.shape) == 1:\n",
    "        sequence = np.array([sequence])\n",
    "        current_length = 1\n",
    "    else:\n",
    "        current_length = sequence.shape[0]\n",
    "        \n",
    "    if current_length >= target_len:\n",
    "        return sequence[-target_len:]\n",
    "    \n",
    "    # padding = np.random.uniform(size=(target_len - current_length, embedding_size))\n",
    "    padding = np.zeros((target_len - current_length, embedding_size))\n",
    "    return np.concatenate((padding, sequence), axis=0)"
   ]
  },
  {
   "cell_type": "code",
   "execution_count": 11,
   "metadata": {},
   "outputs": [],
   "source": [
    "from tqdm.notebook import tqdm\n",
    "def vectorize_sentence(sentence):\n",
    "    vec = []\n",
    "    for token in sentence.split():\n",
    "        tkn_vec = np.concatenate((W2V_100.wv[token], FT_100.wv[token]), axis=0)\n",
    "        vec.append(tkn_vec)\n",
    "    return pad_sequences(vec, target_len=TARGET_LEN, embedding_size=EMBEDDING_SIZE)"
   ]
  },
  {
   "cell_type": "code",
   "execution_count": 12,
   "metadata": {},
   "outputs": [
    {
     "data": {
      "text/plain": [
       "[array(['однако стиль работы семена еремеевича заключался в том , чтобы принимать всех желающих и лично вникать в дело .'],\n",
       "       dtype='<U1218'),\n",
       " array(['Anketa'], dtype='<U53')]"
      ]
     },
     "execution_count": 12,
     "metadata": {},
     "output_type": "execute_result"
    }
   ],
   "source": [
    "RANDOM_DIM = 100\n",
    "\n",
    "\n",
    "class DataGenerator():\n",
    "    def __init__(self, labels, sentences, batches_per_epoch, batch_size):\n",
    "        self.train_sentences = sentences\n",
    "        self.train_labels = labels\n",
    "        self.batches_per_epoch = batches_per_epoch\n",
    "        self.batch_size = batch_size\n",
    "    \n",
    "    @staticmethod\n",
    "    def rand_norm(npoints=1, ndim=RANDOM_DIM):\n",
    "        rand_vec = np.random.normal(0, 1, size=[npoints, ndim])\n",
    "        return rand_vec\n",
    "\n",
    "    def __len__(self):\n",
    "        return self.batches_per_epoch\n",
    "\n",
    "    def batch(self):\n",
    "        rand_sentences_indexes = np.random.randint(0, self.train_sentences.shape[0], size=self.batch_size)\n",
    "        sent_batch = np.array([vectorize_sentence(sent) for sent in self.train_sentences[rand_sentences_indexes]])\n",
    "        labels_batch = ohe.transform(le.transform(self.train_labels[rand_sentences_indexes]).reshape(-1, 1)).todense()\n",
    "        return sent_batch, labels_batch\n",
    "\n",
    "    def __iter__(self):\n",
    "        for b in tqdm(range(self.batches_per_epoch), leave=False):\n",
    "            yield self.batch()\n",
    "\n",
    "    def rand_batch(self):\n",
    "        rand_vec = self.rand_norm(self.batch_size)\n",
    "        # for training generator with label\n",
    "        rand_labels = np.random.randint(0, len(le.classes_), size=[self.batch_size])\n",
    "        rand_labels = ohe.transform(rand_labels.reshape(-1, 1)).todense()\n",
    "        return (rand_vec, rand_labels)\n",
    "\n",
    "    \n",
    "np.random.seed(42)\n",
    "sent_indexes = np.random.randint(0, len(sentences), size=1)\n",
    "MESSAGES_FROM_DATASET = [sentences[sent_indexes], labels[sent_indexes]]\n",
    "FIXED_NOISE = [DataGenerator.rand_norm(1), ohe.transform(le.transform(labels[sent_indexes]).reshape(-1, 1)).todense()]\n",
    "MESSAGES_FROM_DATASET"
   ]
  },
  {
   "cell_type": "markdown",
   "metadata": {},
   "source": [
    "# GENERATOR"
   ]
  },
  {
   "cell_type": "code",
   "execution_count": 13,
   "metadata": {},
   "outputs": [
    {
     "name": "stdout",
     "output_type": "stream",
     "text": [
      "(3, 52, 200)\n"
     ]
    },
    {
     "data": {
      "image/png": "[encoded data removed]",
      "text/plain": [
       "<Figure size 432x288 with 2 Axes>"
      ]
     },
     "metadata": {
      "needs_background": "light"
     },
     "output_type": "display_data"
    }
   ],
   "source": [
    "import tensorflow as tf\n",
    "\n",
    "def get_angles(pos, i, d_model):\n",
    "    angle_rates = 1 / np.power(50, (2 * (i//2)) / np.float32(d_model))\n",
    "    return pos * angle_rates\n",
    "\n",
    "def give_pe(batch_size, position, d_model):\n",
    "    angle_rads = get_angles(np.arange(position)[:, np.newaxis],\n",
    "                          np.arange(d_model)[np.newaxis, :],\n",
    "                          d_model)\n",
    "\n",
    "    # apply sin to even indices in the array; 2i\n",
    "    angle_rads[:, 0::2] = np.sin(angle_rads[:, 0::2])\n",
    "\n",
    "    # apply cos to odd indices in the array; 2i+1\n",
    "    angle_rads[:, 1::2] = np.cos(angle_rads[:, 1::2])\n",
    "    # angle_rads = angle_rads[np.newaxis, ...]\n",
    "\n",
    "    return tf.constant([angle_rads for _ in range(batch_size)])\n",
    "\n",
    "b, n, d = 3, 52, 200\n",
    "pos_encoding = give_pe(b, n, d)\n",
    "\n",
    "print(pos_encoding.shape)\n",
    "pos_encoding = pos_encoding[0]\n",
    "\n",
    "# Juggle the dimensions for the plot\n",
    "pos_encoding = tf.reshape(pos_encoding, (n, d//2, 2))\n",
    "pos_encoding = tf.transpose(pos_encoding, (2, 1, 0))\n",
    "pos_encoding = tf.reshape(pos_encoding, (d, n))\n",
    "\n",
    "plt.pcolormesh(pos_encoding, cmap='RdBu')\n",
    "plt.ylabel('Depth')\n",
    "plt.xlabel('Position')\n",
    "plt.colorbar()\n",
    "plt.show()"
   ]
  },
  {
   "cell_type": "code",
   "execution_count": 25,
   "metadata": {},
   "outputs": [
    {
     "name": "stdout",
     "output_type": "stream",
     "text": [
      "Model: \"model_2\"\n",
      "__________________________________________________________________________________________________\n",
      "Layer (type)                    Output Shape         Param #     Connected to                     \n",
      "==================================================================================================\n",
      "input_5 (InputLayer)            [(None, 100)]        0                                            \n",
      "__________________________________________________________________________________________________\n",
      "input_6 (InputLayer)            [(None, 579)]        0                                            \n",
      "__________________________________________________________________________________________________\n",
      "concatenate_6 (Concatenate)     (None, 679)          0           input_5[0][0]                    \n",
      "                                                                 input_6[0][0]                    \n",
      "__________________________________________________________________________________________________\n",
      "dense_6 (Dense)                 (None, 2340)         1591200     concatenate_6[0][0]              \n",
      "__________________________________________________________________________________________________\n",
      "batch_normalization_9 (BatchNor (None, 2340)         9360        dense_6[0][0]                    \n",
      "__________________________________________________________________________________________________\n",
      "leaky_re_lu_23 (LeakyReLU)      (None, 2340)         0           batch_normalization_9[0][0]      \n",
      "__________________________________________________________________________________________________\n",
      "reshape_1 (Reshape)             (None, 13, 180)      0           leaky_re_lu_23[0][0]             \n",
      "__________________________________________________________________________________________________\n",
      "conv1d_transpose_8 (Conv1DTrans (None, 13, 90)       48690       reshape_1[0][0]                  \n",
      "__________________________________________________________________________________________________\n",
      "batch_normalization_10 (BatchNo (None, 13, 90)       360         conv1d_transpose_8[0][0]         \n",
      "__________________________________________________________________________________________________\n",
      "leaky_re_lu_24 (LeakyReLU)      (None, 13, 90)       0           batch_normalization_10[0][0]     \n",
      "__________________________________________________________________________________________________\n",
      "conv1d_transpose_9 (Conv1DTrans (None, 26, 180)      48780       leaky_re_lu_24[0][0]             \n",
      "__________________________________________________________________________________________________\n",
      "batch_normalization_11 (BatchNo (None, 26, 180)      720         conv1d_transpose_9[0][0]         \n",
      "__________________________________________________________________________________________________\n",
      "leaky_re_lu_25 (LeakyReLU)      (None, 26, 180)      0           batch_normalization_11[0][0]     \n",
      "__________________________________________________________________________________________________\n",
      "tf.compat.v1.shape_5 (TFOpLambd (3,)                 0           leaky_re_lu_25[0][0]             \n",
      "__________________________________________________________________________________________________\n",
      "tf.__operators__.getitem_5 (Sli ()                   0           tf.compat.v1.shape_5[0][0]       \n",
      "__________________________________________________________________________________________________\n",
      "tf.tile_5 (TFOpLambda)          (None, 26, 200)      0           tf.__operators__.getitem_5[0][0] \n",
      "__________________________________________________________________________________________________\n",
      "concatenate_7 (Concatenate)     (None, 26, 380)      0           leaky_re_lu_25[0][0]             \n",
      "                                                                 tf.tile_5[0][0]                  \n",
      "__________________________________________________________________________________________________\n",
      "conv1d_transpose_10 (Conv1DTran (None, 52, 180)      205380      concatenate_7[0][0]              \n",
      "__________________________________________________________________________________________________\n",
      "batch_normalization_12 (BatchNo (None, 52, 180)      720         conv1d_transpose_10[0][0]        \n",
      "__________________________________________________________________________________________________\n",
      "leaky_re_lu_26 (LeakyReLU)      (None, 52, 180)      0           batch_normalization_12[0][0]     \n",
      "__________________________________________________________________________________________________\n",
      "tf.compat.v1.shape_6 (TFOpLambd (3,)                 0           leaky_re_lu_26[0][0]             \n",
      "__________________________________________________________________________________________________\n",
      "tf.__operators__.getitem_6 (Sli ()                   0           tf.compat.v1.shape_6[0][0]       \n",
      "__________________________________________________________________________________________________\n",
      "tf.tile_6 (TFOpLambda)          (None, 52, 200)      0           tf.__operators__.getitem_6[0][0] \n",
      "__________________________________________________________________________________________________\n",
      "concatenate_8 (Concatenate)     (None, 52, 380)      0           leaky_re_lu_26[0][0]             \n",
      "                                                                 tf.tile_6[0][0]                  \n",
      "__________________________________________________________________________________________________\n",
      "conv1d_transpose_11 (Conv1DTran (None, 52, 180)      205380      concatenate_8[0][0]              \n",
      "__________________________________________________________________________________________________\n",
      "batch_normalization_13 (BatchNo (None, 52, 180)      720         conv1d_transpose_11[0][0]        \n",
      "__________________________________________________________________________________________________\n",
      "leaky_re_lu_27 (LeakyReLU)      (None, 52, 180)      0           batch_normalization_13[0][0]     \n",
      "__________________________________________________________________________________________________\n",
      "tf.compat.v1.shape_7 (TFOpLambd (3,)                 0           leaky_re_lu_27[0][0]             \n",
      "__________________________________________________________________________________________________\n",
      "tf.__operators__.getitem_7 (Sli ()                   0           tf.compat.v1.shape_7[0][0]       \n",
      "__________________________________________________________________________________________________\n",
      "tf.tile_7 (TFOpLambda)          (None, 52, 200)      0           tf.__operators__.getitem_7[0][0] \n",
      "__________________________________________________________________________________________________\n",
      "concatenate_9 (Concatenate)     (None, 52, 380)      0           leaky_re_lu_27[0][0]             \n",
      "                                                                 tf.tile_7[0][0]                  \n",
      "__________________________________________________________________________________________________\n",
      "conv1d_transpose_12 (Conv1DTran (None, 52, 180)      205380      concatenate_9[0][0]              \n",
      "__________________________________________________________________________________________________\n",
      "batch_normalization_14 (BatchNo (None, 52, 180)      720         conv1d_transpose_12[0][0]        \n",
      "__________________________________________________________________________________________________\n",
      "leaky_re_lu_28 (LeakyReLU)      (None, 52, 180)      0           batch_normalization_14[0][0]     \n",
      "__________________________________________________________________________________________________\n",
      "tf.compat.v1.shape_8 (TFOpLambd (3,)                 0           leaky_re_lu_28[0][0]             \n",
      "__________________________________________________________________________________________________\n",
      "tf.__operators__.getitem_8 (Sli ()                   0           tf.compat.v1.shape_8[0][0]       \n",
      "__________________________________________________________________________________________________\n",
      "tf.tile_8 (TFOpLambda)          (None, 52, 200)      0           tf.__operators__.getitem_8[0][0] \n",
      "__________________________________________________________________________________________________\n",
      "concatenate_10 (Concatenate)    (None, 52, 380)      0           leaky_re_lu_28[0][0]             \n",
      "                                                                 tf.tile_8[0][0]                  \n",
      "__________________________________________________________________________________________________\n",
      "conv1d_transpose_13 (Conv1DTran (None, 52, 180)      205380      concatenate_10[0][0]             \n",
      "__________________________________________________________________________________________________\n",
      "batch_normalization_15 (BatchNo (None, 52, 180)      720         conv1d_transpose_13[0][0]        \n",
      "__________________________________________________________________________________________________\n",
      "leaky_re_lu_29 (LeakyReLU)      (None, 52, 180)      0           batch_normalization_15[0][0]     \n",
      "__________________________________________________________________________________________________\n",
      "tf.compat.v1.shape_9 (TFOpLambd (3,)                 0           leaky_re_lu_29[0][0]             \n",
      "__________________________________________________________________________________________________\n",
      "tf.__operators__.getitem_9 (Sli ()                   0           tf.compat.v1.shape_9[0][0]       \n",
      "__________________________________________________________________________________________________\n",
      "tf.tile_9 (TFOpLambda)          (None, 52, 200)      0           tf.__operators__.getitem_9[0][0] \n",
      "__________________________________________________________________________________________________\n",
      "concatenate_11 (Concatenate)    (None, 52, 380)      0           leaky_re_lu_29[0][0]             \n",
      "                                                                 tf.tile_9[0][0]                  \n",
      "__________________________________________________________________________________________________\n",
      "conv1d_transpose_14 (Conv1DTran (None, 52, 180)      205380      concatenate_11[0][0]             \n",
      "__________________________________________________________________________________________________\n",
      "batch_normalization_16 (BatchNo (None, 52, 180)      720         conv1d_transpose_14[0][0]        \n",
      "__________________________________________________________________________________________________\n",
      "leaky_re_lu_30 (LeakyReLU)      (None, 52, 180)      0           batch_normalization_16[0][0]     \n",
      "__________________________________________________________________________________________________\n",
      "conv1d_transpose_15 (Conv1DTran (None, 52, 180)      97380       leaky_re_lu_30[0][0]             \n",
      "__________________________________________________________________________________________________\n",
      "batch_normalization_17 (BatchNo (None, 52, 180)      720         conv1d_transpose_15[0][0]        \n",
      "__________________________________________________________________________________________________\n",
      "leaky_re_lu_31 (LeakyReLU)      (None, 52, 180)      0           batch_normalization_17[0][0]     \n",
      "__________________________________________________________________________________________________\n",
      "dense_7 (Dense)                 (None, 52, 200)      36200       leaky_re_lu_31[0][0]             \n",
      "==================================================================================================\n",
      "Total params: 2,863,910\n",
      "Trainable params: 2,856,530\n",
      "Non-trainable params: 7,380\n",
      "__________________________________________________________________________________________________\n"
     ]
    },
    {
     "data": {
      "text/plain": [
       "TensorShape([1, 52, 200])"
      ]
     },
     "execution_count": 25,
     "metadata": {},
     "output_type": "execute_result"
    }
   ],
   "source": [
    "from tensorflow import keras\n",
    "from tensorflow.keras import backend as K\n",
    "import numpy as np\n",
    "\n",
    "def make_generator(complexity=180):\n",
    "    alpha = 0.2\n",
    "    complexity = int(complexity)\n",
    "    \n",
    "    random_vector = keras.layers.Input(shape=[RANDOM_DIM])\n",
    "    labels = keras.layers.Input(shape=[len(le.classes_)])\n",
    "    \n",
    "    X = keras.layers.Concatenate()([random_vector, labels])\n",
    "    \n",
    "    # layer 1\n",
    "    X = keras.layers.Dense(\n",
    "        TARGET_LEN//2//2*complexity,\n",
    "        kernel_initializer=tf.keras.initializers.RandomNormal(stddev=0.02),\n",
    "    )(X)\n",
    "    X = keras.layers.BatchNormalization()(X)\n",
    "    X = keras.layers.LeakyReLU(alpha)(X)\n",
    "    X = keras.layers.Reshape((TARGET_LEN//2//2, complexity))(X)\n",
    "    \n",
    "    #layer 2 (None, 13, complexity)\n",
    "    X = keras.layers.Conv1DTranspose(\n",
    "        filters=complexity//2,\n",
    "        kernel_size=3,\n",
    "        padding='same',\n",
    "        strides=1,\n",
    "    )(X)\n",
    "    X = keras.layers.BatchNormalization()(X)\n",
    "    X = keras.layers.LeakyReLU(alpha)(X)\n",
    "    \n",
    "    #layer 3 (None, 13, complexity/2)\n",
    "    X = keras.layers.Conv1DTranspose(\n",
    "        filters=complexity,\n",
    "        kernel_size=3,\n",
    "        padding='same',\n",
    "        strides=2,\n",
    "    )(X)\n",
    "    X = keras.layers.BatchNormalization()(X)\n",
    "    X = keras.layers.LeakyReLU(alpha)(X)\n",
    "    \n",
    "    #layer 4 (None, 26, complexity/2)\n",
    "    pe = K.tile(give_pe(1, 26, 200), (K.shape(X)[0], 1, 1))\n",
    "    X = keras.layers.Concatenate(axis=-1)([X, pe])\n",
    "    X = keras.layers.Conv1DTranspose(\n",
    "        filters=complexity,\n",
    "        kernel_size=3,\n",
    "        padding='same',\n",
    "        strides=2,\n",
    "    )(X)\n",
    "    X = keras.layers.BatchNormalization()(X)\n",
    "    X = keras.layers.LeakyReLU(alpha)(X)\n",
    "    \n",
    "    \n",
    "    #layer 5 (None, 52, complexity)\n",
    "    pe = K.tile(give_pe(1, 52, 200), (K.shape(X)[0], 1, 1))\n",
    "    X = keras.layers.Concatenate(axis=-1)([X, pe])\n",
    "    X = keras.layers.Conv1DTranspose(\n",
    "        filters=complexity,\n",
    "        kernel_size=3,\n",
    "        padding='same',\n",
    "        strides=1,\n",
    "    )(X)\n",
    "    X = keras.layers.BatchNormalization()(X)\n",
    "    X = keras.layers.LeakyReLU(alpha)(X)\n",
    "    \n",
    "    #layer 6 (None, 52, complexity)\n",
    "    pe = K.tile(give_pe(1, 52, 200), (K.shape(X)[0], 1, 1))\n",
    "    X = keras.layers.Concatenate(axis=-1)([X, pe])\n",
    "    X = keras.layers.Conv1DTranspose(\n",
    "        filters=complexity,\n",
    "        kernel_size=3,\n",
    "        padding='same',\n",
    "        strides=1,\n",
    "    )(X)\n",
    "    X = keras.layers.BatchNormalization()(X)\n",
    "    X = keras.layers.LeakyReLU(alpha)(X)\n",
    "    \n",
    "    \n",
    "    #layer 6 (None, 52, complexity)\n",
    "    pe = K.tile(give_pe(1, 52, 200), (K.shape(X)[0], 1, 1))\n",
    "    X = keras.layers.Concatenate(axis=-1)([X, pe])\n",
    "    X = keras.layers.Conv1DTranspose(\n",
    "        filters=complexity,\n",
    "        kernel_size=3,\n",
    "        padding='same',\n",
    "        strides=1,\n",
    "    )(X)\n",
    "    X = keras.layers.BatchNormalization()(X)\n",
    "    X = keras.layers.LeakyReLU(alpha)(X)\n",
    "    \n",
    "    \n",
    "    #layer 6 (None, 52, complexity)\n",
    "    pe = K.tile(give_pe(1, 52, 200), (K.shape(X)[0], 1, 1))\n",
    "    X = keras.layers.Concatenate(axis=-1)([X, pe])\n",
    "    X = keras.layers.Conv1DTranspose(\n",
    "        filters=complexity,\n",
    "        kernel_size=3,\n",
    "        padding='same',\n",
    "        strides=1,\n",
    "    )(X)\n",
    "    X = keras.layers.BatchNormalization()(X)\n",
    "    X = keras.layers.LeakyReLU(alpha)(X)\n",
    "    \n",
    "    \n",
    "    \n",
    "    #layer 7 (None, 52, complexity)\n",
    "    X = keras.layers.Conv1DTranspose(\n",
    "        filters=complexity,\n",
    "        kernel_size=3,\n",
    "        padding='same',\n",
    "        strides=1,\n",
    "    )(X)\n",
    "    X = keras.layers.BatchNormalization()(X)\n",
    "    X = keras.layers.LeakyReLU(alpha)(X)\n",
    "    \n",
    "    X = keras.layers.Dense(EMBEDDING_SIZE)(X)\n",
    "    \n",
    "    model = keras.models.Model(inputs=[random_vector, labels], outputs=X)\n",
    "    model.compile(\n",
    "        loss='binary_crossentropy',\n",
    "        metrics=['acc'],\n",
    "        optimizer='sgd'\n",
    "    )\n",
    "    model.summary()\n",
    "    return model\n",
    "generator = make_generator()\n",
    "generated_from_noise = generator(FIXED_NOISE)\n",
    "generated_from_noise.shape"
   ]
  },
  {
   "cell_type": "code",
   "execution_count": 26,
   "metadata": {},
   "outputs": [
    {
     "name": "stdout",
     "output_type": "stream",
     "text": [
      "('постсталинское мщения мщения мщения зацикливаться зацикливаться зацикливаться постсталинское постсталинское постсталинское постсталинское постсталинское популяризовать популяризовать задаваемая печного зацикливаться осекся осекся переиздании иллюзорности одобрил сплюнул пересказ сжёг военкомате сторонке пометки ввяжемся навело социетальная смущал смущал тюремным тюремным тюремным шишками гематология гематология гематология', 0.9489196486672602, 0.34221372895771535)\n"
     ]
    },
    {
     "name": "stderr",
     "output_type": "stream",
     "text": [
      "/usr/local/lib/python3.8/site-packages/scipy/spatial/distance.py:699: RuntimeWarning: invalid value encountered in double_scalars\n",
      "  dist = 1.0 - uv / np.sqrt(uu * vv)\n"
     ]
    }
   ],
   "source": [
    "from scipy.spatial.distance import cosine\n",
    "\n",
    "\n",
    "def distance_to_that_message(generated_vec):\n",
    "    that_message_vec = vectorize_sentence(MESSAGES_FROM_DATASET[0][0])\n",
    "    return np.mean([cosine(a, b)  for a, b in zip(generated_vec, that_message_vec)])\n",
    "\n",
    "\n",
    "def message_recovery_with_metric(vector: np.ndarray):\n",
    "    assert len(vector.shape) == 2\n",
    "    tokens = []\n",
    "    metric = []\n",
    "    vector = vector.numpy()\n",
    "    for token_vec in vector:\n",
    "        w2v = token_vec[:100]\n",
    "        token = W2V_100.wv.most_similar([w2v])[0][0]\n",
    "        tokens.append(token)\n",
    "        \n",
    "        metric.append(cosine(token_vec[100:], FT_100.wv[token]))\n",
    "    return ' '.join(tokens[-40:]), np.mean(metric), distance_to_that_message(vector)\n",
    "\n",
    "\n",
    "\n",
    "for example in generated_from_noise:\n",
    "    print(message_recovery_with_metric(example))"
   ]
  },
  {
   "cell_type": "markdown",
   "metadata": {},
   "source": [
    "# DISCRIMINATOR"
   ]
  },
  {
   "cell_type": "code",
   "execution_count": 27,
   "metadata": {},
   "outputs": [],
   "source": [
    "def optimizer():\n",
    "    return tf.keras.optimizers.Adam(lr=0.0002, beta_1=0.5)"
   ]
  },
  {
   "cell_type": "code",
   "execution_count": 28,
   "metadata": {},
   "outputs": [
    {
     "name": "stdout",
     "output_type": "stream",
     "text": [
      "Model: \"discriminator\"\n",
      "__________________________________________________________________________________________________\n",
      "Layer (type)                    Output Shape         Param #     Connected to                     \n",
      "==================================================================================================\n",
      "input_7 (InputLayer)            [(None, 52, 200)]    0                                            \n",
      "__________________________________________________________________________________________________\n",
      "conv1d_10 (Conv1D)              (None, 52, 240)      144240      input_7[0][0]                    \n",
      "__________________________________________________________________________________________________\n",
      "leaky_re_lu_32 (LeakyReLU)      (None, 52, 240)      0           conv1d_10[0][0]                  \n",
      "__________________________________________________________________________________________________\n",
      "dropout_14 (Dropout)            (None, 52, 240)      0           leaky_re_lu_32[0][0]             \n",
      "__________________________________________________________________________________________________\n",
      "conv1d_11 (Conv1D)              (None, 26, 160)      115360      dropout_14[0][0]                 \n",
      "__________________________________________________________________________________________________\n",
      "leaky_re_lu_33 (LeakyReLU)      (None, 26, 160)      0           conv1d_11[0][0]                  \n",
      "__________________________________________________________________________________________________\n",
      "dropout_15 (Dropout)            (None, 26, 160)      0           leaky_re_lu_33[0][0]             \n",
      "__________________________________________________________________________________________________\n",
      "conv1d_12 (Conv1D)              (None, 26, 160)      76960       dropout_15[0][0]                 \n",
      "__________________________________________________________________________________________________\n",
      "leaky_re_lu_34 (LeakyReLU)      (None, 26, 160)      0           conv1d_12[0][0]                  \n",
      "__________________________________________________________________________________________________\n",
      "dropout_16 (Dropout)            (None, 26, 160)      0           leaky_re_lu_34[0][0]             \n",
      "__________________________________________________________________________________________________\n",
      "conv1d_13 (Conv1D)              (None, 26, 160)      76960       dropout_16[0][0]                 \n",
      "__________________________________________________________________________________________________\n",
      "leaky_re_lu_35 (LeakyReLU)      (None, 26, 160)      0           conv1d_13[0][0]                  \n",
      "__________________________________________________________________________________________________\n",
      "dropout_17 (Dropout)            (None, 26, 160)      0           leaky_re_lu_35[0][0]             \n",
      "__________________________________________________________________________________________________\n",
      "conv1d_14 (Conv1D)              (None, 13, 120)      57720       dropout_17[0][0]                 \n",
      "__________________________________________________________________________________________________\n",
      "leaky_re_lu_36 (LeakyReLU)      (None, 13, 120)      0           conv1d_14[0][0]                  \n",
      "__________________________________________________________________________________________________\n",
      "dropout_18 (Dropout)            (None, 13, 120)      0           leaky_re_lu_36[0][0]             \n",
      "__________________________________________________________________________________________________\n",
      "flatten_4 (Flatten)             (None, 1560)         0           dropout_18[0][0]                 \n",
      "__________________________________________________________________________________________________\n",
      "dense_8 (Dense)                 (None, 480)          749280      flatten_4[0][0]                  \n",
      "__________________________________________________________________________________________________\n",
      "leaky_re_lu_37 (LeakyReLU)      (None, 480)          0           dense_8[0][0]                    \n",
      "__________________________________________________________________________________________________\n",
      "dropout_19 (Dropout)            (None, 480)          0           leaky_re_lu_37[0][0]             \n",
      "__________________________________________________________________________________________________\n",
      "flatten_5 (Flatten)             (None, 480)          0           dropout_19[0][0]                 \n",
      "__________________________________________________________________________________________________\n",
      "dense_9 (Dense)                 (None, 240)          115440      flatten_5[0][0]                  \n",
      "__________________________________________________________________________________________________\n",
      "leaky_re_lu_38 (LeakyReLU)      (None, 240)          0           dense_9[0][0]                    \n",
      "__________________________________________________________________________________________________\n",
      "dropout_20 (Dropout)            (None, 240)          0           leaky_re_lu_38[0][0]             \n",
      "__________________________________________________________________________________________________\n",
      "real_fake (Dense)               (None, 1)            241         dropout_20[0][0]                 \n",
      "__________________________________________________________________________________________________\n",
      "labels (Dense)                  (None, 579)          139539      dropout_20[0][0]                 \n",
      "==================================================================================================\n",
      "Total params: 1,475,740\n",
      "Trainable params: 1,475,740\n",
      "Non-trainable params: 0\n",
      "__________________________________________________________________________________________________\n"
     ]
    },
    {
     "data": {
      "text/plain": [
       "[<tf.Tensor: shape=(1, 1), dtype=float32, numpy=array([[0.52095884]], dtype=float32)>,\n",
       " <tf.Tensor: shape=(1, 579), dtype=float32, numpy=\n",
       " array([[0.0016808 , 0.00181077, 0.00173999, 0.00169078, 0.00168576,\n",
       "         0.00182769, 0.00186872, 0.00165469, 0.0016948 , 0.0017825 ,\n",
       "         0.0015973 , 0.00162523, 0.0017188 , 0.00159832, 0.00162912,\n",
       "         0.00176302, 0.00176882, 0.00156135, 0.00165922, 0.00171773,\n",
       "         0.00181006, 0.00175211, 0.00183623, 0.00169222, 0.00167707,\n",
       "         0.00182416, 0.00178263, 0.00171647, 0.00165974, 0.00174551,\n",
       "         0.00182021, 0.00183284, 0.0016853 , 0.00184541, 0.00170293,\n",
       "         0.00182482, 0.00172625, 0.00167222, 0.00169509, 0.00183469,\n",
       "         0.00173875, 0.00161261, 0.00176239, 0.0018268 , 0.00173547,\n",
       "         0.00172552, 0.0015967 , 0.00196639, 0.0016428 , 0.00181782,\n",
       "         0.00165268, 0.00164062, 0.00182032, 0.00166522, 0.00168533,\n",
       "         0.00174205, 0.00162216, 0.00164204, 0.00189881, 0.00167857,\n",
       "         0.00178085, 0.00157881, 0.00173375, 0.00181411, 0.00166475,\n",
       "         0.00161853, 0.00177779, 0.001808  , 0.0016713 , 0.00173205,\n",
       "         0.00174403, 0.00166615, 0.00177793, 0.00181585, 0.00182758,\n",
       "         0.00172331, 0.00175153, 0.00163622, 0.00165565, 0.0018242 ,\n",
       "         0.0018155 , 0.00167803, 0.00166365, 0.00174383, 0.00171155,\n",
       "         0.00176915, 0.00159731, 0.00175919, 0.00163004, 0.00188532,\n",
       "         0.00170688, 0.00166124, 0.0018452 , 0.00182846, 0.00179452,\n",
       "         0.00158462, 0.00172543, 0.00168133, 0.00169217, 0.00171395,\n",
       "         0.00187468, 0.00170303, 0.00174434, 0.00165352, 0.00172429,\n",
       "         0.00188035, 0.00165319, 0.00178703, 0.00171882, 0.00178002,\n",
       "         0.00168931, 0.00177003, 0.00176799, 0.00177637, 0.00168283,\n",
       "         0.00174264, 0.00171067, 0.00171088, 0.00167376, 0.00191462,\n",
       "         0.00190829, 0.00160369, 0.00164264, 0.00179972, 0.00179748,\n",
       "         0.00173227, 0.00170205, 0.00175089, 0.00186028, 0.00158703,\n",
       "         0.00173586, 0.00178594, 0.00174958, 0.00175291, 0.00162704,\n",
       "         0.00181932, 0.00183085, 0.00168488, 0.00163256, 0.00178732,\n",
       "         0.00161633, 0.00160858, 0.00182482, 0.00157704, 0.00166129,\n",
       "         0.00186873, 0.00181288, 0.00174955, 0.0016122 , 0.00163542,\n",
       "         0.00173402, 0.00170121, 0.00187009, 0.00178613, 0.0016827 ,\n",
       "         0.00176128, 0.00174652, 0.00167832, 0.00180013, 0.00195661,\n",
       "         0.00172998, 0.0016859 , 0.00179536, 0.00182236, 0.00177449,\n",
       "         0.0017378 , 0.00155086, 0.0017193 , 0.00172674, 0.00167055,\n",
       "         0.0018645 , 0.00174225, 0.00173067, 0.0016351 , 0.00165332,\n",
       "         0.00173343, 0.00186835, 0.00177518, 0.00175644, 0.00167035,\n",
       "         0.00171337, 0.00179649, 0.00160752, 0.00165468, 0.00170459,\n",
       "         0.00175293, 0.001703  , 0.00187686, 0.00179569, 0.00168206,\n",
       "         0.00165035, 0.00179809, 0.00182193, 0.00169763, 0.00172863,\n",
       "         0.00174064, 0.00176896, 0.00172133, 0.00171981, 0.00173634,\n",
       "         0.0016574 , 0.00158861, 0.00179859, 0.00152709, 0.00155343,\n",
       "         0.00161252, 0.00161708, 0.00176595, 0.00163934, 0.00172109,\n",
       "         0.00179592, 0.00169515, 0.00174389, 0.0017374 , 0.00170394,\n",
       "         0.00147193, 0.00167134, 0.00173391, 0.00178998, 0.00174402,\n",
       "         0.00163252, 0.00159012, 0.00168792, 0.00177384, 0.0016518 ,\n",
       "         0.00175214, 0.00176394, 0.00176214, 0.00165006, 0.00171399,\n",
       "         0.00183295, 0.00179087, 0.00189279, 0.00177907, 0.00170339,\n",
       "         0.00177452, 0.00175757, 0.00161084, 0.00168702, 0.00186071,\n",
       "         0.00160667, 0.00168986, 0.00176573, 0.00171856, 0.00173524,\n",
       "         0.00184316, 0.00177251, 0.00170008, 0.00177113, 0.00176837,\n",
       "         0.00187824, 0.00172944, 0.00178582, 0.00166726, 0.00177111,\n",
       "         0.00153221, 0.00166923, 0.00164072, 0.00170379, 0.00169693,\n",
       "         0.00191609, 0.00182077, 0.0016652 , 0.00168526, 0.00175907,\n",
       "         0.00169597, 0.00181566, 0.00176963, 0.00164053, 0.0017948 ,\n",
       "         0.00173691, 0.00182406, 0.00178927, 0.00179345, 0.00165597,\n",
       "         0.00164282, 0.00186796, 0.00183096, 0.00166005, 0.00166897,\n",
       "         0.0017226 , 0.00166022, 0.00173496, 0.00184262, 0.00170432,\n",
       "         0.00169545, 0.00175625, 0.00172424, 0.0018392 , 0.00176246,\n",
       "         0.00172469, 0.00182644, 0.00183133, 0.00172021, 0.00177936,\n",
       "         0.00172672, 0.00161955, 0.00173042, 0.00167799, 0.00165608,\n",
       "         0.00168901, 0.00180027, 0.00172941, 0.00168838, 0.00170463,\n",
       "         0.00168702, 0.00167915, 0.00160615, 0.00173987, 0.00173843,\n",
       "         0.00168054, 0.00180367, 0.00168163, 0.00171085, 0.00175113,\n",
       "         0.00181791, 0.00170938, 0.00177529, 0.00182197, 0.00170075,\n",
       "         0.00168498, 0.00181616, 0.00166087, 0.00172999, 0.00191518,\n",
       "         0.00178269, 0.00172491, 0.00161166, 0.00163575, 0.00176028,\n",
       "         0.00166529, 0.00170528, 0.00169515, 0.00180537, 0.00164927,\n",
       "         0.00174176, 0.00163919, 0.00179539, 0.00177394, 0.00183102,\n",
       "         0.00168616, 0.00157203, 0.0015689 , 0.00173889, 0.00168764,\n",
       "         0.00177917, 0.00187145, 0.00170933, 0.00154139, 0.00196341,\n",
       "         0.00175432, 0.00166362, 0.00183717, 0.00166518, 0.00170252,\n",
       "         0.00169357, 0.00169659, 0.00184635, 0.0017526 , 0.0016909 ,\n",
       "         0.00170624, 0.00161778, 0.0016808 , 0.00175544, 0.00161448,\n",
       "         0.00179495, 0.00165642, 0.00178119, 0.00168783, 0.00168145,\n",
       "         0.00170483, 0.00164241, 0.0017957 , 0.00179818, 0.00177732,\n",
       "         0.00176603, 0.00172153, 0.00171871, 0.00178619, 0.00180378,\n",
       "         0.00173613, 0.00170499, 0.00167691, 0.00179101, 0.00166637,\n",
       "         0.00179721, 0.00171628, 0.00179845, 0.00164706, 0.0016915 ,\n",
       "         0.00177584, 0.00173828, 0.00162464, 0.0018486 , 0.00177057,\n",
       "         0.00166669, 0.00179169, 0.00176251, 0.00177021, 0.00171175,\n",
       "         0.00176698, 0.00168458, 0.00169461, 0.00160869, 0.00156813,\n",
       "         0.00160829, 0.00171134, 0.00174672, 0.00164331, 0.00173186,\n",
       "         0.00178573, 0.00173385, 0.00167905, 0.00166235, 0.00189675,\n",
       "         0.00179616, 0.00171944, 0.0016182 , 0.00177608, 0.00175722,\n",
       "         0.00166318, 0.00180007, 0.0015354 , 0.00183299, 0.00173642,\n",
       "         0.001677  , 0.00171779, 0.00174508, 0.00174565, 0.00173263,\n",
       "         0.00169995, 0.00182625, 0.00166146, 0.00178492, 0.00176717,\n",
       "         0.00180955, 0.00180793, 0.00172625, 0.00171341, 0.00178297,\n",
       "         0.00167797, 0.00179642, 0.00168403, 0.00175657, 0.00169842,\n",
       "         0.00170007, 0.00168101, 0.00179507, 0.00169201, 0.00180803,\n",
       "         0.00167278, 0.00166677, 0.00169141, 0.00187774, 0.0017088 ,\n",
       "         0.00156175, 0.00162918, 0.00169501, 0.0016875 , 0.00170228,\n",
       "         0.0016564 , 0.00179006, 0.00169326, 0.0017727 , 0.0016058 ,\n",
       "         0.00163912, 0.00174951, 0.00165171, 0.00175321, 0.00176455,\n",
       "         0.00169502, 0.00183638, 0.00175915, 0.00181564, 0.00174026,\n",
       "         0.00173775, 0.00163351, 0.00169476, 0.00160846, 0.00169479,\n",
       "         0.00175073, 0.00167888, 0.00175405, 0.00175709, 0.00158178,\n",
       "         0.00181107, 0.00177179, 0.00163548, 0.00172115, 0.00165571,\n",
       "         0.001661  , 0.00166979, 0.00185471, 0.00170212, 0.00186944,\n",
       "         0.00178406, 0.00171842, 0.00167586, 0.00160201, 0.00179401,\n",
       "         0.00175266, 0.00156153, 0.00185166, 0.00175978, 0.00166805,\n",
       "         0.00166461, 0.00173166, 0.0016765 , 0.00173485, 0.00157279,\n",
       "         0.00178672, 0.00171042, 0.00168733, 0.00181922, 0.00173559,\n",
       "         0.00172574, 0.0017342 , 0.00168912, 0.00179897, 0.00164749,\n",
       "         0.00169748, 0.00181776, 0.00175508, 0.00161973, 0.00173947,\n",
       "         0.00182347, 0.00168154, 0.00179321, 0.00184657, 0.00172665,\n",
       "         0.00161189, 0.00171918, 0.00174144, 0.00171943, 0.0017984 ,\n",
       "         0.00179135, 0.00166044, 0.0016827 , 0.00171319, 0.00172845,\n",
       "         0.00182804, 0.00178674, 0.00174331, 0.00168294, 0.00174883,\n",
       "         0.00182663, 0.00165909, 0.00167615, 0.00175812, 0.00179045,\n",
       "         0.00188306, 0.00187014, 0.00167682, 0.00154867, 0.00169057,\n",
       "         0.00164209, 0.00183919, 0.00184352, 0.00165345, 0.00159656,\n",
       "         0.00176656, 0.00163039, 0.00180127, 0.00167047, 0.0017345 ,\n",
       "         0.0016583 , 0.001763  , 0.00168177, 0.00184264, 0.00196334,\n",
       "         0.00175005, 0.00171113, 0.00171174, 0.00146828, 0.00161385,\n",
       "         0.00164422, 0.00175076, 0.00177078, 0.00175605]], dtype=float32)>]"
      ]
     },
     "execution_count": 28,
     "metadata": {},
     "output_type": "execute_result"
    }
   ],
   "source": [
    "def make_discriminator(complexity=480):\n",
    "    complexity = int(complexity)\n",
    "    alpha = 0.2\n",
    "    drop_rate = 0.2\n",
    "    inp = keras.layers.Input(shape=(TARGET_LEN, EMBEDDING_SIZE))\n",
    "    X = inp\n",
    "    \n",
    "    #layer 1\n",
    "    X = keras.layers.Conv1D(\n",
    "        filters=complexity//2,\n",
    "        kernel_size=3,\n",
    "        padding='same',\n",
    "        strides=1,\n",
    "    )(X)\n",
    "    X = keras.layers.LeakyReLU(alpha)(X)\n",
    "    X = keras.layers.Dropout(drop_rate)(X)\n",
    "    \n",
    "    #layer 2\n",
    "    X = keras.layers.Conv1D(\n",
    "        filters=complexity//3,\n",
    "        kernel_size=3,\n",
    "        padding='same',\n",
    "        strides=2,\n",
    "    )(X)\n",
    "    X = keras.layers.LeakyReLU(alpha)(X)\n",
    "    X = keras.layers.Dropout(drop_rate)(X)\n",
    "    \n",
    "    \n",
    "    #layer 2\n",
    "    X = keras.layers.Conv1D(\n",
    "        filters=complexity//3,\n",
    "        kernel_size=3,\n",
    "        padding='same',\n",
    "        strides=1,\n",
    "    )(X)\n",
    "    X = keras.layers.LeakyReLU(alpha)(X)\n",
    "    X = keras.layers.Dropout(drop_rate)(X)\n",
    "    \n",
    "    #layer 2\n",
    "    X = keras.layers.Conv1D(\n",
    "        filters=complexity//3,\n",
    "        kernel_size=3,\n",
    "        padding='same',\n",
    "        strides=1,\n",
    "    )(X)\n",
    "    X = keras.layers.LeakyReLU(alpha)(X)\n",
    "    X = keras.layers.Dropout(drop_rate)(X)\n",
    "    \n",
    "    \n",
    "    #layer 3\n",
    "    X = keras.layers.Conv1D(\n",
    "        filters=complexity//4,\n",
    "        kernel_size=3,\n",
    "        padding='same',\n",
    "        strides=2,\n",
    "    )(X)\n",
    "    X = keras.layers.LeakyReLU(alpha)(X)\n",
    "    X = keras.layers.Dropout(drop_rate)(X)\n",
    "    \n",
    "    #layer 4\n",
    "    X = keras.layers.Flatten()(X)\n",
    "    X = keras.layers.Dense(complexity)(X)\n",
    "    X = keras.layers.LeakyReLU(alpha)(X)\n",
    "    X = keras.layers.Dropout(drop_rate)(X)\n",
    "    \n",
    "    #layer 5\n",
    "    X = keras.layers.Flatten()(X)\n",
    "    X = keras.layers.Dense(complexity//2)(X)\n",
    "    X = keras.layers.LeakyReLU(alpha)(X)\n",
    "    X = keras.layers.Dropout(drop_rate)(X)\n",
    "    \n",
    "    # 6 layer\n",
    "    X_real_fake = keras.layers.Dense(1, activation='sigmoid', name='real_fake')(X)\n",
    "    # 6 layer\n",
    "    X_labels = keras.layers.Dense(len(le.classes_), activation='softmax', name='labels')(X)\n",
    "    \n",
    "    model = keras.models.Model(inputs=inp, outputs=[X_real_fake, X_labels], name='discriminator')\n",
    "    model.compile(loss={'real_fake': 'binary_crossentropy', 'labels': 'categorical_crossentropy'},\n",
    "                  loss_weights={'real_fake':1, 'labels': 0.01},\n",
    "                  optimizer=optimizer(),\n",
    "                  metrics={'real_fake':'acc'})\n",
    "    model.summary()\n",
    "    return model\n",
    "\n",
    "discriminator = make_discriminator()\n",
    "discriminator(generated_from_noise)"
   ]
  },
  {
   "cell_type": "markdown",
   "metadata": {},
   "source": [
    "# BUILDING GAN"
   ]
  },
  {
   "cell_type": "code",
   "execution_count": 29,
   "metadata": {},
   "outputs": [
    {
     "name": "stdout",
     "output_type": "stream",
     "text": [
      "Model: \"model_3\"\n",
      "__________________________________________________________________________________________________\n",
      "Layer (type)                    Output Shape         Param #     Connected to                     \n",
      "==================================================================================================\n",
      "input_5 (InputLayer)            [(None, 100)]        0                                            \n",
      "__________________________________________________________________________________________________\n",
      "input_6 (InputLayer)            [(None, 579)]        0                                            \n",
      "__________________________________________________________________________________________________\n",
      "model_2 (Functional)            (None, 52, 200)      2863910     input_5[0][0]                    \n",
      "                                                                 input_6[0][0]                    \n",
      "__________________________________________________________________________________________________\n",
      "discriminator (Functional)      [(None, 1), (None, 5 1475740     model_2[0][0]                    \n",
      "==================================================================================================\n",
      "Total params: 4,339,650\n",
      "Trainable params: 4,332,270\n",
      "Non-trainable params: 7,380\n",
      "__________________________________________________________________________________________________\n"
     ]
    }
   ],
   "source": [
    "def make_gan(discriminator, generator):   \n",
    "    noise = generator.inputs\n",
    "    texts = generator(noise)\n",
    "    real_vs_fake_and_label = discriminator(texts)\n",
    "    gan = keras.models.Model(inputs=noise, outputs=real_vs_fake_and_label)\n",
    "    # make discrimator not trainable before compile\n",
    "    # because GAN training is training of generator\n",
    "    discriminator.trainable = False  \n",
    "    gan.compile(\n",
    "        loss={\n",
    "            'discriminator': 'binary_crossentropy',\n",
    "            'discriminator_1': 'categorical_crossentropy',\n",
    "        },\n",
    "        loss_weights={'discriminator':1, 'discriminator_1': 0.01},\n",
    "        optimizer=optimizer(),\n",
    "        metrics={'discriminator':'acc'})\n",
    "    discriminator.trainable = True\n",
    "    gan.summary()\n",
    "    return gan\n",
    "gan = make_gan(discriminator, generator)"
   ]
  },
  {
   "cell_type": "markdown",
   "metadata": {},
   "source": [
    "# save and load"
   ]
  },
  {
   "cell_type": "code",
   "execution_count": 31,
   "metadata": {},
   "outputs": [
    {
     "name": "stdout",
     "output_type": "stream",
     "text": [
      "INFO:tensorflow:Assets written to: models/discriminator/assets\n",
      "INFO:tensorflow:Assets written to: models/generator/assets\n",
      "INFO:tensorflow:Assets written to: models/gan/assets\n"
     ]
    }
   ],
   "source": [
    "def save_models():\n",
    "    discriminator.save('models/discriminator')\n",
    "    generator.save('models/generator')\n",
    "    gan.save('models/gan')\n",
    "#  save_models()"
   ]
  },
  {
   "cell_type": "code",
   "execution_count": 20,
   "metadata": {},
   "outputs": [],
   "source": [
    "def load_models():\n",
    "    discriminator = keras.models.load_model('models/discriminator')\n",
    "    generator = keras.models.load_model('models/generator')\n",
    "    gan = keras.models.load_model('models/gan')\n",
    "load_models()"
   ]
  },
  {
   "cell_type": "markdown",
   "metadata": {},
   "source": [
    "# final logic check"
   ]
  },
  {
   "cell_type": "code",
   "execution_count": 32,
   "metadata": {},
   "outputs": [
    {
     "data": {
      "text/plain": [
       "<tf.Tensor: shape=(1, 1), dtype=float32, numpy=array([[0.52095884]], dtype=float32)>"
      ]
     },
     "execution_count": 32,
     "metadata": {},
     "output_type": "execute_result"
    }
   ],
   "source": [
    "gan(FIXED_NOISE)[0]"
   ]
  },
  {
   "cell_type": "code",
   "execution_count": 33,
   "metadata": {},
   "outputs": [
    {
     "data": {
      "text/plain": [
       "<tf.Tensor: shape=(1,), dtype=float32, numpy=array([0.52095884], dtype=float32)>"
      ]
     },
     "execution_count": 33,
     "metadata": {},
     "output_type": "execute_result"
    }
   ],
   "source": [
    "discriminator(generator(FIXED_NOISE))[0][0]"
   ]
  },
  {
   "cell_type": "markdown",
   "metadata": {},
   "source": [
    "# train"
   ]
  },
  {
   "cell_type": "code",
   "execution_count": 34,
   "metadata": {},
   "outputs": [
    {
     "name": "stdout",
     "output_type": "stream",
     "text": [
      "\n",
      "('постсталинское мщения мщения мщения зацикливаться зацикливаться зацикливаться постсталинское постсталинское постсталинское постсталинское постсталинское популяризовать популяризовать задаваемая печного зацикливаться осекся осекся переиздании иллюзорности одобрил сплюнул пересказ сжёг военкомате сторонке пометки ввяжемся навело социетальная смущал смущал тюремным тюремным тюремным шишками гематология гематология гематология', 0.9489196486672602, 0.34221372895771535)\n"
     ]
    },
    {
     "name": "stderr",
     "output_type": "stream",
     "text": [
      "/usr/local/lib/python3.8/site-packages/scipy/spatial/distance.py:699: RuntimeWarning: invalid value encountered in double_scalars\n",
      "  dist = 1.0 - uv / np.sqrt(uu * vv)\n"
     ]
    },
    {
     "name": "stdout",
     "output_type": "stream",
     "text": [
      "INFO:tensorflow:Assets written to: models/discriminator/assets\n",
      "INFO:tensorflow:Assets written to: models/generator/assets\n",
      "INFO:tensorflow:Assets written to: models/gan/assets\n"
     ]
    },
    {
     "data": {
      "application/vnd.jupyter.widget-view+json": {
       "model_id": "",
       "version_major": 2,
       "version_minor": 0
      },
      "text/plain": [
       "  0%|          | 0/100 [00:00<?, ?it/s]"
      ]
     },
     "metadata": {},
     "output_type": "display_data"
    },
    {
     "name": "stdout",
     "output_type": "stream",
     "text": [
      "0.39 0.5 0.5511\n",
      "('карательных канэ горшкову обитаема канэ канэ где-либо обитаема где-либо нетерпим где-либо обитаема где-либо канэ где-либо нетерпим электроплиты космичности впитывал собянину парашют однако mori соединена модернисты дискотеки формируемся в том , чтобы плюсами всех бытовому и кабинетные киркуке в дело выпихивают', 0.7472433150710108, 0.11691260103563851)\n"
     ]
    },
    {
     "name": "stderr",
     "output_type": "stream",
     "text": [
      "/usr/local/lib/python3.8/site-packages/scipy/spatial/distance.py:699: RuntimeWarning: invalid value encountered in double_scalars\n",
      "  dist = 1.0 - uv / np.sqrt(uu * vv)\n"
     ]
    },
    {
     "name": "stdout",
     "output_type": "stream",
     "text": [
      "INFO:tensorflow:Assets written to: models/discriminator/assets\n",
      "INFO:tensorflow:Assets written to: models/generator/assets\n",
      "INFO:tensorflow:Assets written to: models/gan/assets\n"
     ]
    },
    {
     "data": {
      "application/vnd.jupyter.widget-view+json": {
       "model_id": "",
       "version_major": 2,
       "version_minor": 0
      },
      "text/plain": [
       "  0%|          | 0/100 [00:00<?, ?it/s]"
      ]
     },
     "metadata": {},
     "output_type": "display_data"
    },
    {
     "name": "stdout",
     "output_type": "stream",
     "text": [
      "1.17 0.5 0.55110.5 0.50.46 0.54\n"
     ]
    },
    {
     "name": "stderr",
     "output_type": "stream",
     "text": [
      "/usr/local/lib/python3.8/site-packages/scipy/spatial/distance.py:699: RuntimeWarning: invalid value encountered in double_scalars\n",
      "  dist = 1.0 - uv / np.sqrt(uu * vv)\n"
     ]
    },
    {
     "name": "stdout",
     "output_type": "stream",
     "text": [
      "('норманистами норманистами норманистами норманистами норманистами норманистами дополнительности норманистами дополнительности норманистами дополнительности норманистами дополнительности норманистами проведенную человеков проведенную человеков карбюратор сбегали возродившись однако ещё работы святые аптека скафандрах в том , чтобы перекрывать всех витражи и двинемся богопротивные в дело .', 0.7418851704748634, 0.05207081470439764)\n",
      "INFO:tensorflow:Assets written to: models/discriminator/assets\n",
      "INFO:tensorflow:Assets written to: models/generator/assets\n",
      "INFO:tensorflow:Assets written to: models/gan/assets\n"
     ]
    },
    {
     "data": {
      "application/vnd.jupyter.widget-view+json": {
       "model_id": "",
       "version_major": 2,
       "version_minor": 0
      },
      "text/plain": [
       "  0%|          | 0/100 [00:00<?, ?it/s]"
      ]
     },
     "metadata": {},
     "output_type": "display_data"
    },
    {
     "name": "stdout",
     "output_type": "stream",
     "text": [
      "0.38 0.5 0.5510.580.52 0.57\n"
     ]
    },
    {
     "name": "stderr",
     "output_type": "stream",
     "text": [
      "/usr/local/lib/python3.8/site-packages/scipy/spatial/distance.py:699: RuntimeWarning: invalid value encountered in double_scalars\n",
      "  dist = 1.0 - uv / np.sqrt(uu * vv)\n"
     ]
    },
    {
     "name": "stdout",
     "output_type": "stream",
     "text": [
      "('вельмож стремлениями вельмож стремлениями вельмож стремлениями стремлениями стремлениями стремлениями стремлениями стремлениями стремлениями вельмож волокнам придерживаясь волокнам согнешь индокитае фейерверки были тоталитарность однако достойное работы чьи ловок гиря в том , чтобы выживет всех падений и глубокий матовый в дело .', 0.6368990467968755, 0.03557897145772134)\n",
      "INFO:tensorflow:Assets written to: models/discriminator/assets\n",
      "INFO:tensorflow:Assets written to: models/generator/assets\n",
      "INFO:tensorflow:Assets written to: models/gan/assets\n"
     ]
    },
    {
     "data": {
      "application/vnd.jupyter.widget-view+json": {
       "model_id": "",
       "version_major": 2,
       "version_minor": 0
      },
      "text/plain": [
       "  0%|          | 0/100 [00:00<?, ?it/s]"
      ]
     },
     "metadata": {},
     "output_type": "display_data"
    },
    {
     "name": "stdout",
     "output_type": "stream",
     "text": [
      "0.34 0.5 0.5510.46 0.540.41 0.59\n"
     ]
    },
    {
     "name": "stderr",
     "output_type": "stream",
     "text": [
      "/usr/local/lib/python3.8/site-packages/scipy/spatial/distance.py:699: RuntimeWarning: invalid value encountered in double_scalars\n",
      "  dist = 1.0 - uv / np.sqrt(uu * vv)\n"
     ]
    },
    {
     "name": "stdout",
     "output_type": "stream",
     "text": [
      "('бумажонки бумажонки бумажонки бумажонки бумажонки бумажонки бумажонки бумажонки бумажонки гостим бумажонки гостим бумажонки превознести бумажонки обустроено общенациональным устраивало индокитае индокитае электропоездов однако разрушенных работы твоего неприемлемые властвовало в том , чтобы выживет всех коварнее и стыкуется геродот в дело .', 0.6422908862228863, 0.026871514523274322)\n",
      "INFO:tensorflow:Assets written to: models/discriminator/assets\n",
      "INFO:tensorflow:Assets written to: models/generator/assets\n",
      "INFO:tensorflow:Assets written to: models/gan/assets\n"
     ]
    },
    {
     "data": {
      "application/vnd.jupyter.widget-view+json": {
       "model_id": "",
       "version_major": 2,
       "version_minor": 0
      },
      "text/plain": [
       "  0%|          | 0/100 [00:00<?, ?it/s]"
      ]
     },
     "metadata": {},
     "output_type": "display_data"
    },
    {
     "name": "stdout",
     "output_type": "stream",
     "text": [
      "0.33 0.5 0.5110.46 0.540.42 0.58 0.52\n"
     ]
    },
    {
     "name": "stderr",
     "output_type": "stream",
     "text": [
      "/usr/local/lib/python3.8/site-packages/scipy/spatial/distance.py:699: RuntimeWarning: invalid value encountered in double_scalars\n",
      "  dist = 1.0 - uv / np.sqrt(uu * vv)\n"
     ]
    },
    {
     "name": "stdout",
     "output_type": "stream",
     "text": [
      "('перекрестках спиритуальный перекрестках гостиниц перекрестках спиритуальный перекрестках спиритуальный перекрестках гостиниц перекрестках спиритуальный гостиниц спиритуальный обдумала спиритуальный тоталитарному написавшие косынка сопоставимость к-159 однако библиограф работы выпускниками осматриваться сводку в том , чтобы молдавию всех инвестировал и отреагировала пристройками в дело .', 0.9237845327991706, 0.0326302712050682)\n",
      "INFO:tensorflow:Assets written to: models/discriminator/assets\n",
      "INFO:tensorflow:Assets written to: models/generator/assets\n",
      "INFO:tensorflow:Assets written to: models/gan/assets\n"
     ]
    },
    {
     "data": {
      "application/vnd.jupyter.widget-view+json": {
       "model_id": "",
       "version_major": 2,
       "version_minor": 0
      },
      "text/plain": [
       "  0%|          | 0/100 [00:00<?, ?it/s]"
      ]
     },
     "metadata": {},
     "output_type": "display_data"
    },
    {
     "name": "stdout",
     "output_type": "stream",
     "text": [
      "1.06 0.5 0.5510.530.46 0.54\n",
      "('первичка металликов обрываясь металликов уважало металликов первичка металликов нерефлексивные уважало уважало уважало уважало уважало металликов металликов металликов энциклике печатанию исключена памфлет однако раскрываются работы возбужденными пилотаж юморить в том , чтобы резервуары всех неподвижные и счастье штрафстоянке в дело .', 0.8182342254138069, 0.028265164501573053)\n"
     ]
    },
    {
     "name": "stderr",
     "output_type": "stream",
     "text": [
      "/usr/local/lib/python3.8/site-packages/scipy/spatial/distance.py:699: RuntimeWarning: invalid value encountered in double_scalars\n",
      "  dist = 1.0 - uv / np.sqrt(uu * vv)\n"
     ]
    },
    {
     "name": "stdout",
     "output_type": "stream",
     "text": [
      "INFO:tensorflow:Assets written to: models/discriminator/assets\n",
      "INFO:tensorflow:Assets written to: models/generator/assets\n",
      "INFO:tensorflow:Assets written to: models/gan/assets\n"
     ]
    },
    {
     "data": {
      "application/vnd.jupyter.widget-view+json": {
       "model_id": "",
       "version_major": 2,
       "version_minor": 0
      },
      "text/plain": [
       "  0%|          | 0/100 [00:00<?, ?it/s]"
      ]
     },
     "metadata": {},
     "output_type": "display_data"
    },
    {
     "name": "stdout",
     "output_type": "stream",
     "text": [
      "1.09 0.5 0.5510.50.540.690.67\n"
     ]
    },
    {
     "name": "stderr",
     "output_type": "stream",
     "text": [
      "/usr/local/lib/python3.8/site-packages/scipy/spatial/distance.py:699: RuntimeWarning: invalid value encountered in double_scalars\n",
      "  dist = 1.0 - uv / np.sqrt(uu * vv)\n"
     ]
    },
    {
     "name": "stdout",
     "output_type": "stream",
     "text": [
      "('халявщики менуэта халявщики менуэта халявщики менуэта халявщики менуэта халявщики менуэта халявщики менуэта халявщики менуэта халявщики менуэта задремала менуэта задремала подложить пишутся однако противопоказание работы публицист шашлыки пожелало в том , чтобы теплоноситель всех легислатуры и ответа перескажем в дело .', 0.6337894591717765, 0.04828426416161209)\n",
      "INFO:tensorflow:Assets written to: models/discriminator/assets\n",
      "INFO:tensorflow:Assets written to: models/generator/assets\n",
      "INFO:tensorflow:Assets written to: models/gan/assets\n"
     ]
    },
    {
     "data": {
      "application/vnd.jupyter.widget-view+json": {
       "model_id": "",
       "version_major": 2,
       "version_minor": 0
      },
      "text/plain": [
       "  0%|          | 0/100 [00:00<?, ?it/s]"
      ]
     },
     "metadata": {},
     "output_type": "display_data"
    },
    {
     "name": "stdout",
     "output_type": "stream",
     "text": [
      "1.13 0.5 0.5510.44 0.560.630.37 0.630.630.36 0.64 0.640.640.36 0.640.36 0.640.36 0.640.36 0.640.640.37 0.630.620.62 0.620.38 0.620.38 0.620.61 0.610.39 0.610.610.61 0.60.39 0.610.60.6 0.60.4 0.60.60.580.570.550.41 0.590.530.49 0.51 0.510.60.580.570.520.48 0.52\n",
      "('существуем в существуем в существуем в существуем в позавидовать в позавидовать в позавидовать в существуем в биографам в практикуется крайней стрелявшего однако душевая работы разливательной предопределила шлифовалась в том , чтобы индивидуумы всех гауляйтеры и предложу полубог в дело .', 0.5352328336582735, 0.09237029037593975)\n"
     ]
    },
    {
     "name": "stderr",
     "output_type": "stream",
     "text": [
      "/usr/local/lib/python3.8/site-packages/scipy/spatial/distance.py:699: RuntimeWarning: invalid value encountered in double_scalars\n",
      "  dist = 1.0 - uv / np.sqrt(uu * vv)\n"
     ]
    },
    {
     "name": "stdout",
     "output_type": "stream",
     "text": [
      "INFO:tensorflow:Assets written to: models/discriminator/assets\n",
      "INFO:tensorflow:Assets written to: models/generator/assets\n",
      "INFO:tensorflow:Assets written to: models/gan/assets\n"
     ]
    },
    {
     "data": {
      "application/vnd.jupyter.widget-view+json": {
       "model_id": "",
       "version_major": 2,
       "version_minor": 0
      },
      "text/plain": [
       "  0%|          | 0/100 [00:00<?, ?it/s]"
      ]
     },
     "metadata": {},
     "output_type": "display_data"
    },
    {
     "name": "stdout",
     "output_type": "stream",
     "text": [
      "0.13 0.5 0.55110.510.5 0.50.50.5 0.50.5 0.50.5 0.50.5 0.50.50.670.32 0.680.32 0.680.660.35 0.650.38 0.620.550.520.48 0.520.510.21 0.79\n"
     ]
    },
    {
     "name": "stderr",
     "output_type": "stream",
     "text": [
      "/usr/local/lib/python3.8/site-packages/scipy/spatial/distance.py:699: RuntimeWarning: invalid value encountered in double_scalars\n",
      "  dist = 1.0 - uv / np.sqrt(uu * vv)\n"
     ]
    },
    {
     "name": "stdout",
     "output_type": "stream",
     "text": [
      "('выменять выменять выменять выменять выменять выменять выменять выменять выменять выменять выменять выменять выменять выменять выменять выменять выменять клерков сарванлар отвернет придвинулись однако уменьшало работы медсестра дежурил заявились в том очередь чтобы стопорится всех аделфи и потрясали смыслах в выращивала .', 0.6778869948421533, 0.11134077890849355)\n",
      "INFO:tensorflow:Assets written to: models/discriminator/assets\n",
      "INFO:tensorflow:Assets written to: models/generator/assets\n",
      "INFO:tensorflow:Assets written to: models/gan/assets\n"
     ]
    },
    {
     "data": {
      "application/vnd.jupyter.widget-view+json": {
       "model_id": "",
       "version_major": 2,
       "version_minor": 0
      },
      "text/plain": [
       "  0%|          | 0/100 [00:00<?, ?it/s]"
      ]
     },
     "metadata": {},
     "output_type": "display_data"
    },
    {
     "name": "stdout",
     "output_type": "stream",
     "text": [
      "1.56 0.5 0.5512\n"
     ]
    },
    {
     "name": "stderr",
     "output_type": "stream",
     "text": [
      "/usr/local/lib/python3.8/site-packages/scipy/spatial/distance.py:699: RuntimeWarning: invalid value encountered in double_scalars\n",
      "  dist = 1.0 - uv / np.sqrt(uu * vv)\n"
     ]
    },
    {
     "name": "stdout",
     "output_type": "stream",
     "text": [
      "('возвратиться возвратиться возвратиться возвратиться возвратиться возвратиться возвратиться возвратиться возвратиться возвратиться возвратиться возвратиться возвратиться возвратиться возвратиться возвратиться возвратиться мягкосердечен мягкосердечен падуанский стульям однако подзащитному работы эспаньолкой ветрогенератором уэйтстилл в том , чтобы живется всех мишиного и выдержал выпивши в дело кондоминиумов', 0.6629181352372353, 0.06711680897333741)\n",
      "INFO:tensorflow:Assets written to: models/discriminator/assets\n",
      "INFO:tensorflow:Assets written to: models/generator/assets\n",
      "INFO:tensorflow:Assets written to: models/gan/assets\n"
     ]
    },
    {
     "data": {
      "application/vnd.jupyter.widget-view+json": {
       "model_id": "",
       "version_major": 2,
       "version_minor": 0
      },
      "text/plain": [
       "  0%|          | 0/100 [00:00<?, ?it/s]"
      ]
     },
     "metadata": {},
     "output_type": "display_data"
    },
    {
     "name": "stdout",
     "output_type": "stream",
     "text": [
      "6.44 0.5 0.551260.780.910.13 0.87\n",
      "('неутешительны объединяемые неутешительны объединяемые неутешительны объединяемые неутешительны объединяемые неутешительны объединяемые неутешительны объединяемые неутешительны объединяемые неутешительны объединяемые неутешительны объединяемые неутешительны объединяемые неутешительны однако сложа проката метисные ликования адлера в финальное прикасался чтобы попрекать всех фельдшерского и эмигрантский обрусевшие в телезависимость daewoo', 0.6672365878923581, 0.14798374363196087)\n"
     ]
    },
    {
     "name": "stderr",
     "output_type": "stream",
     "text": [
      "/usr/local/lib/python3.8/site-packages/scipy/spatial/distance.py:699: RuntimeWarning: invalid value encountered in double_scalars\n",
      "  dist = 1.0 - uv / np.sqrt(uu * vv)\n"
     ]
    },
    {
     "name": "stdout",
     "output_type": "stream",
     "text": [
      "INFO:tensorflow:Assets written to: models/discriminator/assets\n",
      "INFO:tensorflow:Assets written to: models/generator/assets\n",
      "INFO:tensorflow:Assets written to: models/gan/assets\n"
     ]
    },
    {
     "data": {
      "application/vnd.jupyter.widget-view+json": {
       "model_id": "",
       "version_major": 2,
       "version_minor": 0
      },
      "text/plain": [
       "  0%|          | 0/100 [00:00<?, ?it/s]"
      ]
     },
     "metadata": {},
     "output_type": "display_data"
    },
    {
     "name": "stdout",
     "output_type": "stream",
     "text": [
      "469.28 0.51 0.49520.50.28 0.720.28 0.720.75 0.910.14 0.860.710.96\n",
      "('водородная поправиться водородная поправиться водородная поправиться водородная поправиться водородная поправиться пуститься поправиться пуститься поправиться пуститься поправиться антинорманистами поправиться пуститься поправиться норманистами однако возницами распространились луанде миропорядке боярской в тульской синхронизовались смутные перекосив многих работающее и армянском 211-ю в одноклассника полиграф', 0.8438753083106488, 0.14221322110994897)\n"
     ]
    },
    {
     "name": "stderr",
     "output_type": "stream",
     "text": [
      "/usr/local/lib/python3.8/site-packages/scipy/spatial/distance.py:699: RuntimeWarning: invalid value encountered in double_scalars\n",
      "  dist = 1.0 - uv / np.sqrt(uu * vv)\n"
     ]
    },
    {
     "name": "stdout",
     "output_type": "stream",
     "text": [
      "INFO:tensorflow:Assets written to: models/discriminator/assets\n",
      "INFO:tensorflow:Assets written to: models/generator/assets\n",
      "INFO:tensorflow:Assets written to: models/gan/assets\n"
     ]
    },
    {
     "data": {
      "application/vnd.jupyter.widget-view+json": {
       "model_id": "",
       "version_major": 2,
       "version_minor": 0
      },
      "text/plain": [
       "  0%|          | 0/100 [00:00<?, ?it/s]"
      ]
     },
     "metadata": {},
     "output_type": "display_data"
    },
    {
     "name": "stdout",
     "output_type": "stream",
     "text": [
      "3393919.0 0.54 0.46606 0.940.06 0.940.950.990.37 0.63\n",
      "('изнуряющей изнуряющей письменно письменно конечную изнуряющей изнуряющей изнуряющей изнуряющей письменно письменно письменно вылечить письменно излишних излишних детальная изнуряющей резке программированием оппозиционности кончаются шайбу происки постиракский пургу дулаг канадцы отрапортовать лифтостроительный постигаем кривизны отрапортовать подтвержденные чешет моментальных мятый канадцы отрапортовать подтвержденные', 0.7162887225858867, 0.26129904712175767)\n"
     ]
    },
    {
     "name": "stderr",
     "output_type": "stream",
     "text": [
      "/usr/local/lib/python3.8/site-packages/scipy/spatial/distance.py:699: RuntimeWarning: invalid value encountered in double_scalars\n",
      "  dist = 1.0 - uv / np.sqrt(uu * vv)\n"
     ]
    },
    {
     "name": "stdout",
     "output_type": "stream",
     "text": [
      "INFO:tensorflow:Assets written to: models/discriminator/assets\n",
      "INFO:tensorflow:Assets written to: models/generator/assets\n",
      "INFO:tensorflow:Assets written to: models/gan/assets\n"
     ]
    },
    {
     "data": {
      "application/vnd.jupyter.widget-view+json": {
       "model_id": "",
       "version_major": 2,
       "version_minor": 0
      },
      "text/plain": [
       "  0%|          | 0/100 [00:00<?, ?it/s]"
      ]
     },
     "metadata": {},
     "output_type": "display_data"
    },
    {
     "name": "stdout",
     "output_type": "stream",
     "text": [
      "12517683.0 0.54 0.467\n"
     ]
    },
    {
     "name": "stderr",
     "output_type": "stream",
     "text": [
      "/usr/local/lib/python3.8/site-packages/scipy/spatial/distance.py:699: RuntimeWarning: invalid value encountered in double_scalars\n",
      "  dist = 1.0 - uv / np.sqrt(uu * vv)\n"
     ]
    },
    {
     "name": "stdout",
     "output_type": "stream",
     "text": [
      "('передаточным грубоватый передаточным грубоватый передаточным выдвигающий передаточным выяснят передаточным выяснят передаточным выяснят передаточным человечны молчу человечны иогеля кнопок миллиардером добродушно tsmc фетиш энергетикам иве обнажают высвобождают бываешь кунцевской колоколов обманываться кунцевской относящейся горожан покровителе восполнять принявших управляться кунцевской уравновесили смущал', 0.7689002422938267, 0.26573022462986223)\n",
      "INFO:tensorflow:Assets written to: models/discriminator/assets\n",
      "INFO:tensorflow:Assets written to: models/generator/assets\n",
      "INFO:tensorflow:Assets written to: models/gan/assets\n"
     ]
    },
    {
     "data": {
      "application/vnd.jupyter.widget-view+json": {
       "model_id": "",
       "version_major": 2,
       "version_minor": 0
      },
      "text/plain": [
       "  0%|          | 0/100 [00:00<?, ?it/s]"
      ]
     },
     "metadata": {},
     "output_type": "display_data"
    },
    {
     "name": "stdout",
     "output_type": "stream",
     "text": [
      "19833587712.0 0.55 0.45\n"
     ]
    },
    {
     "name": "stderr",
     "output_type": "stream",
     "text": [
      "/usr/local/lib/python3.8/site-packages/scipy/spatial/distance.py:699: RuntimeWarning: invalid value encountered in double_scalars\n",
      "  dist = 1.0 - uv / np.sqrt(uu * vv)\n"
     ]
    },
    {
     "name": "stdout",
     "output_type": "stream",
     "text": [
      "('заполошный заполошный 105-летием шпионскими 105-летием шпионскими 105-летием позовут росрегистрацией росрегистрацией росрегистрацией забастовщиками заполошный позовут заполошный позовут иже генкой росрегистрацией иже антинорманистами авторитарность декларативным в функционировали вытаскиваем обнинска англоязычным антоном горшкову декларативным привязали санкция истекли обезболивание оттеснили 1920-м росрегистрацией антинорманистами бесовским', 1.0969055817986373, 0.36494953641252004)\n",
      "INFO:tensorflow:Assets written to: models/discriminator/assets\n",
      "INFO:tensorflow:Assets written to: models/generator/assets\n",
      "INFO:tensorflow:Assets written to: models/gan/assets\n"
     ]
    },
    {
     "data": {
      "application/vnd.jupyter.widget-view+json": {
       "model_id": "f7c4f9e805d649b2897497fe48b272f2",
       "version_major": 2,
       "version_minor": 0
      },
      "text/plain": [
       "  0%|          | 0/100 [00:00<?, ?it/s]"
      ]
     },
     "metadata": {},
     "output_type": "display_data"
    },
    {
     "name": "stdout",
     "output_type": "stream",
     "text": [
      "3363425536.0 0.54 0.465\r"
     ]
    },
    {
     "ename": "KeyboardInterrupt",
     "evalue": "",
     "output_type": "error",
     "traceback": [
      "\u001b[0;31m---------------------------------------------------------------------------\u001b[0m",
      "\u001b[0;31mKeyboardInterrupt\u001b[0m                         Traceback (most recent call last)",
      "\u001b[0;32m<ipython-input-34-080a0bda8446>\u001b[0m in \u001b[0;36m<module>\u001b[0;34m\u001b[0m\n\u001b[1;32m     32\u001b[0m \u001b[0;31m#         print(discriminator.train_on_batch(X, [y_real_fake, np.array(y_labels)]))\u001b[0m\u001b[0;34m\u001b[0m\u001b[0;34m\u001b[0m\u001b[0;34m\u001b[0m\u001b[0m\n\u001b[1;32m     33\u001b[0m         \u001b[0mdiscriminator\u001b[0m\u001b[0;34m.\u001b[0m\u001b[0mtrainable\u001b[0m \u001b[0;34m=\u001b[0m \u001b[0;32mTrue\u001b[0m\u001b[0;34m\u001b[0m\u001b[0;34m\u001b[0m\u001b[0m\n\u001b[0;32m---> 34\u001b[0;31m         \u001b[0mloss\u001b[0m\u001b[0;34m,\u001b[0m \u001b[0m_\u001b[0m\u001b[0;34m,\u001b[0m \u001b[0m_\u001b[0m\u001b[0;34m,\u001b[0m \u001b[0maccuracy\u001b[0m \u001b[0;34m=\u001b[0m \u001b[0mdiscriminator\u001b[0m\u001b[0;34m.\u001b[0m\u001b[0mtrain_on_batch\u001b[0m\u001b[0;34m(\u001b[0m\u001b[0mX\u001b[0m\u001b[0;34m,\u001b[0m \u001b[0;34m[\u001b[0m\u001b[0my_real_fake\u001b[0m\u001b[0;34m,\u001b[0m \u001b[0mnp\u001b[0m\u001b[0;34m.\u001b[0m\u001b[0marray\u001b[0m\u001b[0;34m(\u001b[0m\u001b[0my_labels\u001b[0m\u001b[0;34m)\u001b[0m\u001b[0;34m]\u001b[0m\u001b[0;34m)\u001b[0m\u001b[0;34m\u001b[0m\u001b[0;34m\u001b[0m\u001b[0m\n\u001b[0m\u001b[1;32m     35\u001b[0m         \u001b[0;31m# print('1', loss, accuracy, discriminator(sent_batch)[0])\u001b[0m\u001b[0;34m\u001b[0m\u001b[0;34m\u001b[0m\u001b[0;34m\u001b[0m\u001b[0m\n\u001b[1;32m     36\u001b[0m         \u001b[0mdiscriminator_accuracy_cumulative\u001b[0m \u001b[0;34m=\u001b[0m \u001b[0;36m0.99\u001b[0m \u001b[0;34m*\u001b[0m \u001b[0mdiscriminator_accuracy_cumulative\u001b[0m \u001b[0;34m+\u001b[0m \u001b[0;36m0.01\u001b[0m \u001b[0;34m*\u001b[0m \u001b[0maccuracy\u001b[0m\u001b[0;34m\u001b[0m\u001b[0;34m\u001b[0m\u001b[0m\n",
      "\u001b[0;32m/usr/local/lib/python3.8/site-packages/tensorflow/python/keras/engine/training.py\u001b[0m in \u001b[0;36mtrain_on_batch\u001b[0;34m(self, x, y, sample_weight, class_weight, reset_metrics, return_dict)\u001b[0m\n\u001b[1;32m   1728\u001b[0m \u001b[0;34m\u001b[0m\u001b[0m\n\u001b[1;32m   1729\u001b[0m     \u001b[0;32mif\u001b[0m \u001b[0mreset_metrics\u001b[0m\u001b[0;34m:\u001b[0m\u001b[0;34m\u001b[0m\u001b[0;34m\u001b[0m\u001b[0m\n\u001b[0;32m-> 1730\u001b[0;31m       \u001b[0mself\u001b[0m\u001b[0;34m.\u001b[0m\u001b[0mreset_metrics\u001b[0m\u001b[0;34m(\u001b[0m\u001b[0;34m)\u001b[0m\u001b[0;34m\u001b[0m\u001b[0;34m\u001b[0m\u001b[0m\n\u001b[0m\u001b[1;32m   1731\u001b[0m     \u001b[0mlogs\u001b[0m \u001b[0;34m=\u001b[0m \u001b[0mtf_utils\u001b[0m\u001b[0;34m.\u001b[0m\u001b[0mto_numpy_or_python_type\u001b[0m\u001b[0;34m(\u001b[0m\u001b[0mlogs\u001b[0m\u001b[0;34m)\u001b[0m\u001b[0;34m\u001b[0m\u001b[0;34m\u001b[0m\u001b[0m\n\u001b[1;32m   1732\u001b[0m     \u001b[0;32mif\u001b[0m \u001b[0mreturn_dict\u001b[0m\u001b[0;34m:\u001b[0m\u001b[0;34m\u001b[0m\u001b[0;34m\u001b[0m\u001b[0m\n",
      "\u001b[0;32m/usr/local/lib/python3.8/site-packages/tensorflow/python/keras/engine/training.py\u001b[0m in \u001b[0;36mreset_metrics\u001b[0;34m(self)\u001b[0m\n\u001b[1;32m   1667\u001b[0m     \"\"\"\n\u001b[1;32m   1668\u001b[0m     \u001b[0;32mfor\u001b[0m \u001b[0mm\u001b[0m \u001b[0;32min\u001b[0m \u001b[0mself\u001b[0m\u001b[0;34m.\u001b[0m\u001b[0mmetrics\u001b[0m\u001b[0;34m:\u001b[0m\u001b[0;34m\u001b[0m\u001b[0;34m\u001b[0m\u001b[0m\n\u001b[0;32m-> 1669\u001b[0;31m       \u001b[0mm\u001b[0m\u001b[0;34m.\u001b[0m\u001b[0mreset_states\u001b[0m\u001b[0;34m(\u001b[0m\u001b[0;34m)\u001b[0m\u001b[0;34m\u001b[0m\u001b[0;34m\u001b[0m\u001b[0m\n\u001b[0m\u001b[1;32m   1670\u001b[0m \u001b[0;34m\u001b[0m\u001b[0m\n\u001b[1;32m   1671\u001b[0m   def train_on_batch(self,\n",
      "\u001b[0;32m/usr/local/lib/python3.8/site-packages/tensorflow/python/keras/metrics.py\u001b[0m in \u001b[0;36mreset_states\u001b[0;34m(self)\u001b[0m\n\u001b[1;32m    251\u001b[0m     \u001b[0mwhen\u001b[0m \u001b[0ma\u001b[0m \u001b[0mmetric\u001b[0m \u001b[0;32mis\u001b[0m \u001b[0mevaluated\u001b[0m \u001b[0mduring\u001b[0m \u001b[0mtraining\u001b[0m\u001b[0;34m.\u001b[0m\u001b[0;34m\u001b[0m\u001b[0;34m\u001b[0m\u001b[0m\n\u001b[1;32m    252\u001b[0m     \"\"\"\n\u001b[0;32m--> 253\u001b[0;31m     \u001b[0mK\u001b[0m\u001b[0;34m.\u001b[0m\u001b[0mbatch_set_value\u001b[0m\u001b[0;34m(\u001b[0m\u001b[0;34m[\u001b[0m\u001b[0;34m(\u001b[0m\u001b[0mv\u001b[0m\u001b[0;34m,\u001b[0m \u001b[0;36m0\u001b[0m\u001b[0;34m)\u001b[0m \u001b[0;32mfor\u001b[0m \u001b[0mv\u001b[0m \u001b[0;32min\u001b[0m \u001b[0mself\u001b[0m\u001b[0;34m.\u001b[0m\u001b[0mvariables\u001b[0m\u001b[0;34m]\u001b[0m\u001b[0;34m)\u001b[0m\u001b[0;34m\u001b[0m\u001b[0;34m\u001b[0m\u001b[0m\n\u001b[0m\u001b[1;32m    254\u001b[0m \u001b[0;34m\u001b[0m\u001b[0m\n\u001b[1;32m    255\u001b[0m   \u001b[0;34m@\u001b[0m\u001b[0mabc\u001b[0m\u001b[0;34m.\u001b[0m\u001b[0mabstractmethod\u001b[0m\u001b[0;34m\u001b[0m\u001b[0;34m\u001b[0m\u001b[0m\n",
      "\u001b[0;32m/usr/local/lib/python3.8/site-packages/tensorflow/python/util/dispatch.py\u001b[0m in \u001b[0;36mwrapper\u001b[0;34m(*args, **kwargs)\u001b[0m\n\u001b[1;32m    199\u001b[0m     \u001b[0;34m\"\"\"Call target, and fall back on dispatchers if there is a TypeError.\"\"\"\u001b[0m\u001b[0;34m\u001b[0m\u001b[0;34m\u001b[0m\u001b[0m\n\u001b[1;32m    200\u001b[0m     \u001b[0;32mtry\u001b[0m\u001b[0;34m:\u001b[0m\u001b[0;34m\u001b[0m\u001b[0;34m\u001b[0m\u001b[0m\n\u001b[0;32m--> 201\u001b[0;31m       \u001b[0;32mreturn\u001b[0m \u001b[0mtarget\u001b[0m\u001b[0;34m(\u001b[0m\u001b[0;34m*\u001b[0m\u001b[0margs\u001b[0m\u001b[0;34m,\u001b[0m \u001b[0;34m**\u001b[0m\u001b[0mkwargs\u001b[0m\u001b[0;34m)\u001b[0m\u001b[0;34m\u001b[0m\u001b[0;34m\u001b[0m\u001b[0m\n\u001b[0m\u001b[1;32m    202\u001b[0m     \u001b[0;32mexcept\u001b[0m \u001b[0;34m(\u001b[0m\u001b[0mTypeError\u001b[0m\u001b[0;34m,\u001b[0m \u001b[0mValueError\u001b[0m\u001b[0;34m)\u001b[0m\u001b[0;34m:\u001b[0m\u001b[0;34m\u001b[0m\u001b[0;34m\u001b[0m\u001b[0m\n\u001b[1;32m    203\u001b[0m       \u001b[0;31m# Note: convert_to_eager_tensor currently raises a ValueError, not a\u001b[0m\u001b[0;34m\u001b[0m\u001b[0;34m\u001b[0m\u001b[0;34m\u001b[0m\u001b[0m\n",
      "\u001b[0;32m/usr/local/lib/python3.8/site-packages/tensorflow/python/keras/backend.py\u001b[0m in \u001b[0;36mbatch_set_value\u001b[0;34m(tuples)\u001b[0m\n\u001b[1;32m   3704\u001b[0m   \u001b[0;32mif\u001b[0m \u001b[0mops\u001b[0m\u001b[0;34m.\u001b[0m\u001b[0mexecuting_eagerly_outside_functions\u001b[0m\u001b[0;34m(\u001b[0m\u001b[0;34m)\u001b[0m\u001b[0;34m:\u001b[0m\u001b[0;34m\u001b[0m\u001b[0;34m\u001b[0m\u001b[0m\n\u001b[1;32m   3705\u001b[0m     \u001b[0;32mfor\u001b[0m \u001b[0mx\u001b[0m\u001b[0;34m,\u001b[0m \u001b[0mvalue\u001b[0m \u001b[0;32min\u001b[0m \u001b[0mtuples\u001b[0m\u001b[0;34m:\u001b[0m\u001b[0;34m\u001b[0m\u001b[0;34m\u001b[0m\u001b[0m\n\u001b[0;32m-> 3706\u001b[0;31m       \u001b[0mx\u001b[0m\u001b[0;34m.\u001b[0m\u001b[0massign\u001b[0m\u001b[0;34m(\u001b[0m\u001b[0mnp\u001b[0m\u001b[0;34m.\u001b[0m\u001b[0masarray\u001b[0m\u001b[0;34m(\u001b[0m\u001b[0mvalue\u001b[0m\u001b[0;34m,\u001b[0m \u001b[0mdtype\u001b[0m\u001b[0;34m=\u001b[0m\u001b[0mdtype\u001b[0m\u001b[0;34m(\u001b[0m\u001b[0mx\u001b[0m\u001b[0;34m)\u001b[0m\u001b[0;34m)\u001b[0m\u001b[0;34m)\u001b[0m\u001b[0;34m\u001b[0m\u001b[0;34m\u001b[0m\u001b[0m\n\u001b[0m\u001b[1;32m   3707\u001b[0m   \u001b[0;32melse\u001b[0m\u001b[0;34m:\u001b[0m\u001b[0;34m\u001b[0m\u001b[0;34m\u001b[0m\u001b[0m\n\u001b[1;32m   3708\u001b[0m     \u001b[0;32mwith\u001b[0m \u001b[0mget_graph\u001b[0m\u001b[0;34m(\u001b[0m\u001b[0;34m)\u001b[0m\u001b[0;34m.\u001b[0m\u001b[0mas_default\u001b[0m\u001b[0;34m(\u001b[0m\u001b[0;34m)\u001b[0m\u001b[0;34m:\u001b[0m\u001b[0;34m\u001b[0m\u001b[0;34m\u001b[0m\u001b[0m\n",
      "\u001b[0;32m/usr/local/lib/python3.8/site-packages/tensorflow/python/ops/resource_variable_ops.py\u001b[0m in \u001b[0;36massign\u001b[0;34m(self, value, use_locking, name, read_value)\u001b[0m\n\u001b[1;32m    880\u001b[0m     \u001b[0;31m# initialize the variable.\u001b[0m\u001b[0;34m\u001b[0m\u001b[0;34m\u001b[0m\u001b[0;34m\u001b[0m\u001b[0m\n\u001b[1;32m    881\u001b[0m     \u001b[0;32mwith\u001b[0m \u001b[0m_handle_graph\u001b[0m\u001b[0;34m(\u001b[0m\u001b[0mself\u001b[0m\u001b[0;34m.\u001b[0m\u001b[0mhandle\u001b[0m\u001b[0;34m)\u001b[0m\u001b[0;34m:\u001b[0m\u001b[0;34m\u001b[0m\u001b[0;34m\u001b[0m\u001b[0m\n\u001b[0;32m--> 882\u001b[0;31m       \u001b[0mvalue_tensor\u001b[0m \u001b[0;34m=\u001b[0m \u001b[0mops\u001b[0m\u001b[0;34m.\u001b[0m\u001b[0mconvert_to_tensor\u001b[0m\u001b[0;34m(\u001b[0m\u001b[0mvalue\u001b[0m\u001b[0;34m,\u001b[0m \u001b[0mdtype\u001b[0m\u001b[0;34m=\u001b[0m\u001b[0mself\u001b[0m\u001b[0;34m.\u001b[0m\u001b[0mdtype\u001b[0m\u001b[0;34m)\u001b[0m\u001b[0;34m\u001b[0m\u001b[0;34m\u001b[0m\u001b[0m\n\u001b[0m\u001b[1;32m    883\u001b[0m       \u001b[0;32mif\u001b[0m \u001b[0;32mnot\u001b[0m \u001b[0mself\u001b[0m\u001b[0;34m.\u001b[0m\u001b[0m_shape\u001b[0m\u001b[0;34m.\u001b[0m\u001b[0mis_compatible_with\u001b[0m\u001b[0;34m(\u001b[0m\u001b[0mvalue_tensor\u001b[0m\u001b[0;34m.\u001b[0m\u001b[0mshape\u001b[0m\u001b[0;34m)\u001b[0m\u001b[0;34m:\u001b[0m\u001b[0;34m\u001b[0m\u001b[0;34m\u001b[0m\u001b[0m\n\u001b[1;32m    884\u001b[0m         \u001b[0;32mif\u001b[0m \u001b[0mself\u001b[0m\u001b[0;34m.\u001b[0m\u001b[0mname\u001b[0m \u001b[0;32mis\u001b[0m \u001b[0;32mNone\u001b[0m\u001b[0;34m:\u001b[0m\u001b[0;34m\u001b[0m\u001b[0;34m\u001b[0m\u001b[0m\n",
      "\u001b[0;32m/usr/local/lib/python3.8/site-packages/tensorflow/python/profiler/trace.py\u001b[0m in \u001b[0;36mwrapped\u001b[0;34m(*args, **kwargs)\u001b[0m\n\u001b[1;32m    161\u001b[0m         \u001b[0;32mwith\u001b[0m \u001b[0mTrace\u001b[0m\u001b[0;34m(\u001b[0m\u001b[0mtrace_name\u001b[0m\u001b[0;34m,\u001b[0m \u001b[0;34m**\u001b[0m\u001b[0mtrace_kwargs\u001b[0m\u001b[0;34m)\u001b[0m\u001b[0;34m:\u001b[0m\u001b[0;34m\u001b[0m\u001b[0;34m\u001b[0m\u001b[0m\n\u001b[1;32m    162\u001b[0m           \u001b[0;32mreturn\u001b[0m \u001b[0mfunc\u001b[0m\u001b[0;34m(\u001b[0m\u001b[0;34m*\u001b[0m\u001b[0margs\u001b[0m\u001b[0;34m,\u001b[0m \u001b[0;34m**\u001b[0m\u001b[0mkwargs\u001b[0m\u001b[0;34m)\u001b[0m\u001b[0;34m\u001b[0m\u001b[0;34m\u001b[0m\u001b[0m\n\u001b[0;32m--> 163\u001b[0;31m       \u001b[0;32mreturn\u001b[0m \u001b[0mfunc\u001b[0m\u001b[0;34m(\u001b[0m\u001b[0;34m*\u001b[0m\u001b[0margs\u001b[0m\u001b[0;34m,\u001b[0m \u001b[0;34m**\u001b[0m\u001b[0mkwargs\u001b[0m\u001b[0;34m)\u001b[0m\u001b[0;34m\u001b[0m\u001b[0;34m\u001b[0m\u001b[0m\n\u001b[0m\u001b[1;32m    164\u001b[0m \u001b[0;34m\u001b[0m\u001b[0m\n\u001b[1;32m    165\u001b[0m     \u001b[0;32mreturn\u001b[0m \u001b[0mwrapped\u001b[0m\u001b[0;34m\u001b[0m\u001b[0;34m\u001b[0m\u001b[0m\n",
      "\u001b[0;32m/usr/local/lib/python3.8/site-packages/tensorflow/python/framework/ops.py\u001b[0m in \u001b[0;36mconvert_to_tensor\u001b[0;34m(value, dtype, name, as_ref, preferred_dtype, dtype_hint, ctx, accepted_result_types)\u001b[0m\n\u001b[1;32m   1538\u001b[0m \u001b[0;34m\u001b[0m\u001b[0m\n\u001b[1;32m   1539\u001b[0m     \u001b[0;32mif\u001b[0m \u001b[0mret\u001b[0m \u001b[0;32mis\u001b[0m \u001b[0;32mNone\u001b[0m\u001b[0;34m:\u001b[0m\u001b[0;34m\u001b[0m\u001b[0;34m\u001b[0m\u001b[0m\n\u001b[0;32m-> 1540\u001b[0;31m       \u001b[0mret\u001b[0m \u001b[0;34m=\u001b[0m \u001b[0mconversion_func\u001b[0m\u001b[0;34m(\u001b[0m\u001b[0mvalue\u001b[0m\u001b[0;34m,\u001b[0m \u001b[0mdtype\u001b[0m\u001b[0;34m=\u001b[0m\u001b[0mdtype\u001b[0m\u001b[0;34m,\u001b[0m \u001b[0mname\u001b[0m\u001b[0;34m=\u001b[0m\u001b[0mname\u001b[0m\u001b[0;34m,\u001b[0m \u001b[0mas_ref\u001b[0m\u001b[0;34m=\u001b[0m\u001b[0mas_ref\u001b[0m\u001b[0;34m)\u001b[0m\u001b[0;34m\u001b[0m\u001b[0;34m\u001b[0m\u001b[0m\n\u001b[0m\u001b[1;32m   1541\u001b[0m \u001b[0;34m\u001b[0m\u001b[0m\n\u001b[1;32m   1542\u001b[0m     \u001b[0;32mif\u001b[0m \u001b[0mret\u001b[0m \u001b[0;32mis\u001b[0m \u001b[0mNotImplemented\u001b[0m\u001b[0;34m:\u001b[0m\u001b[0;34m\u001b[0m\u001b[0;34m\u001b[0m\u001b[0m\n",
      "\u001b[0;32m/usr/local/lib/python3.8/site-packages/tensorflow/python/framework/tensor_conversion_registry.py\u001b[0m in \u001b[0;36m_default_conversion_function\u001b[0;34m(***failed resolving arguments***)\u001b[0m\n\u001b[1;32m     50\u001b[0m \u001b[0;32mdef\u001b[0m \u001b[0m_default_conversion_function\u001b[0m\u001b[0;34m(\u001b[0m\u001b[0mvalue\u001b[0m\u001b[0;34m,\u001b[0m \u001b[0mdtype\u001b[0m\u001b[0;34m,\u001b[0m \u001b[0mname\u001b[0m\u001b[0;34m,\u001b[0m \u001b[0mas_ref\u001b[0m\u001b[0;34m)\u001b[0m\u001b[0;34m:\u001b[0m\u001b[0;34m\u001b[0m\u001b[0;34m\u001b[0m\u001b[0m\n\u001b[1;32m     51\u001b[0m   \u001b[0;32mdel\u001b[0m \u001b[0mas_ref\u001b[0m  \u001b[0;31m# Unused.\u001b[0m\u001b[0;34m\u001b[0m\u001b[0;34m\u001b[0m\u001b[0m\n\u001b[0;32m---> 52\u001b[0;31m   \u001b[0;32mreturn\u001b[0m \u001b[0mconstant_op\u001b[0m\u001b[0;34m.\u001b[0m\u001b[0mconstant\u001b[0m\u001b[0;34m(\u001b[0m\u001b[0mvalue\u001b[0m\u001b[0;34m,\u001b[0m \u001b[0mdtype\u001b[0m\u001b[0;34m,\u001b[0m \u001b[0mname\u001b[0m\u001b[0;34m=\u001b[0m\u001b[0mname\u001b[0m\u001b[0;34m)\u001b[0m\u001b[0;34m\u001b[0m\u001b[0;34m\u001b[0m\u001b[0m\n\u001b[0m\u001b[1;32m     53\u001b[0m \u001b[0;34m\u001b[0m\u001b[0m\n\u001b[1;32m     54\u001b[0m \u001b[0;34m\u001b[0m\u001b[0m\n",
      "\u001b[0;32m/usr/local/lib/python3.8/site-packages/tensorflow/python/framework/constant_op.py\u001b[0m in \u001b[0;36mconstant\u001b[0;34m(value, dtype, shape, name)\u001b[0m\n\u001b[1;32m    262\u001b[0m     \u001b[0mValueError\u001b[0m\u001b[0;34m:\u001b[0m \u001b[0;32mif\u001b[0m \u001b[0mcalled\u001b[0m \u001b[0mon\u001b[0m \u001b[0ma\u001b[0m \u001b[0msymbolic\u001b[0m \u001b[0mtensor\u001b[0m\u001b[0;34m.\u001b[0m\u001b[0;34m\u001b[0m\u001b[0;34m\u001b[0m\u001b[0m\n\u001b[1;32m    263\u001b[0m   \"\"\"\n\u001b[0;32m--> 264\u001b[0;31m   return _constant_impl(value, dtype, shape, name, verify_shape=False,\n\u001b[0m\u001b[1;32m    265\u001b[0m                         allow_broadcast=True)\n\u001b[1;32m    266\u001b[0m \u001b[0;34m\u001b[0m\u001b[0m\n",
      "\u001b[0;32m/usr/local/lib/python3.8/site-packages/tensorflow/python/framework/constant_op.py\u001b[0m in \u001b[0;36m_constant_impl\u001b[0;34m(value, dtype, shape, name, verify_shape, allow_broadcast)\u001b[0m\n\u001b[1;32m    274\u001b[0m       \u001b[0;32mwith\u001b[0m \u001b[0mtrace\u001b[0m\u001b[0;34m.\u001b[0m\u001b[0mTrace\u001b[0m\u001b[0;34m(\u001b[0m\u001b[0;34m\"tf.constant\"\u001b[0m\u001b[0;34m)\u001b[0m\u001b[0;34m:\u001b[0m\u001b[0;34m\u001b[0m\u001b[0;34m\u001b[0m\u001b[0m\n\u001b[1;32m    275\u001b[0m         \u001b[0;32mreturn\u001b[0m \u001b[0m_constant_eager_impl\u001b[0m\u001b[0;34m(\u001b[0m\u001b[0mctx\u001b[0m\u001b[0;34m,\u001b[0m \u001b[0mvalue\u001b[0m\u001b[0;34m,\u001b[0m \u001b[0mdtype\u001b[0m\u001b[0;34m,\u001b[0m \u001b[0mshape\u001b[0m\u001b[0;34m,\u001b[0m \u001b[0mverify_shape\u001b[0m\u001b[0;34m)\u001b[0m\u001b[0;34m\u001b[0m\u001b[0;34m\u001b[0m\u001b[0m\n\u001b[0;32m--> 276\u001b[0;31m     \u001b[0;32mreturn\u001b[0m \u001b[0m_constant_eager_impl\u001b[0m\u001b[0;34m(\u001b[0m\u001b[0mctx\u001b[0m\u001b[0;34m,\u001b[0m \u001b[0mvalue\u001b[0m\u001b[0;34m,\u001b[0m \u001b[0mdtype\u001b[0m\u001b[0;34m,\u001b[0m \u001b[0mshape\u001b[0m\u001b[0;34m,\u001b[0m \u001b[0mverify_shape\u001b[0m\u001b[0;34m)\u001b[0m\u001b[0;34m\u001b[0m\u001b[0;34m\u001b[0m\u001b[0m\n\u001b[0m\u001b[1;32m    277\u001b[0m \u001b[0;34m\u001b[0m\u001b[0m\n\u001b[1;32m    278\u001b[0m   \u001b[0mg\u001b[0m \u001b[0;34m=\u001b[0m \u001b[0mops\u001b[0m\u001b[0;34m.\u001b[0m\u001b[0mget_default_graph\u001b[0m\u001b[0;34m(\u001b[0m\u001b[0;34m)\u001b[0m\u001b[0;34m\u001b[0m\u001b[0;34m\u001b[0m\u001b[0m\n",
      "\u001b[0;32m/usr/local/lib/python3.8/site-packages/tensorflow/python/framework/constant_op.py\u001b[0m in \u001b[0;36m_constant_eager_impl\u001b[0;34m(ctx, value, dtype, shape, verify_shape)\u001b[0m\n\u001b[1;32m    299\u001b[0m \u001b[0;32mdef\u001b[0m \u001b[0m_constant_eager_impl\u001b[0m\u001b[0;34m(\u001b[0m\u001b[0mctx\u001b[0m\u001b[0;34m,\u001b[0m \u001b[0mvalue\u001b[0m\u001b[0;34m,\u001b[0m \u001b[0mdtype\u001b[0m\u001b[0;34m,\u001b[0m \u001b[0mshape\u001b[0m\u001b[0;34m,\u001b[0m \u001b[0mverify_shape\u001b[0m\u001b[0;34m)\u001b[0m\u001b[0;34m:\u001b[0m\u001b[0;34m\u001b[0m\u001b[0;34m\u001b[0m\u001b[0m\n\u001b[1;32m    300\u001b[0m   \u001b[0;34m\"\"\"Implementation of eager constant.\"\"\"\u001b[0m\u001b[0;34m\u001b[0m\u001b[0;34m\u001b[0m\u001b[0m\n\u001b[0;32m--> 301\u001b[0;31m   \u001b[0mt\u001b[0m \u001b[0;34m=\u001b[0m \u001b[0mconvert_to_eager_tensor\u001b[0m\u001b[0;34m(\u001b[0m\u001b[0mvalue\u001b[0m\u001b[0;34m,\u001b[0m \u001b[0mctx\u001b[0m\u001b[0;34m,\u001b[0m \u001b[0mdtype\u001b[0m\u001b[0;34m)\u001b[0m\u001b[0;34m\u001b[0m\u001b[0;34m\u001b[0m\u001b[0m\n\u001b[0m\u001b[1;32m    302\u001b[0m   \u001b[0;32mif\u001b[0m \u001b[0mshape\u001b[0m \u001b[0;32mis\u001b[0m \u001b[0;32mNone\u001b[0m\u001b[0;34m:\u001b[0m\u001b[0;34m\u001b[0m\u001b[0;34m\u001b[0m\u001b[0m\n\u001b[1;32m    303\u001b[0m     \u001b[0;32mreturn\u001b[0m \u001b[0mt\u001b[0m\u001b[0;34m\u001b[0m\u001b[0;34m\u001b[0m\u001b[0m\n",
      "\u001b[0;32m/usr/local/lib/python3.8/site-packages/tensorflow/python/framework/constant_op.py\u001b[0m in \u001b[0;36mconvert_to_eager_tensor\u001b[0;34m(value, ctx, dtype)\u001b[0m\n\u001b[1;32m     96\u001b[0m       \u001b[0mdtype\u001b[0m \u001b[0;34m=\u001b[0m \u001b[0mdtypes\u001b[0m\u001b[0;34m.\u001b[0m\u001b[0mas_dtype\u001b[0m\u001b[0;34m(\u001b[0m\u001b[0mdtype\u001b[0m\u001b[0;34m)\u001b[0m\u001b[0;34m.\u001b[0m\u001b[0mas_datatype_enum\u001b[0m\u001b[0;34m\u001b[0m\u001b[0;34m\u001b[0m\u001b[0m\n\u001b[1;32m     97\u001b[0m   \u001b[0mctx\u001b[0m\u001b[0;34m.\u001b[0m\u001b[0mensure_initialized\u001b[0m\u001b[0;34m(\u001b[0m\u001b[0;34m)\u001b[0m\u001b[0;34m\u001b[0m\u001b[0;34m\u001b[0m\u001b[0m\n\u001b[0;32m---> 98\u001b[0;31m   \u001b[0;32mreturn\u001b[0m \u001b[0mops\u001b[0m\u001b[0;34m.\u001b[0m\u001b[0mEagerTensor\u001b[0m\u001b[0;34m(\u001b[0m\u001b[0mvalue\u001b[0m\u001b[0;34m,\u001b[0m \u001b[0mctx\u001b[0m\u001b[0;34m.\u001b[0m\u001b[0mdevice_name\u001b[0m\u001b[0;34m,\u001b[0m \u001b[0mdtype\u001b[0m\u001b[0;34m)\u001b[0m\u001b[0;34m\u001b[0m\u001b[0;34m\u001b[0m\u001b[0m\n\u001b[0m\u001b[1;32m     99\u001b[0m \u001b[0;34m\u001b[0m\u001b[0m\n\u001b[1;32m    100\u001b[0m \u001b[0;34m\u001b[0m\u001b[0m\n",
      "\u001b[0;31mKeyboardInterrupt\u001b[0m: "
     ]
    }
   ],
   "source": [
    "generator_acc_follow = []\n",
    "generator_accuracy_cumulative = 0.5\n",
    "discriminator_accuracy_cumulative = 0.5\n",
    "loss_cumulative = 1\n",
    "BATCH_SIZE = 128\n",
    "data = DataGenerator(labels, sentences, batches_per_epoch=100, batch_size=BATCH_SIZE)\n",
    "\n",
    "for epoch in range(300):\n",
    "    print()\n",
    "    generated_from_noise = generator(FIXED_NOISE)\n",
    "    for example in generated_from_noise:\n",
    "        print(message_recovery_with_metric(example))\n",
    "    # save_models()\n",
    "\n",
    "    for sent_batch, labels_batch in data:\n",
    "        ##########################\n",
    "        # discriminator training #\n",
    "        ##########################\n",
    "        noise = data.rand_batch()\n",
    "        generated_texts = generator(noise)\n",
    "        # X\n",
    "        X = np.concatenate([sent_batch, generated_texts])\n",
    "        # target valuest smoothing\n",
    "        y_real = np.random.uniform(0.8, 1, size=[BATCH_SIZE])\n",
    "        y_real = np.ones((BATCH_SIZE,))\n",
    "        y_fake = np.random.uniform(0, 0.2, size=[BATCH_SIZE])\n",
    "        y_fake = np.zeros((BATCH_SIZE,))\n",
    "        # Y\n",
    "        y_real_fake = np.concatenate([y_real, y_fake])\n",
    "        y_labels = np.concatenate([labels_batch, np.zeros((BATCH_SIZE, len(le.classes_)))]) \n",
    "        \n",
    "#         print(discriminator.train_on_batch(X, [y_real_fake, np.array(y_labels)]))\n",
    "        discriminator.trainable = True\n",
    "        loss, _, _, accuracy = discriminator.train_on_batch(X, [y_real_fake, np.array(y_labels)])\n",
    "        # print('1', loss, accuracy, discriminator(sent_batch)[0])\n",
    "        discriminator_accuracy_cumulative = 0.99 * discriminator_accuracy_cumulative + 0.01 * accuracy\n",
    "        generator_accuracy_cumulative = 1 - discriminator_accuracy_cumulative\n",
    "        \n",
    "        ######################\n",
    "        # generator training #\n",
    "        ######################\n",
    "        discriminator.trainable = False\n",
    "        while True:\n",
    "            noise = data.rand_batch()\n",
    "            # target values\n",
    "    #         y_real_fake = np.random.uniform(0.9, 1.0, size=[BATCH_SIZE])\n",
    "            y_real_fake = np.ones((BATCH_SIZE,))\n",
    "\n",
    "            # train GAN and save accuracy to array\n",
    "    #         print(gan.train_on_batch(noise, [y_real_fake, noise[1]]))\n",
    "\n",
    "            loss, _, _, accuracy = gan.train_on_batch(noise, [y_real_fake, noise[1]])\n",
    "            accuracy = tf.math.reduce_mean(gan(noise)[0])\n",
    "            # print('3', loss, accuracy)\n",
    "\n",
    "            generator_accuracy_cumulative = 0.99 * generator_accuracy_cumulative + 0.01 * accuracy\n",
    "            discriminator_accuracy_cumulative = 1 - generator_accuracy_cumulative\n",
    "            print( \n",
    "                round(float(loss), 2),\n",
    "                round(float(generator_accuracy_cumulative), 2),\n",
    "                round(float(discriminator_accuracy_cumulative), 2),\n",
    "                end='\\r',\n",
    "            )\n",
    "            if generator_accuracy_cumulative > 0.5:\n",
    "                break\n",
    "#     print()\n",
    "#     if epoch%10==0:\n",
    "#         generated_from_noise = generator(FIXED_NOISE)\n",
    "#         for example in generated_from_noise:\n",
    "#             print(message_recovery_with_metric(example))\n",
    "        "
   ]
  },
  {
   "cell_type": "markdown",
   "metadata": {},
   "source": [
    "expected: 'однако стиль работы семена еремеевича заключался в том , чтобы принимать всех желающих и лично вникать в дело .',"
   ]
  },
  {
   "cell_type": "code",
   "execution_count": 156,
   "metadata": {},
   "outputs": [
    {
     "ename": "TypeError",
     "evalue": "'NoneType' object is not callable",
     "output_type": "error",
     "traceback": [
      "\u001b[0;31m---------------------------------------------------------------------------\u001b[0m",
      "\u001b[0;31mTypeError\u001b[0m                                 Traceback (most recent call last)",
      "\u001b[0;32m<ipython-input-156-7d809d7ee15b>\u001b[0m in \u001b[0;36m<module>\u001b[0;34m\u001b[0m\n\u001b[0;32m----> 1\u001b[0;31m \u001b[0mdiscriminator\u001b[0m\u001b[0;34m.\u001b[0m\u001b[0mtrain_on_batch\u001b[0m\u001b[0;34m(\u001b[0m\u001b[0mX\u001b[0m\u001b[0;34m,\u001b[0m \u001b[0;34m[\u001b[0m\u001b[0my_real_fake\u001b[0m\u001b[0;34m,\u001b[0m \u001b[0mnp\u001b[0m\u001b[0;34m.\u001b[0m\u001b[0marray\u001b[0m\u001b[0;34m(\u001b[0m\u001b[0my_labels\u001b[0m\u001b[0;34m)\u001b[0m\u001b[0;34m]\u001b[0m\u001b[0;34m)\u001b[0m\u001b[0;34m\u001b[0m\u001b[0;34m\u001b[0m\u001b[0m\n\u001b[0m\u001b[1;32m      2\u001b[0m \u001b[0my_labels\u001b[0m\u001b[0;34m\u001b[0m\u001b[0;34m\u001b[0m\u001b[0m\n",
      "\u001b[0;32m/usr/local/lib/python3.8/site-packages/tensorflow/python/keras/engine/training.py\u001b[0m in \u001b[0;36mtrain_on_batch\u001b[0;34m(self, x, y, sample_weight, class_weight, reset_metrics, return_dict)\u001b[0m\n\u001b[1;32m   1725\u001b[0m                                                     class_weight)\n\u001b[1;32m   1726\u001b[0m       \u001b[0mself\u001b[0m\u001b[0;34m.\u001b[0m\u001b[0mtrain_function\u001b[0m \u001b[0;34m=\u001b[0m \u001b[0mself\u001b[0m\u001b[0;34m.\u001b[0m\u001b[0mmake_train_function\u001b[0m\u001b[0;34m(\u001b[0m\u001b[0;34m)\u001b[0m\u001b[0;34m\u001b[0m\u001b[0;34m\u001b[0m\u001b[0m\n\u001b[0;32m-> 1727\u001b[0;31m       \u001b[0mlogs\u001b[0m \u001b[0;34m=\u001b[0m \u001b[0mself\u001b[0m\u001b[0;34m.\u001b[0m\u001b[0mtrain_function\u001b[0m\u001b[0;34m(\u001b[0m\u001b[0miterator\u001b[0m\u001b[0;34m)\u001b[0m\u001b[0;34m\u001b[0m\u001b[0;34m\u001b[0m\u001b[0m\n\u001b[0m\u001b[1;32m   1728\u001b[0m \u001b[0;34m\u001b[0m\u001b[0m\n\u001b[1;32m   1729\u001b[0m     \u001b[0;32mif\u001b[0m \u001b[0mreset_metrics\u001b[0m\u001b[0;34m:\u001b[0m\u001b[0;34m\u001b[0m\u001b[0;34m\u001b[0m\u001b[0m\n",
      "\u001b[0;32m/usr/local/lib/python3.8/site-packages/tensorflow/python/eager/def_function.py\u001b[0m in \u001b[0;36m__call__\u001b[0;34m(self, *args, **kwds)\u001b[0m\n\u001b[1;32m    826\u001b[0m     \u001b[0mtracing_count\u001b[0m \u001b[0;34m=\u001b[0m \u001b[0mself\u001b[0m\u001b[0;34m.\u001b[0m\u001b[0mexperimental_get_tracing_count\u001b[0m\u001b[0;34m(\u001b[0m\u001b[0;34m)\u001b[0m\u001b[0;34m\u001b[0m\u001b[0;34m\u001b[0m\u001b[0m\n\u001b[1;32m    827\u001b[0m     \u001b[0;32mwith\u001b[0m \u001b[0mtrace\u001b[0m\u001b[0;34m.\u001b[0m\u001b[0mTrace\u001b[0m\u001b[0;34m(\u001b[0m\u001b[0mself\u001b[0m\u001b[0;34m.\u001b[0m\u001b[0m_name\u001b[0m\u001b[0;34m)\u001b[0m \u001b[0;32mas\u001b[0m \u001b[0mtm\u001b[0m\u001b[0;34m:\u001b[0m\u001b[0;34m\u001b[0m\u001b[0;34m\u001b[0m\u001b[0m\n\u001b[0;32m--> 828\u001b[0;31m       \u001b[0mresult\u001b[0m \u001b[0;34m=\u001b[0m \u001b[0mself\u001b[0m\u001b[0;34m.\u001b[0m\u001b[0m_call\u001b[0m\u001b[0;34m(\u001b[0m\u001b[0;34m*\u001b[0m\u001b[0margs\u001b[0m\u001b[0;34m,\u001b[0m \u001b[0;34m**\u001b[0m\u001b[0mkwds\u001b[0m\u001b[0;34m)\u001b[0m\u001b[0;34m\u001b[0m\u001b[0;34m\u001b[0m\u001b[0m\n\u001b[0m\u001b[1;32m    829\u001b[0m       \u001b[0mcompiler\u001b[0m \u001b[0;34m=\u001b[0m \u001b[0;34m\"xla\"\u001b[0m \u001b[0;32mif\u001b[0m \u001b[0mself\u001b[0m\u001b[0;34m.\u001b[0m\u001b[0m_experimental_compile\u001b[0m \u001b[0;32melse\u001b[0m \u001b[0;34m\"nonXla\"\u001b[0m\u001b[0;34m\u001b[0m\u001b[0;34m\u001b[0m\u001b[0m\n\u001b[1;32m    830\u001b[0m       \u001b[0mnew_tracing_count\u001b[0m \u001b[0;34m=\u001b[0m \u001b[0mself\u001b[0m\u001b[0;34m.\u001b[0m\u001b[0mexperimental_get_tracing_count\u001b[0m\u001b[0;34m(\u001b[0m\u001b[0;34m)\u001b[0m\u001b[0;34m\u001b[0m\u001b[0;34m\u001b[0m\u001b[0m\n",
      "\u001b[0;32m/usr/local/lib/python3.8/site-packages/tensorflow/python/eager/def_function.py\u001b[0m in \u001b[0;36m_call\u001b[0;34m(self, *args, **kwds)\u001b[0m\n\u001b[1;32m    853\u001b[0m       \u001b[0;31m# In this case we have created variables on the first call, so we run the\u001b[0m\u001b[0;34m\u001b[0m\u001b[0;34m\u001b[0m\u001b[0;34m\u001b[0m\u001b[0m\n\u001b[1;32m    854\u001b[0m       \u001b[0;31m# defunned version which is guaranteed to never create variables.\u001b[0m\u001b[0;34m\u001b[0m\u001b[0;34m\u001b[0m\u001b[0;34m\u001b[0m\u001b[0m\n\u001b[0;32m--> 855\u001b[0;31m       \u001b[0;32mreturn\u001b[0m \u001b[0mself\u001b[0m\u001b[0;34m.\u001b[0m\u001b[0m_stateless_fn\u001b[0m\u001b[0;34m(\u001b[0m\u001b[0;34m*\u001b[0m\u001b[0margs\u001b[0m\u001b[0;34m,\u001b[0m \u001b[0;34m**\u001b[0m\u001b[0mkwds\u001b[0m\u001b[0;34m)\u001b[0m  \u001b[0;31m# pylint: disable=not-callable\u001b[0m\u001b[0;34m\u001b[0m\u001b[0;34m\u001b[0m\u001b[0m\n\u001b[0m\u001b[1;32m    856\u001b[0m     \u001b[0;32melif\u001b[0m \u001b[0mself\u001b[0m\u001b[0;34m.\u001b[0m\u001b[0m_stateful_fn\u001b[0m \u001b[0;32mis\u001b[0m \u001b[0;32mnot\u001b[0m \u001b[0;32mNone\u001b[0m\u001b[0;34m:\u001b[0m\u001b[0;34m\u001b[0m\u001b[0;34m\u001b[0m\u001b[0m\n\u001b[1;32m    857\u001b[0m       \u001b[0;31m# Release the lock early so that multiple threads can perform the call\u001b[0m\u001b[0;34m\u001b[0m\u001b[0;34m\u001b[0m\u001b[0;34m\u001b[0m\u001b[0m\n",
      "\u001b[0;31mTypeError\u001b[0m: 'NoneType' object is not callable"
     ]
    }
   ],
   "source": [
    "discriminator.train_on_batch(X, [y_real_fake, np.array(y_labels)])\n",
    "y_labels"
   ]
  },
  {
   "cell_type": "code",
   "execution_count": 133,
   "metadata": {},
   "outputs": [
    {
     "data": {
      "text/plain": [
       "(<3x579 sparse matrix of type '<class 'numpy.float64'>'\n",
       " \twith 3 stored elements in Compressed Sparse Row format>,\n",
       " array([[0., 0., 0., ..., 0., 0., 0.],\n",
       "        [0., 0., 0., ..., 0., 0., 0.],\n",
       "        [0., 0., 0., ..., 0., 0., 0.]]))"
      ]
     },
     "execution_count": 133,
     "metadata": {},
     "output_type": "execute_result"
    }
   ],
   "source": [
    "labels_batch, np.zeros((BATCH_SIZE, len(le.classes_)))"
   ]
  },
  {
   "cell_type": "code",
   "execution_count": 44,
   "metadata": {},
   "outputs": [
    {
     "data": {
      "text/plain": [
       "2.5945637226104736"
      ]
     },
     "execution_count": 44,
     "metadata": {},
     "output_type": "execute_result"
    }
   ],
   "source": [
    "float(loss)"
   ]
  },
  {
   "cell_type": "code",
   "execution_count": 137,
   "metadata": {},
   "outputs": [
    {
     "data": {
      "application/vnd.jupyter.widget-view+json": {
       "model_id": "b7a2a87c94f04a31a5f8383ed61b0e64",
       "version_major": 2,
       "version_minor": 0
      },
      "text/plain": [
       "  0%|          | 0/300 [00:00<?, ?it/s]"
      ]
     },
     "metadata": {},
     "output_type": "display_data"
    },
    {
     "name": "stdout",
     "output_type": "stream",
     "text": [
      "[0. 0. 0. 0. 0. 0. 0. 0. 0. 0. 0. 0. 0. 0. 0. 0. 0. 0. 0. 0. 0. 0. 0. 0.\n",
      " 0. 0. 0. 0. 0. 0. 0. 0. 0. 0. 0. 0. 0. 0. 0. 0. 0. 0. 0. 0. 0. 0. 0. 0.\n",
      " 0. 0. 0. 0. 0. 0. 0. 0. 0. 0. 0. 0. 0. 0. 0. 0. 0. 0. 0. 0. 0. 0. 0. 0.\n",
      " 0. 0. 0. 0. 0. 0. 0. 0. 0. 0. 0. 0. 0. 0. 0. 0. 0. 0. 0. 0. 0. 0. 0. 0.\n",
      " 0. 0. 0. 0. 0. 0. 0. 0. 0. 0. 0. 0. 0. 0. 0. 0. 0. 0. 0. 0. 0. 0. 0. 0.\n",
      " 0. 0. 0. 0. 0. 0. 0. 0. 0. 0. 0. 0. 0. 0. 0. 0. 0. 0. 0. 0. 0. 0. 0. 0.\n",
      " 0. 0. 0. 0. 0. 0. 0. 0. 0. 0. 0. 0. 0. 0. 0. 0. 0. 0. 0. 0. 0. 0. 0. 0.\n",
      " 0. 0. 0. 0. 0. 0. 0. 0. 0. 0. 0. 0. 0. 0. 0. 0. 0. 0. 0. 0. 0. 0. 0. 0.\n",
      " 0. 0. 0. 0. 0. 0. 0. 0.]\n",
      "[-0.99833584  0.02226288 -0.70911545 -0.56301022 -0.24518657  0.33840847\n",
      "  1.88200688 -0.08435501  0.99568427  0.1722375   0.48785657  0.4074074\n",
      "  0.6538142  -0.22701219 -1.25403476 -1.54989266 -0.60041094 -1.29876709\n",
      " -2.54407263 -1.52077937  0.56938231 -1.38847923  0.94856429  0.21916068\n",
      "  0.53763741 -0.483953   -0.24481063  1.10400212 -0.35310096 -0.88286704\n",
      "  0.74152726  0.29003257  1.08094084  0.70721066  1.63394225  0.70530182\n",
      " -0.29778716 -0.84324068  1.37909079 -0.70705599  1.30713356  0.26339796\n",
      " -0.57403082 -1.44039404 -1.03593075 -0.21261756  0.88047528  0.20621392\n",
      "  0.40647823 -0.03818775 -0.05348476 -1.69562638 -1.55464637  0.20927456\n",
      " -0.85950965  0.24430278  1.92697787 -1.39320064 -1.67942941 -0.75467837\n",
      " -0.1933718   0.35632777 -0.05327565 -2.84187245  1.1999284  -0.18148756\n",
      " -0.49709737  0.32397431 -0.63812035 -0.26698539 -0.23300005 -0.45152104\n",
      "  0.10860274  1.94057691 -0.42762208 -0.2333844  -1.38103545 -1.07648134\n",
      " -0.1387444   0.05620682  0.19943775 -1.68176913 -0.09220861  0.06283973\n",
      "  0.15745552 -0.6695174   0.88557369  0.55961812 -1.71891034  0.25935498\n",
      "  0.39008722  0.09629015 -0.34884432  0.07141742 -1.49303508  0.78631037\n",
      " -0.40955159 -1.11830616 -0.55440098  0.26420224 -4.69007254  1.3989954\n",
      "  3.93796396  4.0497036  -1.14447463  3.33132792 -3.37408662  1.71937537\n",
      " -0.30640507  2.26373076 -0.802661    0.6772294   2.14062357  0.87663037\n",
      " -1.0238961   1.19073498 -2.99887466  1.9413842  -0.15227975 -5.27076197\n",
      "  1.45242131  0.57341498 -1.138394    1.97815418  0.04788882 -0.30670059\n",
      "  1.54309714  0.79103363 -1.77176905  1.92795408  0.71811008 -0.52918369\n",
      " -0.19921255  0.30805093  2.22163129  1.22239029 -3.22028112  4.22672653\n",
      " -4.5019846  -2.67574883 -0.09052869  0.08295289 -1.73235655  1.21253633\n",
      " -0.08308861 -1.01581621 -3.28605843  0.5611757  -2.48348427  2.05668592\n",
      "  2.35911894  1.64962578 -3.92566895  1.13029456  2.03636169 -1.330446\n",
      " -3.58890533 -2.58010459  2.44298029  0.42626819  1.3283118   5.00331688\n",
      " -4.07117224  2.31880498  0.43530071 -3.01922369 -2.7693131  -0.87138146\n",
      "  0.89397478 -2.93741798  1.11976337  0.37532836 -1.68834198 -2.09719586\n",
      " -4.33414125  0.36032486 -3.57536125 -0.66828835  2.26553845 -1.20059955\n",
      "  2.84474945 -2.3710556   1.20949888 -4.3074131   2.47549558 -2.12089825\n",
      "  2.55576038  5.12700224  0.6635946   2.20709038 -6.23049927  1.13088918\n",
      "  0.6639514  -1.99152565 -0.11131304  0.8929776  -6.1337924  -2.60050106\n",
      "  0.39461902  0.42088124]\n"
     ]
    }
   ],
   "source": [
    "for sent, lbl in data:\n",
    "    print(sent[0][0])\n",
    "    print(sent[0][-1])\n",
    "    break"
   ]
  },
  {
   "cell_type": "code",
   "execution_count": 142,
   "metadata": {},
   "outputs": [
    {
     "name": "stdout",
     "output_type": "stream",
     "text": [
      "tf.Tensor(\n",
      "[ 0.7359376  -0.82043153  0.22989172 -0.3315191   2.6435235  -2.9251337\n",
      " -0.25603667 -3.1038108  -0.14789385 -1.5122151   1.2223644   0.49942428\n",
      "  0.78345084 -1.6039858  -0.6697838   0.9389131   4.185211   -0.88757145\n",
      " -2.477677   -0.6813243  -2.3134947   0.6715148  -1.6821773  -0.11761958\n",
      "  2.4271147   3.168863    0.6011479  -1.9066216   1.19047    -1.4652724\n",
      " -0.09072845 -3.4982438  -2.1482527   2.7043636   0.1755041   1.3652812\n",
      "  1.1162614   0.225049    1.3878514   1.2832686  -0.19732788 -1.0701351\n",
      "  1.0049033   1.5837789   2.5111763   3.4107938   0.7326575  -2.4332771\n",
      "  0.36094996 -0.6436133  -1.3574152   0.3744582   3.165322    2.4942417\n",
      " -1.6936649  -0.08651026 -1.1402175   0.17175153  2.2072816   1.7223773\n",
      "  1.7197925  -1.0717556   3.6945858  -1.181464   -0.604904   -1.6418374\n",
      "  0.9671656  -0.08559898  2.363806   -1.2657113   3.532277    0.19791928\n",
      "  0.24405198  3.874677   -2.0349262  -0.9565451   2.0884838  -1.8316702\n",
      "  0.3164028  -1.1067688   2.5165584   0.61892885  1.3890957   0.9787918\n",
      " -2.790382    0.9578055  -0.65714955  0.7264869  -1.6561441  -1.2354522\n",
      "  3.2986724  -0.16259533 -0.06228775  0.9652245  -1.857075   -0.7697553\n",
      " -1.5237148   0.08170098 -2.2632186   0.06352514 -1.5552293   1.6213285\n",
      "  0.21856317 -3.0828733  -0.95691365  0.32839787 -0.30414784 -2.3312383\n",
      "  1.0455377  -0.06328793 -0.02746277  0.13300554 -0.8253395   2.0282722\n",
      "  2.4016223  -1.5848818  -1.4748726   0.68364424  1.4733816   0.14135984\n",
      " -2.809596   -0.1626271  -1.7831905   0.24239115  2.9614975   0.99482626\n",
      "  1.8202376  -1.2372532   0.68752503 -0.54497325 -0.596944    2.7271624\n",
      " -0.34745905  1.7450551   1.8954191   0.97293    -0.2546799   1.2205621\n",
      " -1.8198118   1.9465551  -2.0777986  -0.1562478   0.98592895 -0.72112226\n",
      "  2.824474   -1.4158283   0.5219756  -0.3799725   1.5381761   0.21799573\n",
      "  0.30096534  2.1584814  -2.8826      0.93989056 -3.1078327  -1.5540838\n",
      "  0.86207455  1.4454702   1.8867347  -2.2863886   0.5154091   0.8733835\n",
      " -0.7082505   2.7552104   2.836456   -3.4816697  -0.70401204  0.17479306\n",
      " -0.18187901  0.2738552  -1.6799864  -0.6700539   0.73804516  1.2231581\n",
      "  0.73156273 -1.3692806  -0.53080183  1.0835487   1.5569224   1.8635821\n",
      "  0.5578314   1.4503207  -0.7207451   3.5976179   0.29582903 -0.56225157\n",
      " -2.6853683   0.5179096  -2.0462573  -2.3095999   1.6896775  -3.9492946\n",
      " -0.20663269  0.15533319 -2.568937   -1.343346    1.3667179  -1.288381\n",
      "  2.1225073   0.85571444], shape=(200,), dtype=float32)\n",
      "tf.Tensor(\n",
      "[ 6.4711924e+00 -8.1744137e+00 -2.6507680e+00 -8.6819906e+00\n",
      "  5.9532189e-01 -7.3702502e+00  1.9801582e+00  8.0255833e+00\n",
      "  1.6529891e+00  6.0483541e+00  3.3966155e+00  4.0096712e+00\n",
      "  9.7672904e-01  3.2936411e+00  3.3322961e+00 -5.0484586e+00\n",
      "  6.1287503e+00 -1.9760745e+00 -3.1957026e+00 -4.0362434e+00\n",
      " -3.2737010e+00 -4.8412204e+00  8.9516201e+00  8.5482178e+00\n",
      " -1.5496414e+00  5.7154665e+00  3.6440301e+00 -3.7579319e+00\n",
      "  1.7311564e-01 -3.2903645e+00  1.7367229e+00 -7.8933020e+00\n",
      "  5.8709854e-01  5.1241761e-01 -6.3137975e+00  4.8022432e+00\n",
      " -6.3593597e+00  1.0067607e+01 -6.0198140e+00  3.2430689e+00\n",
      " -3.9290261e+00 -7.0423448e-01 -3.9494703e+00  5.4199185e+00\n",
      "  8.5392847e+00  3.8901195e-02 -3.4053657e+00 -4.6340151e+00\n",
      " -1.4623902e+00  9.7432022e+00  5.4942884e+00 -1.4570131e+00\n",
      "  1.5692055e+00  7.4076004e+00  5.8085685e+00 -2.6722136e+00\n",
      " -3.1734936e+00  1.5631664e+00 -3.5870454e+00  9.9095577e-01\n",
      "  1.1857839e+00 -2.7008966e-01  2.4211457e+00  2.2276168e+00\n",
      "  3.3087399e+00 -6.6185513e+00  7.8730226e-01  3.9869509e+00\n",
      " -9.0720568e+00 -8.0964642e+00  5.9867110e+00  9.3912697e+00\n",
      "  2.5851159e+00  8.8956337e+00  7.3821721e+00 -5.4255166e+00\n",
      " -1.0921668e+01 -4.3209987e+00 -1.4606202e+00 -5.5761323e+00\n",
      " -4.3348541e+00  1.7038567e+00  2.4516494e+00  2.9410620e+00\n",
      "  3.6484084e+00 -3.5248289e+00  1.5429229e-02  2.0977023e+00\n",
      " -2.4179254e+00  4.0289149e+00 -6.3329840e+00 -5.9546409e+00\n",
      " -2.8431642e+00  1.4658403e+00  2.3388605e+00  3.2756248e+00\n",
      "  2.8476434e+00  2.1924000e+00  1.2062562e+00  2.4055285e+00\n",
      "  1.1435412e+01  2.4160299e+00  6.7147799e+00  1.2342981e+00\n",
      "  3.4348908e-01 -8.1575603e+00 -2.6547816e+00 -8.3369789e+00\n",
      " -1.0470165e+01 -2.9063296e+00  2.9955399e+00 -3.4078393e+00\n",
      "  3.2056315e+00 -6.6485763e+00  2.1746872e-01 -1.1825800e+01\n",
      " -1.4014916e+00  8.6612064e-01 -6.5759320e+00 -3.5327520e+00\n",
      " -1.5811952e+00 -1.5125198e+00  1.0004212e+01 -5.5097923e+00\n",
      "  5.5383706e-01 -5.8457446e+00 -2.4730325e+00 -4.2117782e+00\n",
      " -9.2978411e+00  2.9880064e+00 -5.7559819e+00  1.4740735e-01\n",
      " -4.8405367e-01 -4.6595263e-01 -4.4766192e+00 -5.9185424e+00\n",
      " -5.0787044e-01  2.9691513e+00  6.1631793e-01  5.0824394e+00\n",
      "  1.4719462e+00 -7.1040521e+00 -5.3384991e+00 -1.0918790e+00\n",
      "  2.9925931e+00 -3.4780998e+00 -7.5329452e+00 -4.0529065e+00\n",
      "  1.5072485e+00  6.0608649e+00 -1.6486032e+00 -1.7183539e+00\n",
      " -1.0837563e+01 -2.6406567e+00 -4.5202136e+00  2.4444542e+00\n",
      "  3.2160079e+00  3.1035316e+00  1.0286128e+01  2.0561604e+00\n",
      " -2.7363684e+00 -8.4628849e+00 -1.4466407e+00  4.4344912e+00\n",
      "  4.8413448e+00  2.0444825e+00  8.7987442e+00  2.0985503e+00\n",
      "  9.4326515e+00 -1.3616800e+01  7.4539175e+00  7.8487098e-02\n",
      " -7.1104007e+00  1.8077476e+00 -2.7818933e+00  3.8083167e+00\n",
      "  1.3965515e+00  2.3108920e-01 -4.7055811e-02 -6.2439985e+00\n",
      "  4.9607744e+00 -4.3342376e+00  2.0585883e+00 -2.9970038e+00\n",
      "  3.6597928e-01 -2.5070827e+00  4.7186403e+00  9.0119982e+00\n",
      "  3.3129778e+00  6.2674361e-01  3.7669428e-03  4.8554296e+00\n",
      "  2.3458092e+00  2.0152861e-01 -1.0732206e+00 -3.2226868e+00\n",
      "  1.4580699e+00 -8.6132604e-01 -1.2244831e+00  8.6815882e+00], shape=(200,), dtype=float32)\n"
     ]
    }
   ],
   "source": [
    "generated_from_noise = generator(FIXED_NOISE)\n",
    "print(generated_from_noise[-1][0])\n",
    "print(generated_from_noise[-1][-1])"
   ]
  },
  {
   "cell_type": "code",
   "execution_count": 26,
   "metadata": {},
   "outputs": [
    {
     "data": {
      "text/plain": [
       "tensor([-37131520.0000,   1662736.3750,  32547722.0000,  -4808051.5000,\n",
       "         27210840.0000,  40710744.0000,   5839760.0000,  38255852.0000,\n",
       "           802282.6875,  11119031.0000,  22401388.0000,  39451748.0000,\n",
       "         21651214.0000, -41066736.0000,  -1081529.8750,  -3389990.7500,\n",
       "        -37434056.0000, -14941159.0000,  -2824141.2500,  40229668.0000,\n",
       "          5393452.0000, -37853916.0000,  34104976.0000,  -1134469.5000,\n",
       "         31584468.0000, -17832026.0000,  -2870999.7500, -24167996.0000,\n",
       "         10778339.0000,  11420250.0000, -32118176.0000,  13808783.0000,\n",
       "         32759940.0000,  39977076.0000,  40493248.0000,  20001000.0000,\n",
       "         41552084.0000,  18724810.0000,  39620392.0000,  39530520.0000,\n",
       "          5711013.0000, -28776592.0000,  41093200.0000,   9103958.0000,\n",
       "        -28929074.0000,  -8888743.0000, -15586440.0000,  41048980.0000,\n",
       "         40715404.0000, -16867666.0000,  38182528.0000, -37584200.0000,\n",
       "         40531404.0000,  32121298.0000, -25105324.0000, -22692028.0000,\n",
       "         17229340.0000, -13385167.0000, -39766384.0000, -38643044.0000,\n",
       "        -26405334.0000,  20406294.0000,  -1728846.3750,  -7082606.5000,\n",
       "         39722776.0000,  40991168.0000, -11971971.0000,   7844889.0000,\n",
       "         26765348.0000,  40821784.0000,  12883452.0000,  37943792.0000,\n",
       "         11992098.0000,  -9854823.0000, -35535168.0000, -14503247.0000,\n",
       "        -39810232.0000, -27973872.0000, -20442468.0000,  34826672.0000,\n",
       "         -5868376.5000, -40483976.0000,  -6220495.0000,  35433032.0000,\n",
       "         30229484.0000,  31179644.0000, -26843104.0000,  18938640.0000,\n",
       "        -38484880.0000, -37368208.0000,   7651939.0000, -32424546.0000,\n",
       "        -15071656.0000,  14857478.0000,  41135384.0000,  38575996.0000,\n",
       "        -43357944.0000, -32389242.0000, -12663587.0000,  20199700.0000,\n",
       "        -41398448.0000,  37691452.0000,  44485996.0000,  41209484.0000,\n",
       "         11532534.0000,  39808936.0000, -14563251.0000, -39396480.0000,\n",
       "         -5729326.5000,  41302448.0000,   -927966.3750,  44088480.0000,\n",
       "         43438292.0000, -43437760.0000,  33692828.0000, -16955310.0000,\n",
       "         28274030.0000,  42952052.0000,  13583592.0000, -40022000.0000,\n",
       "         -4853736.5000,   2444270.5000,  28672116.0000,  33745192.0000,\n",
       "          3686073.7500,  40849828.0000,  -8213244.0000, -39876748.0000,\n",
       "        -44453708.0000,  43101312.0000, -39180964.0000,  25541878.0000,\n",
       "        -30102908.0000, -42953096.0000, -43120556.0000,   1302820.6250,\n",
       "         36255220.0000,  36657772.0000, -12095781.0000,  39999416.0000,\n",
       "        -41281440.0000, -14297016.0000,  30368652.0000, -36306144.0000,\n",
       "        -43253284.0000, -39638180.0000, -42795008.0000,  21733936.0000,\n",
       "        -28659310.0000,  40355548.0000, -40402244.0000,  29504464.0000,\n",
       "        -44361724.0000,  20174796.0000, -12037388.0000, -44303572.0000,\n",
       "        -43340008.0000,  39875016.0000,  42989252.0000,  31852292.0000,\n",
       "         42603384.0000,  42987100.0000, -39586456.0000,  39771384.0000,\n",
       "         44017856.0000, -34993384.0000,  41413392.0000, -28903132.0000,\n",
       "         41233200.0000, -32896926.0000,    715913.8125, -16826950.0000,\n",
       "         36668748.0000,  -1379697.7500, -29341590.0000,  40151468.0000,\n",
       "        -25564760.0000,  40478440.0000,  43900528.0000,  11900668.0000,\n",
       "         43819908.0000, -37004940.0000, -12710043.0000, -19631608.0000,\n",
       "         38674996.0000,  -2383038.0000,  44260544.0000,  44378044.0000,\n",
       "         35962128.0000,   6340772.5000, -37371688.0000,  43755488.0000,\n",
       "         43030672.0000, -44056500.0000,  36413228.0000,  43388704.0000,\n",
       "        -43797224.0000, -43769148.0000, -40202520.0000,  34945184.0000],\n",
       "       grad_fn=<SelectBackward0>)"
      ]
     },
     "execution_count": 26,
     "metadata": {},
     "output_type": "execute_result"
    }
   ],
   "source": [
    "generated_from_noise = generator.forward(*FIXED_NOISE)\n",
    "generated_from_noise[0][-1]"
   ]
  },
  {
   "cell_type": "code",
   "execution_count": null,
   "metadata": {},
   "outputs": [],
   "source": []
  },
  {
   "cell_type": "code",
   "execution_count": null,
   "metadata": {},
   "outputs": [],
   "source": []
  },
  {
   "cell_type": "code",
   "execution_count": null,
   "metadata": {},
   "outputs": [],
   "source": []
  },
  {
   "cell_type": "code",
   "execution_count": null,
   "metadata": {},
   "outputs": [],
   "source": []
  },
  {
   "cell_type": "code",
   "execution_count": null,
   "metadata": {},
   "outputs": [],
   "source": []
  }
 ],
 "metadata": {
  "kernelspec": {
   "display_name": "Python 3",
   "language": "python",
   "name": "python3"
  },
  "language_info": {
   "codemirror_mode": {
    "name": "ipython",
    "version": 3
   },
   "file_extension": ".py",
   "mimetype": "text/x-python",
   "name": "python",
   "nbconvert_exporter": "python",
   "pygments_lexer": "ipython3",
   "version": "3.8.7"
  }
 },
 "nbformat": 4,
 "nbformat_minor": 4
}
