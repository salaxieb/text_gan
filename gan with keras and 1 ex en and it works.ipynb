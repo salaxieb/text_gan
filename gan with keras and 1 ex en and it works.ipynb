{
 "cells": [
  {
   "cell_type": "code",
   "execution_count": null,
   "metadata": {},
   "outputs": [],
   "source": [
    "# !nvidia-smi"
   ]
  },
  {
   "cell_type": "code",
   "execution_count": 2,
   "metadata": {},
   "outputs": [
    {
     "name": "stdout",
     "output_type": "stream",
     "text": [
      "/Users/ildar/projects/.venv/bin/python\n"
     ]
    }
   ],
   "source": [
    "!which python"
   ]
  },
  {
   "cell_type": "code",
   "execution_count": 3,
   "metadata": {
    "tags": []
   },
   "outputs": [],
   "source": [
    "# !pip install numpy\n",
    "# !pip install tqdm\n",
    "# !pip install scikit-learn\n",
    "# !pip install tensorflow-macos\n",
    "# !pip install keras_nlp\n",
    "# !pip install matplotlib\n",
    "# !pip install gensim==3.8.3 -U\n",
    "# !pip install ipywidgets"
   ]
  },
  {
   "cell_type": "code",
   "execution_count": 4,
   "metadata": {},
   "outputs": [],
   "source": [
    "import numpy as np\n",
    "from tqdm.notebook import tqdm"
   ]
  },
  {
   "cell_type": "code",
   "execution_count": 5,
   "metadata": {},
   "outputs": [
    {
     "data": {
      "text/plain": [
       "(20819, 20819)"
      ]
     },
     "execution_count": 5,
     "metadata": {},
     "output_type": "execute_result"
    }
   ],
   "source": [
    "import os\n",
    "import re\n",
    "from sklearn.preprocessing import LabelEncoder\n",
    "from sklearn.preprocessing import OneHotEncoder\n",
    "\n",
    "files = ['NLU-Evaluation-Data/AnnotatedData/NLU-Data-Home-Domain-Annotated-All.csv']\n",
    "labels = []\n",
    "sentences = []\n",
    "\n",
    "for filename in files: \n",
    "    with open(filename, encoding='utf-8') as f:\n",
    "        for line in f.readlines():\n",
    "            line = line.split(';')\n",
    "            if line[8]:\n",
    "                sentences.append(line[8])\n",
    "                labels.append(line[2] + '_' + line[3])\n",
    "\n",
    "le = LabelEncoder()\n",
    "ohe = OneHotEncoder()\n",
    "ohe.fit(le.fit_transform(labels).reshape(-1, 1))\n",
    "\n",
    "labels = np.array(labels)\n",
    "sentences = np.array(sentences)\n",
    "len(labels), len(sentences)"
   ]
  },
  {
   "cell_type": "markdown",
   "metadata": {},
   "source": [
    "# оставляем только 1 пример"
   ]
  },
  {
   "cell_type": "code",
   "execution_count": 6,
   "metadata": {},
   "outputs": [
    {
     "data": {
      "text/plain": [
       "(array(['news_query'], dtype='<U24'),\n",
       " array([\"what's sensational in time of india\"], dtype='<U365'))"
      ]
     },
     "execution_count": 6,
     "metadata": {},
     "output_type": "execute_result"
    }
   ],
   "source": [
    "labels = labels[367:368]\n",
    "sentences = sentences[367:368]\n",
    "labels, sentences"
   ]
  },
  {
   "cell_type": "code",
   "execution_count": 7,
   "metadata": {},
   "outputs": [
    {
     "data": {
      "text/plain": [
       "6"
      ]
     },
     "execution_count": 7,
     "metadata": {},
     "output_type": "execute_result"
    }
   ],
   "source": [
    "max_len = -1\n",
    "lengths = []\n",
    "for message in sentences:\n",
    "    max_len = len(message.split()) if len(message.split()) > max_len else max_len\n",
    "    lengths.append(len(message.split()))\n",
    "max_len"
   ]
  },
  {
   "cell_type": "code",
   "execution_count": 8,
   "metadata": {},
   "outputs": [
    {
     "data": {
      "image/png": "[encoded data removed]",
      "text/plain": [
       "<Figure size 640x480 with 1 Axes>"
      ]
     },
     "metadata": {},
     "output_type": "display_data"
    }
   ],
   "source": [
    "import matplotlib.pyplot as plt\n",
    "plt.hist(lengths, bins=100)\n",
    "plt.show()"
   ]
  },
  {
   "cell_type": "code",
   "execution_count": 9,
   "metadata": {},
   "outputs": [],
   "source": [
    "TARGET_LEN = 52\n",
    "EMBEDDING_SIZE = 200"
   ]
  },
  {
   "cell_type": "markdown",
   "metadata": {},
   "source": [
    "# !!!ЭМБЕДИНГИ НЕ КАЧЕСТВЕННЫЕ, не сдавайся"
   ]
  },
  {
   "cell_type": "code",
   "execution_count": 10,
   "metadata": {},
   "outputs": [],
   "source": [
    "import pickle\n",
    "with open('word2vec_100.pkl', 'rb') as rf:\n",
    "    W2V_100 = pickle.load(rf)\n",
    "with open('fasttext_100.pkl', 'rb') as rf:\n",
    "    FT_100 = pickle.load(rf)"
   ]
  },
  {
   "cell_type": "code",
   "execution_count": 11,
   "metadata": {},
   "outputs": [
    {
     "data": {
      "text/plain": [
       "([('google', 0.5979539155960083),\n",
       "  ('siri', 0.5428193211555481),\n",
       "  ('wanna', 0.5294137001037598),\n",
       "  ('hey', 0.5242522954940796),\n",
       "  ('gotta', 0.5072860717773438),\n",
       "  ('yourself', 0.49988099932670593),\n",
       "  ('dialog', 0.48816388845443726),\n",
       "  ('reschedule', 0.4799187183380127),\n",
       "  ('your', 0.4734569489955902),\n",
       "  (\"let's\", 0.4709016978740692)],\n",
       " [('us', 0.7899342775344849),\n",
       "  ('him', 0.7358138561248779),\n",
       "  ('meowk', 0.7257457375526428),\n",
       "  ('mekk3', 0.7218108177185059),\n",
       "  ('jme', 0.7211407423019409),\n",
       "  ('rème', 0.7180854678153992),\n",
       "  ('dáme', 0.716890275478363),\n",
       "  ('dôme', 0.7083154916763306),\n",
       "  ('jérôme', 0.707120418548584),\n",
       "  ('gme', 0.7071195244789124)])"
      ]
     },
     "execution_count": 11,
     "metadata": {},
     "output_type": "execute_result"
    }
   ],
   "source": [
    "W2V_100.wv.most_similar(positive='please'), FT_100.wv.most_similar('me')"
   ]
  },
  {
   "cell_type": "code",
   "execution_count": 12,
   "metadata": {},
   "outputs": [],
   "source": [
    "def pad_sequences(sequence, target_len: int=20, embedding_size: int=300) -> np.array:\n",
    "    sequence = np.array(sequence)\n",
    "    if sequence.size == 0:\n",
    "        # empty array\n",
    "        current_length = 0\n",
    "        return np.zeros((target_len, embedding_size))\n",
    "    elif len(sequence.shape) == 1:\n",
    "        sequence = np.array([sequence])\n",
    "        current_length = 1\n",
    "    else:\n",
    "        current_length = sequence.shape[0]\n",
    "        \n",
    "    if current_length >= target_len:\n",
    "        return sequence[-target_len:]\n",
    "    \n",
    "    # padding = np.random.uniform(size=(target_len - current_length, embedding_size))\n",
    "    padding = np.zeros((target_len - current_length, embedding_size))\n",
    "    return np.concatenate((padding, sequence), axis=0)"
   ]
  },
  {
   "cell_type": "code",
   "execution_count": 13,
   "metadata": {},
   "outputs": [],
   "source": [
    "from tqdm.notebook import tqdm\n",
    "def vectorize_sentence(sentence):\n",
    "    vec = []\n",
    "    for token in sentence.split():\n",
    "        tkn_vec = np.concatenate((W2V_100.wv[token], FT_100.wv[token]), axis=0)\n",
    "        vec.append(tkn_vec)\n",
    "    return pad_sequences(vec, target_len=TARGET_LEN, embedding_size=EMBEDDING_SIZE)"
   ]
  },
  {
   "cell_type": "code",
   "execution_count": 14,
   "metadata": {},
   "outputs": [
    {
     "data": {
      "text/plain": [
       "[array([\"what's sensational in time of india\"], dtype='<U365'),\n",
       " array(['news_query'], dtype='<U24')]"
      ]
     },
     "execution_count": 14,
     "metadata": {},
     "output_type": "execute_result"
    }
   ],
   "source": [
    "RANDOM_DIM = 100\n",
    "\n",
    "\n",
    "class DataGenerator():\n",
    "    def __init__(self, labels, sentences, batches_per_epoch, batch_size):\n",
    "        self.train_sentences = sentences\n",
    "        self.train_labels = labels\n",
    "        self.batches_per_epoch = batches_per_epoch\n",
    "        self.batch_size = batch_size\n",
    "    \n",
    "    @staticmethod\n",
    "    def rand_norm(npoints=1, ndim=RANDOM_DIM):\n",
    "        rand_vec = np.random.normal(0, 1, size=[npoints, ndim])\n",
    "        return rand_vec\n",
    "\n",
    "    def __len__(self):\n",
    "        return self.batches_per_epoch\n",
    "\n",
    "    def batch(self):\n",
    "        rand_sentences_indexes = np.random.randint(0, self.train_sentences.shape[0], size=self.batch_size)\n",
    "        sent_batch = np.array([vectorize_sentence(sent) for sent in self.train_sentences[rand_sentences_indexes]])\n",
    "        labels_batch = ohe.transform(le.transform(self.train_labels[rand_sentences_indexes]).reshape(-1, 1)).todense()\n",
    "        return sent_batch, labels_batch\n",
    "\n",
    "    def __iter__(self):\n",
    "        for b in tqdm(range(self.batches_per_epoch), leave=False):\n",
    "            yield self.batch()\n",
    "\n",
    "    def rand_batch(self):\n",
    "        rand_vec = self.rand_norm(self.batch_size)\n",
    "        # for training generator with label\n",
    "        rand_labels = np.random.randint(0, len(le.classes_), size=[self.batch_size])\n",
    "        rand_labels = ohe.transform(rand_labels.reshape(-1, 1)).todense()\n",
    "        return (rand_vec, rand_labels)\n",
    "\n",
    "    \n",
    "np.random.seed(42)\n",
    "sent_indexes = np.random.randint(0, len(sentences), size=1)\n",
    "MESSAGES_FROM_DATASET = [sentences[sent_indexes], labels[sent_indexes]]\n",
    "FIXED_NOISE = [DataGenerator.rand_norm(1), ohe.transform(le.transform(labels[sent_indexes]).reshape(-1, 1)).todense()]\n",
    "MESSAGES_FROM_DATASET"
   ]
  },
  {
   "cell_type": "markdown",
   "metadata": {},
   "source": [
    "# GENERATOR"
   ]
  },
  {
   "cell_type": "code",
   "execution_count": 15,
   "metadata": {},
   "outputs": [
    {
     "name": "stdout",
     "output_type": "stream",
     "text": [
      "Metal device set to: Apple M1 Pro\n",
      "(3, 52, 200)\n"
     ]
    },
    {
     "name": "stderr",
     "output_type": "stream",
     "text": [
      "2022-11-27 14:27:30.181031: I tensorflow/core/common_runtime/pluggable_device/pluggable_device_factory.cc:306] Could not identify NUMA node of platform GPU ID 0, defaulting to 0. Your kernel may not have been built with NUMA support.\n",
      "2022-11-27 14:27:30.181368: I tensorflow/core/common_runtime/pluggable_device/pluggable_device_factory.cc:272] Created TensorFlow device (/job:localhost/replica:0/task:0/device:GPU:0 with 0 MB memory) -> physical PluggableDevice (device: 0, name: METAL, pci bus id: <undefined>)\n"
     ]
    },
    {
     "data": {
      "image/png": "[encoded data removed]",
      "text/plain": [
       "<Figure size 640x480 with 2 Axes>"
      ]
     },
     "metadata": {},
     "output_type": "display_data"
    }
   ],
   "source": [
    "import tensorflow as tf\n",
    "\n",
    "def get_angles(pos, i, d_model):\n",
    "    angle_rates = 1 / np.power(50, (2 * (i//2)) / np.float32(d_model))\n",
    "    return pos * angle_rates\n",
    "\n",
    "def give_pe(batch_size, position, d_model):\n",
    "    angle_rads = get_angles(np.arange(position)[:, np.newaxis],\n",
    "                          np.arange(d_model)[np.newaxis, :],\n",
    "                          d_model)\n",
    "\n",
    "    # apply sin to even indices in the array; 2i\n",
    "    angle_rads[:, 0::2] = np.sin(angle_rads[:, 0::2])\n",
    "\n",
    "    # apply cos to odd indices in the array; 2i+1\n",
    "    angle_rads[:, 1::2] = np.cos(angle_rads[:, 1::2])\n",
    "    # angle_rads = angle_rads[np.newaxis, ...]\n",
    "\n",
    "    return tf.constant([angle_rads for _ in range(batch_size)])\n",
    "\n",
    "b, n, d = 3, 52, 200\n",
    "pos_encoding = give_pe(b, n, d)\n",
    "\n",
    "print(pos_encoding.shape)\n",
    "pos_encoding = pos_encoding[0]\n",
    "\n",
    "# Juggle the dimensions for the plot\n",
    "pos_encoding = tf.reshape(pos_encoding, (n, d//2, 2))\n",
    "pos_encoding = tf.transpose(pos_encoding, (2, 1, 0))\n",
    "pos_encoding = tf.reshape(pos_encoding, (d, n))\n",
    "\n",
    "plt.pcolormesh(pos_encoding, cmap='RdBu')\n",
    "plt.ylabel('Depth')\n",
    "plt.xlabel('Position')\n",
    "plt.colorbar()\n",
    "plt.show()"
   ]
  },
  {
   "cell_type": "code",
   "execution_count": 16,
   "metadata": {},
   "outputs": [
    {
     "name": "stdout",
     "output_type": "stream",
     "text": [
      "Model: \"model\"\n",
      "__________________________________________________________________________________________________\n",
      " Layer (type)                   Output Shape         Param #     Connected to                     \n",
      "==================================================================================================\n",
      " input_1 (InputLayer)           [(None, 100)]        0           []                               \n",
      "                                                                                                  \n",
      " input_2 (InputLayer)           [(None, 61)]         0           []                               \n",
      "                                                                                                  \n",
      " concatenate (Concatenate)      (None, 161)          0           ['input_1[0][0]',                \n",
      "                                                                  'input_2[0][0]']                \n",
      "                                                                                                  \n",
      " dense (Dense)                  (None, 2340)         379080      ['concatenate[0][0]']            \n",
      "                                                                                                  \n",
      " batch_normalization (BatchNorm  (None, 2340)        9360        ['dense[0][0]']                  \n",
      " alization)                                                                                       \n",
      "                                                                                                  \n",
      " leaky_re_lu (LeakyReLU)        (None, 2340)         0           ['batch_normalization[0][0]']    \n",
      "                                                                                                  \n",
      " reshape (Reshape)              (None, 13, 180)      0           ['leaky_re_lu[0][0]']            \n",
      "                                                                                                  \n",
      " conv1d_transpose (Conv1DTransp  (None, 13, 90)      48690       ['reshape[0][0]']                \n",
      " ose)                                                                                             \n",
      "                                                                                                  \n",
      " batch_normalization_1 (BatchNo  (None, 13, 90)      360         ['conv1d_transpose[0][0]']       \n",
      " rmalization)                                                                                     \n",
      "                                                                                                  \n",
      " leaky_re_lu_1 (LeakyReLU)      (None, 13, 90)       0           ['batch_normalization_1[0][0]']  \n",
      "                                                                                                  \n",
      " conv1d_transpose_1 (Conv1DTran  (None, 26, 180)     48780       ['leaky_re_lu_1[0][0]']          \n",
      " spose)                                                                                           \n",
      "                                                                                                  \n",
      " batch_normalization_2 (BatchNo  (None, 26, 180)     720         ['conv1d_transpose_1[0][0]']     \n",
      " rmalization)                                                                                     \n",
      "                                                                                                  \n",
      " leaky_re_lu_2 (LeakyReLU)      (None, 26, 180)      0           ['batch_normalization_2[0][0]']  \n",
      "                                                                                                  \n",
      " tf.compat.v1.shape (TFOpLambda  (3,)                0           ['leaky_re_lu_2[0][0]']          \n",
      " )                                                                                                \n",
      "                                                                                                  \n",
      " tf.__operators__.getitem (Slic  ()                  0           ['tf.compat.v1.shape[0][0]']     \n",
      " ingOpLambda)                                                                                     \n",
      "                                                                                                  \n",
      " tf.tile (TFOpLambda)           (None, 26, 200)      0           ['tf.__operators__.getitem[0][0]'\n",
      "                                                                 ]                                \n",
      "                                                                                                  \n",
      " concatenate_1 (Concatenate)    (None, 26, 380)      0           ['leaky_re_lu_2[0][0]',          \n",
      "                                                                  'tf.tile[0][0]']                \n",
      "                                                                                                  \n",
      " conv1d_transpose_2 (Conv1DTran  (None, 52, 180)     205380      ['concatenate_1[0][0]']          \n",
      " spose)                                                                                           \n",
      "                                                                                                  \n",
      " batch_normalization_3 (BatchNo  (None, 52, 180)     720         ['conv1d_transpose_2[0][0]']     \n",
      " rmalization)                                                                                     \n",
      "                                                                                                  \n",
      " leaky_re_lu_3 (LeakyReLU)      (None, 52, 180)      0           ['batch_normalization_3[0][0]']  \n",
      "                                                                                                  \n",
      " tf.compat.v1.shape_1 (TFOpLamb  (3,)                0           ['leaky_re_lu_3[0][0]']          \n",
      " da)                                                                                              \n",
      "                                                                                                  \n",
      " tf.__operators__.getitem_1 (Sl  ()                  0           ['tf.compat.v1.shape_1[0][0]']   \n",
      " icingOpLambda)                                                                                   \n",
      "                                                                                                  \n",
      " tf.tile_1 (TFOpLambda)         (None, 52, 200)      0           ['tf.__operators__.getitem_1[0][0\n",
      "                                                                 ]']                              \n",
      "                                                                                                  \n",
      " concatenate_2 (Concatenate)    (None, 52, 380)      0           ['leaky_re_lu_3[0][0]',          \n",
      "                                                                  'tf.tile_1[0][0]']              \n",
      "                                                                                                  \n",
      " conv1d_transpose_3 (Conv1DTran  (None, 52, 180)     205380      ['concatenate_2[0][0]']          \n",
      " spose)                                                                                           \n",
      "                                                                                                  \n",
      " batch_normalization_4 (BatchNo  (None, 52, 180)     720         ['conv1d_transpose_3[0][0]']     \n",
      " rmalization)                                                                                     \n",
      "                                                                                                  \n",
      " leaky_re_lu_4 (LeakyReLU)      (None, 52, 180)      0           ['batch_normalization_4[0][0]']  \n",
      "                                                                                                  \n",
      " tf.compat.v1.shape_2 (TFOpLamb  (3,)                0           ['leaky_re_lu_4[0][0]']          \n",
      " da)                                                                                              \n",
      "                                                                                                  \n",
      " tf.__operators__.getitem_2 (Sl  ()                  0           ['tf.compat.v1.shape_2[0][0]']   \n",
      " icingOpLambda)                                                                                   \n",
      "                                                                                                  \n",
      " tf.tile_2 (TFOpLambda)         (None, 52, 200)      0           ['tf.__operators__.getitem_2[0][0\n",
      "                                                                 ]']                              \n",
      "                                                                                                  \n",
      " concatenate_3 (Concatenate)    (None, 52, 380)      0           ['leaky_re_lu_4[0][0]',          \n",
      "                                                                  'tf.tile_2[0][0]']              \n",
      "                                                                                                  \n",
      " conv1d_transpose_4 (Conv1DTran  (None, 52, 180)     205380      ['concatenate_3[0][0]']          \n",
      " spose)                                                                                           \n",
      "                                                                                                  \n",
      " batch_normalization_5 (BatchNo  (None, 52, 180)     720         ['conv1d_transpose_4[0][0]']     \n",
      " rmalization)                                                                                     \n",
      "                                                                                                  \n",
      " leaky_re_lu_5 (LeakyReLU)      (None, 52, 180)      0           ['batch_normalization_5[0][0]']  \n",
      "                                                                                                  \n",
      " tf.compat.v1.shape_3 (TFOpLamb  (3,)                0           ['leaky_re_lu_5[0][0]']          \n",
      " da)                                                                                              \n",
      "                                                                                                  \n",
      " tf.__operators__.getitem_3 (Sl  ()                  0           ['tf.compat.v1.shape_3[0][0]']   \n",
      " icingOpLambda)                                                                                   \n",
      "                                                                                                  \n",
      " tf.tile_3 (TFOpLambda)         (None, 52, 200)      0           ['tf.__operators__.getitem_3[0][0\n",
      "                                                                 ]']                              \n",
      "                                                                                                  \n",
      " concatenate_4 (Concatenate)    (None, 52, 380)      0           ['leaky_re_lu_5[0][0]',          \n",
      "                                                                  'tf.tile_3[0][0]']              \n",
      "                                                                                                  \n",
      " conv1d_transpose_5 (Conv1DTran  (None, 52, 180)     205380      ['concatenate_4[0][0]']          \n",
      " spose)                                                                                           \n",
      "                                                                                                  \n",
      " batch_normalization_6 (BatchNo  (None, 52, 180)     720         ['conv1d_transpose_5[0][0]']     \n",
      " rmalization)                                                                                     \n",
      "                                                                                                  \n",
      " leaky_re_lu_6 (LeakyReLU)      (None, 52, 180)      0           ['batch_normalization_6[0][0]']  \n",
      "                                                                                                  \n",
      " tf.compat.v1.shape_4 (TFOpLamb  (3,)                0           ['leaky_re_lu_6[0][0]']          \n",
      " da)                                                                                              \n",
      "                                                                                                  \n",
      " tf.__operators__.getitem_4 (Sl  ()                  0           ['tf.compat.v1.shape_4[0][0]']   \n",
      " icingOpLambda)                                                                                   \n",
      "                                                                                                  \n",
      " tf.tile_4 (TFOpLambda)         (None, 52, 200)      0           ['tf.__operators__.getitem_4[0][0\n",
      "                                                                 ]']                              \n",
      "                                                                                                  \n",
      " concatenate_5 (Concatenate)    (None, 52, 380)      0           ['leaky_re_lu_6[0][0]',          \n",
      "                                                                  'tf.tile_4[0][0]']              \n",
      "                                                                                                  \n",
      " conv1d_transpose_6 (Conv1DTran  (None, 52, 180)     205380      ['concatenate_5[0][0]']          \n",
      " spose)                                                                                           \n",
      "                                                                                                  \n",
      " batch_normalization_7 (BatchNo  (None, 52, 180)     720         ['conv1d_transpose_6[0][0]']     \n",
      " rmalization)                                                                                     \n",
      "                                                                                                  \n",
      " leaky_re_lu_7 (LeakyReLU)      (None, 52, 180)      0           ['batch_normalization_7[0][0]']  \n",
      "                                                                                                  \n",
      " conv1d_transpose_7 (Conv1DTran  (None, 52, 180)     97380       ['leaky_re_lu_7[0][0]']          \n",
      " spose)                                                                                           \n",
      "                                                                                                  \n",
      " batch_normalization_8 (BatchNo  (None, 52, 180)     720         ['conv1d_transpose_7[0][0]']     \n",
      " rmalization)                                                                                     \n",
      "                                                                                                  \n",
      " leaky_re_lu_8 (LeakyReLU)      (None, 52, 180)      0           ['batch_normalization_8[0][0]']  \n",
      "                                                                                                  \n",
      " dense_1 (Dense)                (None, 52, 200)      36200       ['leaky_re_lu_8[0][0]']          \n",
      "                                                                                                  \n",
      "==================================================================================================\n",
      "Total params: 1,651,790\n",
      "Trainable params: 1,644,410\n",
      "Non-trainable params: 7,380\n",
      "__________________________________________________________________________________________________\n"
     ]
    },
    {
     "data": {
      "text/plain": [
       "TensorShape([1, 52, 200])"
      ]
     },
     "execution_count": 16,
     "metadata": {},
     "output_type": "execute_result"
    }
   ],
   "source": [
    "from tensorflow import keras\n",
    "from tensorflow.keras import backend as K\n",
    "import numpy as np\n",
    "\n",
    "def make_generator(complexity=180):\n",
    "    alpha = 0.2\n",
    "    complexity = int(complexity)\n",
    "    \n",
    "    random_vector = keras.layers.Input(shape=[RANDOM_DIM])\n",
    "    labels = keras.layers.Input(shape=[len(le.classes_)])\n",
    "    \n",
    "    X = keras.layers.Concatenate()([random_vector, labels])\n",
    "    \n",
    "    # layer 1\n",
    "    X = keras.layers.Dense(\n",
    "        TARGET_LEN//2//2*complexity,\n",
    "        kernel_initializer=tf.keras.initializers.RandomNormal(stddev=0.02),\n",
    "    )(X)\n",
    "    X = keras.layers.BatchNormalization()(X)\n",
    "    X = keras.layers.LeakyReLU(alpha)(X)\n",
    "    X = keras.layers.Reshape((TARGET_LEN//2//2, complexity))(X)\n",
    "    \n",
    "    #layer 2 (None, 13, complexity)\n",
    "    X = keras.layers.Conv1DTranspose(\n",
    "        filters=complexity//2,\n",
    "        kernel_size=3,\n",
    "        padding='same',\n",
    "        strides=1,\n",
    "    )(X)\n",
    "    X = keras.layers.BatchNormalization()(X)\n",
    "    X = keras.layers.LeakyReLU(alpha)(X)\n",
    "    \n",
    "    #layer 3 (None, 13, complexity/2)\n",
    "    X = keras.layers.Conv1DTranspose(\n",
    "        filters=complexity,\n",
    "        kernel_size=3,\n",
    "        padding='same',\n",
    "        strides=2,\n",
    "    )(X)\n",
    "    X = keras.layers.BatchNormalization()(X)\n",
    "    X = keras.layers.LeakyReLU(alpha)(X)\n",
    "    \n",
    "    #layer 4 (None, 26, complexity/2)\n",
    "    pe = K.tile(give_pe(1, 26, 200), (K.shape(X)[0], 1, 1))\n",
    "    X = keras.layers.Concatenate(axis=-1)([X, pe])\n",
    "    X = keras.layers.Conv1DTranspose(\n",
    "        filters=complexity,\n",
    "        kernel_size=3,\n",
    "        padding='same',\n",
    "        strides=2,\n",
    "    )(X)\n",
    "    X = keras.layers.BatchNormalization()(X)\n",
    "    X = keras.layers.LeakyReLU(alpha)(X)\n",
    "    \n",
    "    \n",
    "    #layer 5 (None, 52, complexity)\n",
    "    pe = K.tile(give_pe(1, 52, 200), (K.shape(X)[0], 1, 1))\n",
    "    X = keras.layers.Concatenate(axis=-1)([X, pe])\n",
    "    X = keras.layers.Conv1DTranspose(\n",
    "        filters=complexity,\n",
    "        kernel_size=3,\n",
    "        padding='same',\n",
    "        strides=1,\n",
    "    )(X)\n",
    "    X = keras.layers.BatchNormalization()(X)\n",
    "    X = keras.layers.LeakyReLU(alpha)(X)\n",
    "    \n",
    "    #layer 6 (None, 52, complexity)\n",
    "    pe = K.tile(give_pe(1, 52, 200), (K.shape(X)[0], 1, 1))\n",
    "    X = keras.layers.Concatenate(axis=-1)([X, pe])\n",
    "    X = keras.layers.Conv1DTranspose(\n",
    "        filters=complexity,\n",
    "        kernel_size=3,\n",
    "        padding='same',\n",
    "        strides=1,\n",
    "    )(X)\n",
    "    X = keras.layers.BatchNormalization()(X)\n",
    "    X = keras.layers.LeakyReLU(alpha)(X)\n",
    "    \n",
    "    \n",
    "    #layer 6 (None, 52, complexity)\n",
    "    pe = K.tile(give_pe(1, 52, 200), (K.shape(X)[0], 1, 1))\n",
    "    X = keras.layers.Concatenate(axis=-1)([X, pe])\n",
    "    X = keras.layers.Conv1DTranspose(\n",
    "        filters=complexity,\n",
    "        kernel_size=3,\n",
    "        padding='same',\n",
    "        strides=1,\n",
    "    )(X)\n",
    "    X = keras.layers.BatchNormalization()(X)\n",
    "    X = keras.layers.LeakyReLU(alpha)(X)\n",
    "    \n",
    "    \n",
    "    #layer 6 (None, 52, complexity)\n",
    "    pe = K.tile(give_pe(1, 52, 200), (K.shape(X)[0], 1, 1))\n",
    "    X = keras.layers.Concatenate(axis=-1)([X, pe])\n",
    "    X = keras.layers.Conv1DTranspose(\n",
    "        filters=complexity,\n",
    "        kernel_size=3,\n",
    "        padding='same',\n",
    "        strides=1,\n",
    "    )(X)\n",
    "    X = keras.layers.BatchNormalization()(X)\n",
    "    X = keras.layers.LeakyReLU(alpha)(X)\n",
    "    \n",
    "    \n",
    "    \n",
    "    #layer 7 (None, 52, complexity)\n",
    "    X = keras.layers.Conv1DTranspose(\n",
    "        filters=complexity,\n",
    "        kernel_size=3,\n",
    "        padding='same',\n",
    "        strides=1,\n",
    "    )(X)\n",
    "    X = keras.layers.BatchNormalization()(X)\n",
    "    X = keras.layers.LeakyReLU(alpha)(X)\n",
    "    \n",
    "    X = keras.layers.Dense(EMBEDDING_SIZE)(X)\n",
    "    \n",
    "    model = keras.models.Model(inputs=[random_vector, labels], outputs=X)\n",
    "    model.compile(\n",
    "        loss='binary_crossentropy',\n",
    "        metrics=['acc'],\n",
    "        optimizer='sgd'\n",
    "    )\n",
    "    model.summary()\n",
    "    return model\n",
    "generator = make_generator()\n",
    "generated_from_noise = generator(FIXED_NOISE)\n",
    "generated_from_noise.shape"
   ]
  },
  {
   "cell_type": "code",
   "execution_count": 17,
   "metadata": {},
   "outputs": [
    {
     "name": "stdout",
     "output_type": "stream",
     "text": [
      "('actuarial actuarial actuarial actuarial brides brides lymphocyte lymphocyte lymphocyte counting amino 14 amino amino 14 14 pd pd 28 renters 339 339 heterodimer molecule blau blau eukaryote eukaryote insertions brides brides brides gametes workshared gametes compartment compartment gusto workshared fpa', 1.025869515307092, 0.11450564128997917)\n"
     ]
    },
    {
     "name": "stderr",
     "output_type": "stream",
     "text": [
      "/Users/ildar/projects/.venv/lib/python3.9/site-packages/scipy/spatial/distance.py:620: RuntimeWarning: invalid value encountered in double_scalars\n",
      "  dist = 1.0 - uv / np.sqrt(uu * vv)\n"
     ]
    }
   ],
   "source": [
    "from scipy.spatial.distance import cosine\n",
    "\n",
    "\n",
    "def distance_to_that_message(generated_vec):\n",
    "    that_message_vec = vectorize_sentence(MESSAGES_FROM_DATASET[0][0])\n",
    "    return np.mean([cosine(a, b)  for a, b in zip(generated_vec, that_message_vec)])\n",
    "\n",
    "\n",
    "def message_recovery_with_metric(vector: np.ndarray):\n",
    "    assert len(vector.shape) == 2\n",
    "    tokens = []\n",
    "    metric = []\n",
    "    vector = vector.numpy()\n",
    "    for token_vec in vector:\n",
    "        w2v = token_vec[:100]\n",
    "        if np.linalg.norm(w2v) < 0.1:\n",
    "            token = ''\n",
    "        else:\n",
    "            token = W2V_100.wv.most_similar([w2v])[0][0]\n",
    "        tokens.append(token)\n",
    "        \n",
    "        metric.append(cosine(token_vec[100:], FT_100.wv[token]))\n",
    "    return ' '.join(tokens[-40:]).strip(), np.mean(metric), distance_to_that_message(vector)\n",
    "\n",
    "\n",
    "\n",
    "for example in generated_from_noise:\n",
    "    print(message_recovery_with_metric(example))"
   ]
  },
  {
   "cell_type": "markdown",
   "metadata": {},
   "source": [
    "# DISCRIMINATOR"
   ]
  },
  {
   "cell_type": "code",
   "execution_count": 18,
   "metadata": {},
   "outputs": [],
   "source": [
    "def optimizer():\n",
    "    return tf.keras.optimizers.Adam(lr=0.0002, beta_1=0.5)"
   ]
  },
  {
   "cell_type": "code",
   "execution_count": 19,
   "metadata": {},
   "outputs": [
    {
     "name": "stdout",
     "output_type": "stream",
     "text": [
      "Model: \"discriminator\"\n",
      "__________________________________________________________________________________________________\n",
      " Layer (type)                   Output Shape         Param #     Connected to                     \n",
      "==================================================================================================\n",
      " input_3 (InputLayer)           [(None, 52, 200)]    0           []                               \n",
      "                                                                                                  \n",
      " conv1d (Conv1D)                (None, 52, 240)      144240      ['input_3[0][0]']                \n",
      "                                                                                                  \n",
      " leaky_re_lu_9 (LeakyReLU)      (None, 52, 240)      0           ['conv1d[0][0]']                 \n",
      "                                                                                                  \n",
      " dropout (Dropout)              (None, 52, 240)      0           ['leaky_re_lu_9[0][0]']          \n",
      "                                                                                                  \n",
      " conv1d_1 (Conv1D)              (None, 26, 160)      115360      ['dropout[0][0]']                \n",
      "                                                                                                  \n",
      " leaky_re_lu_10 (LeakyReLU)     (None, 26, 160)      0           ['conv1d_1[0][0]']               \n",
      "                                                                                                  \n",
      " dropout_1 (Dropout)            (None, 26, 160)      0           ['leaky_re_lu_10[0][0]']         \n",
      "                                                                                                  \n",
      " conv1d_2 (Conv1D)              (None, 26, 160)      76960       ['dropout_1[0][0]']              \n",
      "                                                                                                  \n",
      " leaky_re_lu_11 (LeakyReLU)     (None, 26, 160)      0           ['conv1d_2[0][0]']               \n",
      "                                                                                                  \n",
      " dropout_2 (Dropout)            (None, 26, 160)      0           ['leaky_re_lu_11[0][0]']         \n",
      "                                                                                                  \n",
      " conv1d_3 (Conv1D)              (None, 26, 160)      76960       ['dropout_2[0][0]']              \n",
      "                                                                                                  \n",
      " leaky_re_lu_12 (LeakyReLU)     (None, 26, 160)      0           ['conv1d_3[0][0]']               \n",
      "                                                                                                  \n",
      " dropout_3 (Dropout)            (None, 26, 160)      0           ['leaky_re_lu_12[0][0]']         \n",
      "                                                                                                  \n",
      " conv1d_4 (Conv1D)              (None, 13, 120)      57720       ['dropout_3[0][0]']              \n",
      "                                                                                                  \n",
      " leaky_re_lu_13 (LeakyReLU)     (None, 13, 120)      0           ['conv1d_4[0][0]']               \n",
      "                                                                                                  \n",
      " dropout_4 (Dropout)            (None, 13, 120)      0           ['leaky_re_lu_13[0][0]']         \n",
      "                                                                                                  \n",
      " flatten (Flatten)              (None, 1560)         0           ['dropout_4[0][0]']              \n",
      "                                                                                                  \n",
      " dense_2 (Dense)                (None, 480)          749280      ['flatten[0][0]']                \n",
      "                                                                                                  \n",
      " leaky_re_lu_14 (LeakyReLU)     (None, 480)          0           ['dense_2[0][0]']                \n",
      "                                                                                                  \n",
      " dropout_5 (Dropout)            (None, 480)          0           ['leaky_re_lu_14[0][0]']         \n",
      "                                                                                                  \n",
      " flatten_1 (Flatten)            (None, 480)          0           ['dropout_5[0][0]']              \n",
      "                                                                                                  \n",
      " dense_3 (Dense)                (None, 240)          115440      ['flatten_1[0][0]']              \n",
      "                                                                                                  \n",
      " leaky_re_lu_15 (LeakyReLU)     (None, 240)          0           ['dense_3[0][0]']                \n",
      "                                                                                                  \n",
      " dropout_6 (Dropout)            (None, 240)          0           ['leaky_re_lu_15[0][0]']         \n",
      "                                                                                                  \n",
      " real_fake (Dense)              (None, 1)            241         ['dropout_6[0][0]']              \n",
      "                                                                                                  \n",
      " labels (Dense)                 (None, 61)           14701       ['dropout_6[0][0]']              \n",
      "                                                                                                  \n",
      "==================================================================================================\n",
      "Total params: 1,350,902\n",
      "Trainable params: 1,350,902\n",
      "Non-trainable params: 0\n",
      "__________________________________________________________________________________________________\n"
     ]
    },
    {
     "name": "stderr",
     "output_type": "stream",
     "text": [
      "/Users/ildar/projects/.venv/lib/python3.9/site-packages/keras/optimizers/optimizer_v2/adam.py:114: UserWarning: The `lr` argument is deprecated, use `learning_rate` instead.\n",
      "  super().__init__(name, **kwargs)\n"
     ]
    },
    {
     "data": {
      "text/plain": [
       "[<tf.Tensor: shape=(1, 1), dtype=float32, numpy=array([[0.48543304]], dtype=float32)>,\n",
       " <tf.Tensor: shape=(1, 61), dtype=float32, numpy=\n",
       " array([[0.0153092 , 0.0153958 , 0.01612774, 0.01791031, 0.01423929,\n",
       "         0.01659399, 0.01741881, 0.01658014, 0.01536262, 0.01676456,\n",
       "         0.01744778, 0.01523781, 0.01714651, 0.0175262 , 0.01574562,\n",
       "         0.01562222, 0.01794531, 0.01539094, 0.01594124, 0.01532268,\n",
       "         0.01730522, 0.01584447, 0.01751112, 0.01848441, 0.0173561 ,\n",
       "         0.01642057, 0.01467397, 0.01657762, 0.01548451, 0.01789028,\n",
       "         0.01572977, 0.01360083, 0.01574729, 0.0158805 , 0.01542856,\n",
       "         0.01761248, 0.01683322, 0.01555568, 0.01567031, 0.01458573,\n",
       "         0.0175682 , 0.01719241, 0.01700457, 0.01535274, 0.0173888 ,\n",
       "         0.01736146, 0.01762481, 0.01560349, 0.01433598, 0.01703622,\n",
       "         0.01640658, 0.01738799, 0.01678926, 0.01740127, 0.01705018,\n",
       "         0.01604747, 0.01748076, 0.01515294, 0.01590408, 0.01720725,\n",
       "         0.01748219]], dtype=float32)>]"
      ]
     },
     "execution_count": 19,
     "metadata": {},
     "output_type": "execute_result"
    }
   ],
   "source": [
    "def make_discriminator(complexity=480):\n",
    "    complexity = int(complexity)\n",
    "    alpha = 0.2\n",
    "    drop_rate = 0.2\n",
    "    inp = keras.layers.Input(shape=(TARGET_LEN, EMBEDDING_SIZE))\n",
    "    X = inp\n",
    "    \n",
    "    #layer 1\n",
    "    X = keras.layers.Conv1D(\n",
    "        filters=complexity//2,\n",
    "        kernel_size=3,\n",
    "        padding='same',\n",
    "        strides=1,\n",
    "    )(X)\n",
    "    X = keras.layers.LeakyReLU(alpha)(X)\n",
    "    X = keras.layers.Dropout(drop_rate)(X)\n",
    "    \n",
    "    #layer 2\n",
    "    X = keras.layers.Conv1D(\n",
    "        filters=complexity//3,\n",
    "        kernel_size=3,\n",
    "        padding='same',\n",
    "        strides=2,\n",
    "    )(X)\n",
    "    X = keras.layers.LeakyReLU(alpha)(X)\n",
    "    X = keras.layers.Dropout(drop_rate)(X)\n",
    "    \n",
    "    \n",
    "    #layer 2\n",
    "    X = keras.layers.Conv1D(\n",
    "        filters=complexity//3,\n",
    "        kernel_size=3,\n",
    "        padding='same',\n",
    "        strides=1,\n",
    "    )(X)\n",
    "    X = keras.layers.LeakyReLU(alpha)(X)\n",
    "    X = keras.layers.Dropout(drop_rate)(X)\n",
    "    \n",
    "    #layer 2\n",
    "    X = keras.layers.Conv1D(\n",
    "        filters=complexity//3,\n",
    "        kernel_size=3,\n",
    "        padding='same',\n",
    "        strides=1,\n",
    "    )(X)\n",
    "    X = keras.layers.LeakyReLU(alpha)(X)\n",
    "    X = keras.layers.Dropout(drop_rate)(X)\n",
    "    \n",
    "    \n",
    "    #layer 3\n",
    "    X = keras.layers.Conv1D(\n",
    "        filters=complexity//4,\n",
    "        kernel_size=3,\n",
    "        padding='same',\n",
    "        strides=2,\n",
    "    )(X)\n",
    "    X = keras.layers.LeakyReLU(alpha)(X)\n",
    "    X = keras.layers.Dropout(drop_rate)(X)\n",
    "    \n",
    "    #layer 4\n",
    "    X = keras.layers.Flatten()(X)\n",
    "    X = keras.layers.Dense(complexity)(X)\n",
    "    X = keras.layers.LeakyReLU(alpha)(X)\n",
    "    X = keras.layers.Dropout(drop_rate)(X)\n",
    "    \n",
    "    #layer 5\n",
    "    X = keras.layers.Flatten()(X)\n",
    "    X = keras.layers.Dense(complexity//2)(X)\n",
    "    X = keras.layers.LeakyReLU(alpha)(X)\n",
    "    X = keras.layers.Dropout(drop_rate)(X)\n",
    "    \n",
    "    # 6 layer\n",
    "    X_real_fake = keras.layers.Dense(1, activation='sigmoid', name='real_fake')(X)\n",
    "    # 6 layer\n",
    "    X_labels = keras.layers.Dense(len(le.classes_), activation='softmax', name='labels')(X)\n",
    "    \n",
    "    model = keras.models.Model(inputs=inp, outputs=[X_real_fake, X_labels], name='discriminator')\n",
    "    model.compile(loss={'real_fake': 'binary_crossentropy', 'labels': 'categorical_crossentropy'},\n",
    "                  loss_weights={'real_fake':1, 'labels': 0.01},\n",
    "                  optimizer=optimizer(),\n",
    "                  metrics={'real_fake':'acc'})\n",
    "    model.summary()\n",
    "    return model\n",
    "\n",
    "discriminator = make_discriminator()\n",
    "discriminator(generated_from_noise)"
   ]
  },
  {
   "cell_type": "markdown",
   "metadata": {},
   "source": [
    "# BUILDING GAN"
   ]
  },
  {
   "cell_type": "code",
   "execution_count": 20,
   "metadata": {},
   "outputs": [
    {
     "name": "stdout",
     "output_type": "stream",
     "text": [
      "Model: \"model_1\"\n",
      "__________________________________________________________________________________________________\n",
      " Layer (type)                   Output Shape         Param #     Connected to                     \n",
      "==================================================================================================\n",
      " input_1 (InputLayer)           [(None, 100)]        0           []                               \n",
      "                                                                                                  \n",
      " input_2 (InputLayer)           [(None, 61)]         0           []                               \n",
      "                                                                                                  \n",
      " model (Functional)             (None, 52, 200)      1651790     ['input_1[0][0]',                \n",
      "                                                                  'input_2[0][0]']                \n",
      "                                                                                                  \n",
      " discriminator (Functional)     [(None, 1),          1350902     ['model[0][0]']                  \n",
      "                                 (None, 61)]                                                      \n",
      "                                                                                                  \n",
      "==================================================================================================\n",
      "Total params: 3,002,692\n",
      "Trainable params: 2,995,312\n",
      "Non-trainable params: 7,380\n",
      "__________________________________________________________________________________________________\n"
     ]
    }
   ],
   "source": [
    "def make_gan(discriminator, generator):   \n",
    "    noise = generator.inputs\n",
    "    texts = generator(noise)\n",
    "    real_vs_fake_and_label = discriminator(texts)\n",
    "    gan = keras.models.Model(inputs=noise, outputs=real_vs_fake_and_label)\n",
    "    # make discrimator not trainable before compile\n",
    "    # because GAN training is training of generator\n",
    "    discriminator.trainable = False  \n",
    "    gan.compile(\n",
    "        loss={\n",
    "            'discriminator': 'binary_crossentropy',\n",
    "            'discriminator_1': 'categorical_crossentropy',\n",
    "        },\n",
    "        loss_weights={'discriminator':1, 'discriminator_1': 0.01},\n",
    "        optimizer=optimizer(),\n",
    "        metrics={'discriminator':'acc'})\n",
    "    discriminator.trainable = True\n",
    "    gan.summary()\n",
    "    return gan\n",
    "gan = make_gan(discriminator, generator)"
   ]
  },
  {
   "cell_type": "markdown",
   "metadata": {},
   "source": [
    "# save and load"
   ]
  },
  {
   "cell_type": "code",
   "execution_count": 21,
   "metadata": {},
   "outputs": [],
   "source": [
    "def save_models():\n",
    "    discriminator.save('models/discriminator')\n",
    "    generator.save('models/generator')\n",
    "    gan.save('models/gan')\n",
    "# save_models()"
   ]
  },
  {
   "cell_type": "code",
   "execution_count": 22,
   "metadata": {},
   "outputs": [],
   "source": [
    "def load_models():\n",
    "    discriminator = keras.models.load_model('models/discriminator')\n",
    "    generator = keras.models.load_model('models/generator')\n",
    "    gan = keras.models.load_model('models/gan')\n",
    "# load_models()"
   ]
  },
  {
   "cell_type": "markdown",
   "metadata": {},
   "source": [
    "# final logic check"
   ]
  },
  {
   "cell_type": "code",
   "execution_count": 23,
   "metadata": {},
   "outputs": [
    {
     "data": {
      "text/plain": [
       "<tf.Tensor: shape=(1, 1), dtype=float32, numpy=array([[0.48543304]], dtype=float32)>"
      ]
     },
     "execution_count": 23,
     "metadata": {},
     "output_type": "execute_result"
    }
   ],
   "source": [
    "gan(FIXED_NOISE)[0]"
   ]
  },
  {
   "cell_type": "code",
   "execution_count": 24,
   "metadata": {},
   "outputs": [
    {
     "data": {
      "text/plain": [
       "<tf.Tensor: shape=(1,), dtype=float32, numpy=array([0.48543304], dtype=float32)>"
      ]
     },
     "execution_count": 24,
     "metadata": {},
     "output_type": "execute_result"
    }
   ],
   "source": [
    "discriminator(generator(FIXED_NOISE))[0][0]"
   ]
  },
  {
   "cell_type": "markdown",
   "metadata": {},
   "source": [
    "# train"
   ]
  },
  {
   "cell_type": "code",
   "execution_count": 25,
   "metadata": {},
   "outputs": [
    {
     "name": "stdout",
     "output_type": "stream",
     "text": [
      "\n",
      "('actuarial actuarial actuarial actuarial brides brides lymphocyte lymphocyte lymphocyte counting amino 14 amino amino 14 14 pd pd 28 renters 339 339 heterodimer molecule blau blau eukaryote eukaryote insertions brides brides brides gametes workshared gametes compartment compartment gusto workshared fpa', 1.025869515307092, 0.11450564128997917)\n"
     ]
    },
    {
     "data": {
      "application/vnd.jupyter.widget-view+json": {
       "model_id": "2e08543602a34c4bb03659e32c28d688",
       "version_major": 2,
       "version_minor": 0
      },
      "text/plain": [
       "  0%|          | 0/30 [00:00<?, ?it/s]"
      ]
     },
     "metadata": {},
     "output_type": "display_data"
    },
    {
     "name": "stderr",
     "output_type": "stream",
     "text": [
      "2022-11-27 14:27:32.426518: W tensorflow/core/platform/profile_utils/cpu_utils.cc:128] Failed to get CPU frequency: 0 Hz\n",
      "2022-11-27 14:27:32.426973: I tensorflow/core/grappler/optimizers/custom_graph_optimizer_registry.cc:114] Plugin optimizer for device_type GPU is enabled.\n",
      "2022-11-27 14:27:34.197647: I tensorflow/core/grappler/optimizers/custom_graph_optimizer_registry.cc:114] Plugin optimizer for device_type GPU is enabled.\n"
     ]
    },
    {
     "name": "stdout",
     "output_type": "stream",
     "text": [
      "0.08 0.5 0.551\n",
      "('aeration divisional solution 37 solution reagents solution functionally solution norad solution inspectors combined indispensable relaxed clandestine journalism financial people centralized paranoia analyst humor skeptical uncertain skeptical weak prosaic doubtful duh partisanship forensics clinger divulge afi nabisco in time noe 1955', 1.02098307223507, 0.0559807575719639)\n"
     ]
    },
    {
     "name": "stderr",
     "output_type": "stream",
     "text": [
      "/Users/ildar/projects/.venv/lib/python3.9/site-packages/scipy/spatial/distance.py:620: RuntimeWarning: invalid value encountered in double_scalars\n",
      "  dist = 1.0 - uv / np.sqrt(uu * vv)\n"
     ]
    },
    {
     "data": {
      "application/vnd.jupyter.widget-view+json": {
       "model_id": "70d2dd7b0f1f41d585dfb207307a842b",
       "version_major": 2,
       "version_minor": 0
      },
      "text/plain": [
       "  0%|          | 0/30 [00:00<?, ?it/s]"
      ]
     },
     "metadata": {},
     "output_type": "display_data"
    },
    {
     "name": "stdout",
     "output_type": "stream",
     "text": [
      "0.22 0.5 0.5112\n",
      "('feely psych o pmed o diff ballgame rhinoceros stag o o o starts dialog illuminated screenwriters companions fingertips desks loud tones trotting tones jumble jealousy occult glaze foothills rambling foothills simplifies simplifies jstor congenial vociferous barksdale compromises time incident 1955', 0.9505829661009977, 0.0511542003413294)\n"
     ]
    },
    {
     "name": "stderr",
     "output_type": "stream",
     "text": [
      "/Users/ildar/projects/.venv/lib/python3.9/site-packages/scipy/spatial/distance.py:620: RuntimeWarning: invalid value encountered in double_scalars\n",
      "  dist = 1.0 - uv / np.sqrt(uu * vv)\n"
     ]
    },
    {
     "data": {
      "application/vnd.jupyter.widget-view+json": {
       "model_id": "84fff2b9985b45e6931e54c3e9299bc5",
       "version_major": 2,
       "version_minor": 0
      },
      "text/plain": [
       "  0%|          | 0/30 [00:00<?, ?it/s]"
      ]
     },
     "metadata": {},
     "output_type": "display_data"
    },
    {
     "name": "stdout",
     "output_type": "stream",
     "text": [
      "0.14 0.5 0.5511\n",
      "('las las las las las puerto las puerto refreshment badaling tickets entrances tickets las las las las las las las tickets las las las las las las las las las las las contested vd tefb hesitation in time brigham dominate', 1.0076954781610625, 0.06404467530802238)\n"
     ]
    },
    {
     "name": "stderr",
     "output_type": "stream",
     "text": [
      "/Users/ildar/projects/.venv/lib/python3.9/site-packages/scipy/spatial/distance.py:620: RuntimeWarning: invalid value encountered in double_scalars\n",
      "  dist = 1.0 - uv / np.sqrt(uu * vv)\n"
     ]
    },
    {
     "data": {
      "application/vnd.jupyter.widget-view+json": {
       "model_id": "85ab25e6b1fd469ca3bad892b8b023ac",
       "version_major": 2,
       "version_minor": 0
      },
      "text/plain": [
       "  0%|          | 0/30 [00:00<?, ?it/s]"
      ]
     },
     "metadata": {},
     "output_type": "display_data"
    },
    {
     "name": "stdout",
     "output_type": "stream",
     "text": [
      "0.19 0.5 0.5\n",
      "('las las las las las las las another las badaling las las las las las las las las las las las sunset las sunset las las las las las las las las contested vd nihilism conservationists in time lovers dominate', 1.0150267404611582, 0.058785313853473076)\n"
     ]
    },
    {
     "name": "stderr",
     "output_type": "stream",
     "text": [
      "/Users/ildar/projects/.venv/lib/python3.9/site-packages/scipy/spatial/distance.py:620: RuntimeWarning: invalid value encountered in double_scalars\n",
      "  dist = 1.0 - uv / np.sqrt(uu * vv)\n"
     ]
    },
    {
     "data": {
      "application/vnd.jupyter.widget-view+json": {
       "model_id": "dbf1470d1835470ca6721108afe724d9",
       "version_major": 2,
       "version_minor": 0
      },
      "text/plain": [
       "  0%|          | 0/30 [00:00<?, ?it/s]"
      ]
     },
     "metadata": {},
     "output_type": "display_data"
    },
    {
     "name": "stdout",
     "output_type": "stream",
     "text": [
      "0.5 0.5 0.55\n",
      "('las las las compartment las compartment las compartment las compartment las las las las las las las las sunset las sunset las sunset sunset sunset las sunset las las las las las null antipathy 90th specious in time cantonese dominate', 1.022906450733829, 0.054096964042939386)\n"
     ]
    },
    {
     "name": "stderr",
     "output_type": "stream",
     "text": [
      "/Users/ildar/projects/.venv/lib/python3.9/site-packages/scipy/spatial/distance.py:620: RuntimeWarning: invalid value encountered in double_scalars\n",
      "  dist = 1.0 - uv / np.sqrt(uu * vv)\n"
     ]
    },
    {
     "data": {
      "application/vnd.jupyter.widget-view+json": {
       "model_id": "e8a5f4f0190d49b5a7002c0ef4cd859c",
       "version_major": 2,
       "version_minor": 0
      },
      "text/plain": [
       "  0%|          | 0/30 [00:00<?, ?it/s]"
      ]
     },
     "metadata": {},
     "output_type": "display_data"
    },
    {
     "name": "stdout",
     "output_type": "stream",
     "text": [
      "0.29 0.5 0.5511\n",
      "('surpluses torricelli marathon lander airliners satellites satellites lander reconnaissance lander reconnaissance lander airliners lander bastion lander bridge lander cairo lander reconnaissance lander tibet brunt cairo brunt difficult brunt boris hussein freckles freckles focus concentrate famous parents in time discarded welcomed', 0.6564916853721325, 0.06049023932564912)\n"
     ]
    },
    {
     "name": "stderr",
     "output_type": "stream",
     "text": [
      "/Users/ildar/projects/.venv/lib/python3.9/site-packages/scipy/spatial/distance.py:620: RuntimeWarning: invalid value encountered in double_scalars\n",
      "  dist = 1.0 - uv / np.sqrt(uu * vv)\n"
     ]
    },
    {
     "data": {
      "application/vnd.jupyter.widget-view+json": {
       "model_id": "d220f5b3a143428782cbd2d7671251cf",
       "version_major": 2,
       "version_minor": 0
      },
      "text/plain": [
       "  0%|          | 0/30 [00:00<?, ?it/s]"
      ]
     },
     "metadata": {},
     "output_type": "display_data"
    },
    {
     "name": "stdout",
     "output_type": "stream",
     "text": [
      "0.22 0.5 0.551\n",
      "('steering steering steering random commons random steering steering steering random steering steering steering steering steering steering steering random steering random steering steering steering random steering random random random random surpluses surpluses surpluses minority privately miller chinese continental breakthroughs pooh tensions', 0.736661752112783, 0.06637780603763399)\n"
     ]
    },
    {
     "name": "stderr",
     "output_type": "stream",
     "text": [
      "/Users/ildar/projects/.venv/lib/python3.9/site-packages/scipy/spatial/distance.py:620: RuntimeWarning: invalid value encountered in double_scalars\n",
      "  dist = 1.0 - uv / np.sqrt(uu * vv)\n"
     ]
    },
    {
     "data": {
      "application/vnd.jupyter.widget-view+json": {
       "model_id": "ea1987d30771444cb0903f8d3debc7f8",
       "version_major": 2,
       "version_minor": 0
      },
      "text/plain": [
       "  0%|          | 0/30 [00:00<?, ?it/s]"
      ]
     },
     "metadata": {},
     "output_type": "display_data"
    },
    {
     "name": "stdout",
     "output_type": "stream",
     "text": [
      "0.21 0.5 0.5511\n",
      "('schemes schemes playlist schemes schemes schemes schemes schemes schemes productions schemes productions schemes productions dulbecco dulbecco dulbecco dulbecco dulbecco dulbecco dulbecco dulbecco steinberg steinberg steinberg steinberg rai steinberg rai soutine prowess soutine freshman soutine freshman about in time sizable filled', 1.019522233454224, 0.08118608700182497)\n"
     ]
    },
    {
     "name": "stderr",
     "output_type": "stream",
     "text": [
      "/Users/ildar/projects/.venv/lib/python3.9/site-packages/scipy/spatial/distance.py:620: RuntimeWarning: invalid value encountered in double_scalars\n",
      "  dist = 1.0 - uv / np.sqrt(uu * vv)\n"
     ]
    },
    {
     "data": {
      "application/vnd.jupyter.widget-view+json": {
       "model_id": "6895defd0be14db1bec7cb3a9c494436",
       "version_major": 2,
       "version_minor": 0
      },
      "text/plain": [
       "  0%|          | 0/30 [00:00<?, ?it/s]"
      ]
     },
     "metadata": {},
     "output_type": "display_data"
    },
    {
     "name": "stdout",
     "output_type": "stream",
     "text": [
      "0.47 0.5 0.5\n",
      "('playlist productions album productions album productions schemes productions album productions schemes productions fixative productions calender productions freund fixative freund dulbecco freund dulbecco dulbecco fixative freund dulbecco freund dulbecco prowess soutine prowess soutine prowess soutine freshman laden in time coi filled', 1.0054738903731608, 0.07575481040188103)\n"
     ]
    },
    {
     "name": "stderr",
     "output_type": "stream",
     "text": [
      "/Users/ildar/projects/.venv/lib/python3.9/site-packages/scipy/spatial/distance.py:620: RuntimeWarning: invalid value encountered in double_scalars\n",
      "  dist = 1.0 - uv / np.sqrt(uu * vv)\n"
     ]
    },
    {
     "data": {
      "application/vnd.jupyter.widget-view+json": {
       "model_id": "089dc2ac07ba42f6b65f2f71cd142e78",
       "version_major": 2,
       "version_minor": 0
      },
      "text/plain": [
       "  0%|          | 0/30 [00:00<?, ?it/s]"
      ]
     },
     "metadata": {},
     "output_type": "display_data"
    },
    {
     "name": "stdout",
     "output_type": "stream",
     "text": [
      "0.45 0.5 0.551\n",
      "('packaging formulations packaging preparations packaging packaging packaging packaging packaging packaging packaging packaging packaging packaging packaging packaging packaging packaging packaging packaging packaging packaging packaging packaging packaging packaging packaging packaging packaging packaging packaging packaging morphogenesis morphogenesis martyrdom overly traditions reinterpretation lsfo relentlessly', 0.9845807433062314, 0.08606052556740304)\n"
     ]
    },
    {
     "name": "stderr",
     "output_type": "stream",
     "text": [
      "/Users/ildar/projects/.venv/lib/python3.9/site-packages/scipy/spatial/distance.py:620: RuntimeWarning: invalid value encountered in double_scalars\n",
      "  dist = 1.0 - uv / np.sqrt(uu * vv)\n"
     ]
    },
    {
     "data": {
      "application/vnd.jupyter.widget-view+json": {
       "model_id": "376a0f93e5d1484bb90a0ded9c932127",
       "version_major": 2,
       "version_minor": 0
      },
      "text/plain": [
       "  0%|          | 0/30 [00:00<?, ?it/s]"
      ]
     },
     "metadata": {},
     "output_type": "display_data"
    },
    {
     "name": "stdout",
     "output_type": "stream",
     "text": [
      "0.81 0.5 0.55112\n",
      "('sellers storms sellers storms waters storms waters waters waters storms waters storms waters storms sellers storms sellers storms sellers storms dried storms dried storms dried storms sellers storms sellers booking booking booking jeep dads quicken quicken consensual h3 protofilament firmer', 0.7787337789598566, 0.11140865153565922)\n"
     ]
    },
    {
     "name": "stderr",
     "output_type": "stream",
     "text": [
      "/Users/ildar/projects/.venv/lib/python3.9/site-packages/scipy/spatial/distance.py:620: RuntimeWarning: invalid value encountered in double_scalars\n",
      "  dist = 1.0 - uv / np.sqrt(uu * vv)\n"
     ]
    },
    {
     "data": {
      "application/vnd.jupyter.widget-view+json": {
       "model_id": "6301e2c90cde4e6daf2f65aabffeff01",
       "version_major": 2,
       "version_minor": 0
      },
      "text/plain": [
       "  0%|          | 0/30 [00:00<?, ?it/s]"
      ]
     },
     "metadata": {},
     "output_type": "display_data"
    },
    {
     "name": "stdout",
     "output_type": "stream",
     "text": [
      "2.48 0.52 0.484\n",
      "('until crops until crops until anymore until anymore borne anymore anymore anymore crop anymore anymore anymore precious anymore borne anymore borne anymore borne anymore borne anymore borne anymore borne anymore boiled anymore boiled solvents booking screeners industrial pellet primed m', 0.9026327869281746, 0.08288733448186328)\n"
     ]
    },
    {
     "name": "stderr",
     "output_type": "stream",
     "text": [
      "/Users/ildar/projects/.venv/lib/python3.9/site-packages/scipy/spatial/distance.py:620: RuntimeWarning: invalid value encountered in double_scalars\n",
      "  dist = 1.0 - uv / np.sqrt(uu * vv)\n"
     ]
    },
    {
     "data": {
      "application/vnd.jupyter.widget-view+json": {
       "model_id": "bf3ace17aa17473497611f5f60385854",
       "version_major": 2,
       "version_minor": 0
      },
      "text/plain": [
       "  0%|          | 0/30 [00:00<?, ?it/s]"
      ]
     },
     "metadata": {},
     "output_type": "display_data"
    },
    {
     "name": "stdout",
     "output_type": "stream",
     "text": [
      "4.65 0.5 0.55131\n",
      "('p3hr cv cd pos pos pos pos pos pos pos pos pos flashbacks files duh duh duh duh duh annie annie annie demo demo pos pos previews previews previews previews payback equation 1of billed bye 16 council resulted noting noting', 0.8544718951779942, 0.07976373954498239)\n"
     ]
    },
    {
     "name": "stderr",
     "output_type": "stream",
     "text": [
      "/Users/ildar/projects/.venv/lib/python3.9/site-packages/scipy/spatial/distance.py:620: RuntimeWarning: invalid value encountered in double_scalars\n",
      "  dist = 1.0 - uv / np.sqrt(uu * vv)\n"
     ]
    },
    {
     "data": {
      "application/vnd.jupyter.widget-view+json": {
       "model_id": "2badaa66204f44f4a75d4d528e164b0e",
       "version_major": 2,
       "version_minor": 0
      },
      "text/plain": [
       "  0%|          | 0/30 [00:00<?, ?it/s]"
      ]
     },
     "metadata": {},
     "output_type": "display_data"
    },
    {
     "name": "stdout",
     "output_type": "stream",
     "text": [
      "2.2 0.5 0.5551221\n",
      "('thrill coping coping sacrifice thrill sacrifice thrill sacrifice thrill sacrifice thrill drink over drink over over thrill over thrill bulls thrill coping thrill coping thrill coping thrill coping coping bass bass singing singing frolic tac antimycotic superinfection adapt captors frets', 0.8273679844390315, 0.09164784221684694)\n"
     ]
    },
    {
     "name": "stderr",
     "output_type": "stream",
     "text": [
      "/Users/ildar/projects/.venv/lib/python3.9/site-packages/scipy/spatial/distance.py:620: RuntimeWarning: invalid value encountered in double_scalars\n",
      "  dist = 1.0 - uv / np.sqrt(uu * vv)\n"
     ]
    },
    {
     "data": {
      "application/vnd.jupyter.widget-view+json": {
       "model_id": "9f4e7bc6909c46b0bc47855f9976d1bd",
       "version_major": 2,
       "version_minor": 0
      },
      "text/plain": [
       "  0%|          | 0/30 [00:00<?, ?it/s]"
      ]
     },
     "metadata": {},
     "output_type": "display_data"
    },
    {
     "name": "stdout",
     "output_type": "stream",
     "text": [
      "1.11 0.5 0.5498\n",
      "('zero zero zero western around saturating around at around at around at around at around at around at glorious at around at around western around championships angels diners bulls giggling bulls bulls armstrong simon simon sc16 traveler moment justification vastly', 0.8370990918035834, 0.06714519298733776)\n"
     ]
    },
    {
     "name": "stderr",
     "output_type": "stream",
     "text": [
      "/Users/ildar/projects/.venv/lib/python3.9/site-packages/scipy/spatial/distance.py:620: RuntimeWarning: invalid value encountered in double_scalars\n",
      "  dist = 1.0 - uv / np.sqrt(uu * vv)\n"
     ]
    },
    {
     "data": {
      "application/vnd.jupyter.widget-view+json": {
       "model_id": "1896f599c0c944ad8bbd1edc0af9e20d",
       "version_major": 2,
       "version_minor": 0
      },
      "text/plain": [
       "  0%|          | 0/30 [00:00<?, ?it/s]"
      ]
     },
     "metadata": {},
     "output_type": "display_data"
    },
    {
     "name": "stdout",
     "output_type": "stream",
     "text": [
      "10.44 0.5 0.51453\n",
      "('power lowered power around around lowered around lowered power unbelievable destroyed unbelievable destroyed unbelievable destroyed unbelievable destroyed unbelievable destroyed unbelievable destroyed unbelievable destroyed unbelievable destroyed clock destroyed clock speculators clock destroyed surrounded sporting marinas whats etiquette special must lowest hikes', 1.0048474977509334, 0.07443044259978096)\n"
     ]
    },
    {
     "name": "stderr",
     "output_type": "stream",
     "text": [
      "/Users/ildar/projects/.venv/lib/python3.9/site-packages/scipy/spatial/distance.py:620: RuntimeWarning: invalid value encountered in double_scalars\n",
      "  dist = 1.0 - uv / np.sqrt(uu * vv)\n"
     ]
    },
    {
     "data": {
      "application/vnd.jupyter.widget-view+json": {
       "model_id": "67f1522e369b4a9380c94641b3c48ee7",
       "version_major": 2,
       "version_minor": 0
      },
      "text/plain": [
       "  0%|          | 0/30 [00:00<?, ?it/s]"
      ]
     },
     "metadata": {},
     "output_type": "display_data"
    },
    {
     "name": "stdout",
     "output_type": "stream",
     "text": [
      "8.48 0.5 0.551121\n",
      "('mysore histocompatibility histocompatibility histocompatibility histocompatibility histocompatibility nicest myofiber mysore myofiber nicest histocompatibility mysore histocompatibility mysore histocompatibility histocompatibility histocompatibility mysore histocompatibility mysore histocompatibility mysore pcd mysore histocompatibility mysore pcd undeniably pcd undeniably pcd heralded contras lauds deregulate vetoed budworm drones 1934', 0.858838624947776, 0.08154773958176298)\n"
     ]
    },
    {
     "name": "stderr",
     "output_type": "stream",
     "text": [
      "/Users/ildar/projects/.venv/lib/python3.9/site-packages/scipy/spatial/distance.py:620: RuntimeWarning: invalid value encountered in double_scalars\n",
      "  dist = 1.0 - uv / np.sqrt(uu * vv)\n"
     ]
    },
    {
     "data": {
      "application/vnd.jupyter.widget-view+json": {
       "model_id": "fccb0de52a09482d9b109590dd912467",
       "version_major": 2,
       "version_minor": 0
      },
      "text/plain": [
       "  0%|          | 0/30 [00:00<?, ?it/s]"
      ]
     },
     "metadata": {},
     "output_type": "display_data"
    },
    {
     "name": "stdout",
     "output_type": "stream",
     "text": [
      "0.64 0.5 0.551551\n",
      "('time time time time 000 time reservations time reservations time then time home term households monthly households monthly households households households households households households households households households households households households survey survey household term retiree assist lodging 000 surpluses service', 0.9863870516397023, 0.09968139056962201)\n"
     ]
    },
    {
     "name": "stderr",
     "output_type": "stream",
     "text": [
      "/Users/ildar/projects/.venv/lib/python3.9/site-packages/scipy/spatial/distance.py:620: RuntimeWarning: invalid value encountered in double_scalars\n",
      "  dist = 1.0 - uv / np.sqrt(uu * vv)\n"
     ]
    },
    {
     "data": {
      "application/vnd.jupyter.widget-view+json": {
       "model_id": "7a2a84acc7844b5cb419f70eb20a2939",
       "version_major": 2,
       "version_minor": 0
      },
      "text/plain": [
       "  0%|          | 0/30 [00:00<?, ?it/s]"
      ]
     },
     "metadata": {},
     "output_type": "display_data"
    },
    {
     "name": "stdout",
     "output_type": "stream",
     "text": [
      "3.61 0.5 0.551\n",
      "('lunchtime rpm lunchtime rpm lunchtime rpm lunchtime rpm lunchtime rpm tours time tickets time food time food time food time food time food time food time food time time time time time food auditor designate reproduce europe time payable service', 0.9587716899169698, 0.08991275850362973)\n"
     ]
    },
    {
     "name": "stderr",
     "output_type": "stream",
     "text": [
      "/Users/ildar/projects/.venv/lib/python3.9/site-packages/scipy/spatial/distance.py:620: RuntimeWarning: invalid value encountered in double_scalars\n",
      "  dist = 1.0 - uv / np.sqrt(uu * vv)\n"
     ]
    },
    {
     "data": {
      "application/vnd.jupyter.widget-view+json": {
       "model_id": "686d8f7524a44ded812be7ced1e4bdde",
       "version_major": 2,
       "version_minor": 0
      },
      "text/plain": [
       "  0%|          | 0/30 [00:00<?, ?it/s]"
      ]
     },
     "metadata": {},
     "output_type": "display_data"
    },
    {
     "name": "stdout",
     "output_type": "stream",
     "text": [
      "4.48 0.5 0.51113\n",
      "('los nail los nail los bastion los nail los bastion los bastion los bastion los renamed raining raining raining raining raining rudolph raining rudolph raining rudolph raining rudolph raining rudolph raining inspire ruin progress progress mess raining casp gasp progress', 0.8551891270595101, 0.06574321808804852)\n"
     ]
    },
    {
     "name": "stderr",
     "output_type": "stream",
     "text": [
      "/Users/ildar/projects/.venv/lib/python3.9/site-packages/scipy/spatial/distance.py:620: RuntimeWarning: invalid value encountered in double_scalars\n",
      "  dist = 1.0 - uv / np.sqrt(uu * vv)\n"
     ]
    },
    {
     "data": {
      "application/vnd.jupyter.widget-view+json": {
       "model_id": "e182f8df655449999df86a7548356011",
       "version_major": 2,
       "version_minor": 0
      },
      "text/plain": [
       "  0%|          | 0/30 [00:00<?, ?it/s]"
      ]
     },
     "metadata": {},
     "output_type": "display_data"
    },
    {
     "name": "stdout",
     "output_type": "stream",
     "text": [
      "6.73 0.5 0.55116\n",
      "('parasite parasite relative increasing relative increasing increasing parasite parasite increasing relative increasing finite increasing relative relative relative relative relative bacterium finite bacterium relative increasing finite increasing finite increasing increasing increasing encrypted relayed ge secretariat submissions paterson martinis plurals plurals neuromuscular', 1.0265869216035264, 0.08284736419141023)\n"
     ]
    },
    {
     "name": "stderr",
     "output_type": "stream",
     "text": [
      "/Users/ildar/projects/.venv/lib/python3.9/site-packages/scipy/spatial/distance.py:620: RuntimeWarning: invalid value encountered in double_scalars\n",
      "  dist = 1.0 - uv / np.sqrt(uu * vv)\n"
     ]
    },
    {
     "data": {
      "application/vnd.jupyter.widget-view+json": {
       "model_id": "c8dbc2c1dcfa47c2885f3b90113a0b1d",
       "version_major": 2,
       "version_minor": 0
      },
      "text/plain": [
       "  0%|          | 0/30 [00:00<?, ?it/s]"
      ]
     },
     "metadata": {},
     "output_type": "display_data"
    },
    {
     "name": "stdout",
     "output_type": "stream",
     "text": [
      "3.69 0.5 0.5519451\n",
      "('prototyping reference prototyping reference prototyping reference prototyping reference prototyping reference prototyping reference loess reference loess reference loess reference loess reference loess niche loess niche loess probabilistic loess probabilistic accordingly etymological dhs simplifies prerogative happenings implications metaphor ftsz84 pun setting undertook', 1.0693996314926504, 0.10340793844726753)\n"
     ]
    },
    {
     "name": "stderr",
     "output_type": "stream",
     "text": [
      "/Users/ildar/projects/.venv/lib/python3.9/site-packages/scipy/spatial/distance.py:620: RuntimeWarning: invalid value encountered in double_scalars\n",
      "  dist = 1.0 - uv / np.sqrt(uu * vv)\n"
     ]
    },
    {
     "data": {
      "application/vnd.jupyter.widget-view+json": {
       "model_id": "3eab6aa5125a4bfcb028b479c8c79abb",
       "version_major": 2,
       "version_minor": 0
      },
      "text/plain": [
       "  0%|          | 0/30 [00:00<?, ?it/s]"
      ]
     },
     "metadata": {},
     "output_type": "display_data"
    },
    {
     "name": "stdout",
     "output_type": "stream",
     "text": [
      "18.18 0.5 0.5114\n",
      "('calmodulins calmodulins calmodulins calmodulins calmodulins calmodulins calmodulins calmodulins calmodulins calmodulins calmodulins calmodulins calmodulins calmodulins calmodulins calmodulins calmodulins calmodulins calmodulins calmodulins calmodulins calmodulins calmodulins calmodulins calmodulins calmodulins calmodulins atom atom atom atom atom wang wang wang evaluator term term pubmed fatwa', 0.859811443154915, 0.08617147078258666)\n"
     ]
    },
    {
     "name": "stderr",
     "output_type": "stream",
     "text": [
      "/Users/ildar/projects/.venv/lib/python3.9/site-packages/scipy/spatial/distance.py:620: RuntimeWarning: invalid value encountered in double_scalars\n",
      "  dist = 1.0 - uv / np.sqrt(uu * vv)\n"
     ]
    },
    {
     "data": {
      "application/vnd.jupyter.widget-view+json": {
       "model_id": "caa86bb209d2468ea713222a703f869a",
       "version_major": 2,
       "version_minor": 0
      },
      "text/plain": [
       "  0%|          | 0/30 [00:00<?, ?it/s]"
      ]
     },
     "metadata": {},
     "output_type": "display_data"
    },
    {
     "name": "stdout",
     "output_type": "stream",
     "text": [
      "2039.33 0.51 0.49\n",
      "('middle necessity middle lessening middle lessening middle necessity middle lessening middle lessening middle necessity middle raiding middle necessity middle necessity middle dwindling middle dwindling middle necessity middle necessity middle necessity middle dreamed unselected e competitor glance into sites park counsel', 0.859029205321209, 0.08848928630235921)\n"
     ]
    },
    {
     "name": "stderr",
     "output_type": "stream",
     "text": [
      "/Users/ildar/projects/.venv/lib/python3.9/site-packages/scipy/spatial/distance.py:620: RuntimeWarning: invalid value encountered in double_scalars\n",
      "  dist = 1.0 - uv / np.sqrt(uu * vv)\n"
     ]
    },
    {
     "data": {
      "application/vnd.jupyter.widget-view+json": {
       "model_id": "b4a0bb485b204baea2bf9b59dfd5de00",
       "version_major": 2,
       "version_minor": 0
      },
      "text/plain": [
       "  0%|          | 0/30 [00:00<?, ?it/s]"
      ]
     },
     "metadata": {},
     "output_type": "display_data"
    },
    {
     "name": "stdout",
     "output_type": "stream",
     "text": [
      "38.39 0.06 0.94241\r"
     ]
    },
    {
     "ename": "KeyboardInterrupt",
     "evalue": "",
     "output_type": "error",
     "traceback": [
      "\u001b[0;31m---------------------------------------------------------------------------\u001b[0m",
      "\u001b[0;31mKeyboardInterrupt\u001b[0m                         Traceback (most recent call last)",
      "Cell \u001b[0;32mIn [25], line 53\u001b[0m\n\u001b[1;32m     48\u001b[0m         y_real_fake \u001b[38;5;241m=\u001b[39m np\u001b[38;5;241m.\u001b[39mones((BATCH_SIZE,))\n\u001b[1;32m     50\u001b[0m         \u001b[38;5;66;03m# train GAN and save accuracy to array\u001b[39;00m\n\u001b[1;32m     51\u001b[0m \u001b[38;5;66;03m#         print(gan.train_on_batch(noise, [y_real_fake, noise[1]]))\u001b[39;00m\n\u001b[0;32m---> 53\u001b[0m         loss, _, _, accuracy \u001b[38;5;241m=\u001b[39m \u001b[43mgan\u001b[49m\u001b[38;5;241;43m.\u001b[39;49m\u001b[43mtrain_on_batch\u001b[49m\u001b[43m(\u001b[49m\u001b[43mnoise\u001b[49m\u001b[43m,\u001b[49m\u001b[43m \u001b[49m\u001b[43m[\u001b[49m\u001b[43my_real_fake\u001b[49m\u001b[43m,\u001b[49m\u001b[43m \u001b[49m\u001b[43mnoise\u001b[49m\u001b[43m[\u001b[49m\u001b[38;5;241;43m1\u001b[39;49m\u001b[43m]\u001b[49m\u001b[43m]\u001b[49m\u001b[43m)\u001b[49m\n\u001b[1;32m     54\u001b[0m         accuracy \u001b[38;5;241m=\u001b[39m tf\u001b[38;5;241m.\u001b[39mmath\u001b[38;5;241m.\u001b[39mreduce_mean(gan(noise)[\u001b[38;5;241m0\u001b[39m])\n\u001b[1;32m     55\u001b[0m         \u001b[38;5;66;03m# print('3', loss, accuracy)\u001b[39;00m\n",
      "File \u001b[0;32m~/projects/.venv/lib/python3.9/site-packages/keras/engine/training.py:2381\u001b[0m, in \u001b[0;36mModel.train_on_batch\u001b[0;34m(self, x, y, sample_weight, class_weight, reset_metrics, return_dict)\u001b[0m\n\u001b[1;32m   2377\u001b[0m     iterator \u001b[38;5;241m=\u001b[39m data_adapter\u001b[38;5;241m.\u001b[39msingle_batch_iterator(\n\u001b[1;32m   2378\u001b[0m         \u001b[38;5;28mself\u001b[39m\u001b[38;5;241m.\u001b[39mdistribute_strategy, x, y, sample_weight, class_weight\n\u001b[1;32m   2379\u001b[0m     )\n\u001b[1;32m   2380\u001b[0m     \u001b[38;5;28mself\u001b[39m\u001b[38;5;241m.\u001b[39mtrain_function \u001b[38;5;241m=\u001b[39m \u001b[38;5;28mself\u001b[39m\u001b[38;5;241m.\u001b[39mmake_train_function()\n\u001b[0;32m-> 2381\u001b[0m     logs \u001b[38;5;241m=\u001b[39m \u001b[38;5;28;43mself\u001b[39;49m\u001b[38;5;241;43m.\u001b[39;49m\u001b[43mtrain_function\u001b[49m\u001b[43m(\u001b[49m\u001b[43miterator\u001b[49m\u001b[43m)\u001b[49m\n\u001b[1;32m   2383\u001b[0m logs \u001b[38;5;241m=\u001b[39m tf_utils\u001b[38;5;241m.\u001b[39msync_to_numpy_or_python_type(logs)\n\u001b[1;32m   2384\u001b[0m \u001b[38;5;28;01mif\u001b[39;00m return_dict:\n",
      "File \u001b[0;32m~/projects/.venv/lib/python3.9/site-packages/tensorflow/python/util/traceback_utils.py:150\u001b[0m, in \u001b[0;36mfilter_traceback.<locals>.error_handler\u001b[0;34m(*args, **kwargs)\u001b[0m\n\u001b[1;32m    148\u001b[0m filtered_tb \u001b[38;5;241m=\u001b[39m \u001b[38;5;28;01mNone\u001b[39;00m\n\u001b[1;32m    149\u001b[0m \u001b[38;5;28;01mtry\u001b[39;00m:\n\u001b[0;32m--> 150\u001b[0m   \u001b[38;5;28;01mreturn\u001b[39;00m \u001b[43mfn\u001b[49m\u001b[43m(\u001b[49m\u001b[38;5;241;43m*\u001b[39;49m\u001b[43margs\u001b[49m\u001b[43m,\u001b[49m\u001b[43m \u001b[49m\u001b[38;5;241;43m*\u001b[39;49m\u001b[38;5;241;43m*\u001b[39;49m\u001b[43mkwargs\u001b[49m\u001b[43m)\u001b[49m\n\u001b[1;32m    151\u001b[0m \u001b[38;5;28;01mexcept\u001b[39;00m \u001b[38;5;167;01mException\u001b[39;00m \u001b[38;5;28;01mas\u001b[39;00m e:\n\u001b[1;32m    152\u001b[0m   filtered_tb \u001b[38;5;241m=\u001b[39m _process_traceback_frames(e\u001b[38;5;241m.\u001b[39m__traceback__)\n",
      "File \u001b[0;32m~/projects/.venv/lib/python3.9/site-packages/tensorflow/python/eager/def_function.py:915\u001b[0m, in \u001b[0;36mFunction.__call__\u001b[0;34m(self, *args, **kwds)\u001b[0m\n\u001b[1;32m    912\u001b[0m compiler \u001b[38;5;241m=\u001b[39m \u001b[38;5;124m\"\u001b[39m\u001b[38;5;124mxla\u001b[39m\u001b[38;5;124m\"\u001b[39m \u001b[38;5;28;01mif\u001b[39;00m \u001b[38;5;28mself\u001b[39m\u001b[38;5;241m.\u001b[39m_jit_compile \u001b[38;5;28;01melse\u001b[39;00m \u001b[38;5;124m\"\u001b[39m\u001b[38;5;124mnonXla\u001b[39m\u001b[38;5;124m\"\u001b[39m\n\u001b[1;32m    914\u001b[0m \u001b[38;5;28;01mwith\u001b[39;00m OptionalXlaContext(\u001b[38;5;28mself\u001b[39m\u001b[38;5;241m.\u001b[39m_jit_compile):\n\u001b[0;32m--> 915\u001b[0m   result \u001b[38;5;241m=\u001b[39m \u001b[38;5;28;43mself\u001b[39;49m\u001b[38;5;241;43m.\u001b[39;49m\u001b[43m_call\u001b[49m\u001b[43m(\u001b[49m\u001b[38;5;241;43m*\u001b[39;49m\u001b[43margs\u001b[49m\u001b[43m,\u001b[49m\u001b[43m \u001b[49m\u001b[38;5;241;43m*\u001b[39;49m\u001b[38;5;241;43m*\u001b[39;49m\u001b[43mkwds\u001b[49m\u001b[43m)\u001b[49m\n\u001b[1;32m    917\u001b[0m new_tracing_count \u001b[38;5;241m=\u001b[39m \u001b[38;5;28mself\u001b[39m\u001b[38;5;241m.\u001b[39mexperimental_get_tracing_count()\n\u001b[1;32m    918\u001b[0m without_tracing \u001b[38;5;241m=\u001b[39m (tracing_count \u001b[38;5;241m==\u001b[39m new_tracing_count)\n",
      "File \u001b[0;32m~/projects/.venv/lib/python3.9/site-packages/tensorflow/python/eager/def_function.py:947\u001b[0m, in \u001b[0;36mFunction._call\u001b[0;34m(self, *args, **kwds)\u001b[0m\n\u001b[1;32m    944\u001b[0m   \u001b[38;5;28mself\u001b[39m\u001b[38;5;241m.\u001b[39m_lock\u001b[38;5;241m.\u001b[39mrelease()\n\u001b[1;32m    945\u001b[0m   \u001b[38;5;66;03m# In this case we have created variables on the first call, so we run the\u001b[39;00m\n\u001b[1;32m    946\u001b[0m   \u001b[38;5;66;03m# defunned version which is guaranteed to never create variables.\u001b[39;00m\n\u001b[0;32m--> 947\u001b[0m   \u001b[38;5;28;01mreturn\u001b[39;00m \u001b[38;5;28;43mself\u001b[39;49m\u001b[38;5;241;43m.\u001b[39;49m\u001b[43m_stateless_fn\u001b[49m\u001b[43m(\u001b[49m\u001b[38;5;241;43m*\u001b[39;49m\u001b[43margs\u001b[49m\u001b[43m,\u001b[49m\u001b[43m \u001b[49m\u001b[38;5;241;43m*\u001b[39;49m\u001b[38;5;241;43m*\u001b[39;49m\u001b[43mkwds\u001b[49m\u001b[43m)\u001b[49m  \u001b[38;5;66;03m# pylint: disable=not-callable\u001b[39;00m\n\u001b[1;32m    948\u001b[0m \u001b[38;5;28;01melif\u001b[39;00m \u001b[38;5;28mself\u001b[39m\u001b[38;5;241m.\u001b[39m_stateful_fn \u001b[38;5;129;01mis\u001b[39;00m \u001b[38;5;129;01mnot\u001b[39;00m \u001b[38;5;28;01mNone\u001b[39;00m:\n\u001b[1;32m    949\u001b[0m   \u001b[38;5;66;03m# Release the lock early so that multiple threads can perform the call\u001b[39;00m\n\u001b[1;32m    950\u001b[0m   \u001b[38;5;66;03m# in parallel.\u001b[39;00m\n\u001b[1;32m    951\u001b[0m   \u001b[38;5;28mself\u001b[39m\u001b[38;5;241m.\u001b[39m_lock\u001b[38;5;241m.\u001b[39mrelease()\n",
      "File \u001b[0;32m~/projects/.venv/lib/python3.9/site-packages/tensorflow/python/eager/function.py:2496\u001b[0m, in \u001b[0;36mFunction.__call__\u001b[0;34m(self, *args, **kwargs)\u001b[0m\n\u001b[1;32m   2493\u001b[0m \u001b[38;5;28;01mwith\u001b[39;00m \u001b[38;5;28mself\u001b[39m\u001b[38;5;241m.\u001b[39m_lock:\n\u001b[1;32m   2494\u001b[0m   (graph_function,\n\u001b[1;32m   2495\u001b[0m    filtered_flat_args) \u001b[38;5;241m=\u001b[39m \u001b[38;5;28mself\u001b[39m\u001b[38;5;241m.\u001b[39m_maybe_define_function(args, kwargs)\n\u001b[0;32m-> 2496\u001b[0m \u001b[38;5;28;01mreturn\u001b[39;00m \u001b[43mgraph_function\u001b[49m\u001b[38;5;241;43m.\u001b[39;49m\u001b[43m_call_flat\u001b[49m\u001b[43m(\u001b[49m\n\u001b[1;32m   2497\u001b[0m \u001b[43m    \u001b[49m\u001b[43mfiltered_flat_args\u001b[49m\u001b[43m,\u001b[49m\u001b[43m \u001b[49m\u001b[43mcaptured_inputs\u001b[49m\u001b[38;5;241;43m=\u001b[39;49m\u001b[43mgraph_function\u001b[49m\u001b[38;5;241;43m.\u001b[39;49m\u001b[43mcaptured_inputs\u001b[49m\u001b[43m)\u001b[49m\n",
      "File \u001b[0;32m~/projects/.venv/lib/python3.9/site-packages/tensorflow/python/eager/function.py:1862\u001b[0m, in \u001b[0;36mConcreteFunction._call_flat\u001b[0;34m(self, args, captured_inputs, cancellation_manager)\u001b[0m\n\u001b[1;32m   1858\u001b[0m possible_gradient_type \u001b[38;5;241m=\u001b[39m gradients_util\u001b[38;5;241m.\u001b[39mPossibleTapeGradientTypes(args)\n\u001b[1;32m   1859\u001b[0m \u001b[38;5;28;01mif\u001b[39;00m (possible_gradient_type \u001b[38;5;241m==\u001b[39m gradients_util\u001b[38;5;241m.\u001b[39mPOSSIBLE_GRADIENT_TYPES_NONE\n\u001b[1;32m   1860\u001b[0m     \u001b[38;5;129;01mand\u001b[39;00m executing_eagerly):\n\u001b[1;32m   1861\u001b[0m   \u001b[38;5;66;03m# No tape is watching; skip to running the function.\u001b[39;00m\n\u001b[0;32m-> 1862\u001b[0m   \u001b[38;5;28;01mreturn\u001b[39;00m \u001b[38;5;28mself\u001b[39m\u001b[38;5;241m.\u001b[39m_build_call_outputs(\u001b[38;5;28;43mself\u001b[39;49m\u001b[38;5;241;43m.\u001b[39;49m\u001b[43m_inference_function\u001b[49m\u001b[38;5;241;43m.\u001b[39;49m\u001b[43mcall\u001b[49m\u001b[43m(\u001b[49m\n\u001b[1;32m   1863\u001b[0m \u001b[43m      \u001b[49m\u001b[43mctx\u001b[49m\u001b[43m,\u001b[49m\u001b[43m \u001b[49m\u001b[43margs\u001b[49m\u001b[43m,\u001b[49m\u001b[43m \u001b[49m\u001b[43mcancellation_manager\u001b[49m\u001b[38;5;241;43m=\u001b[39;49m\u001b[43mcancellation_manager\u001b[49m\u001b[43m)\u001b[49m)\n\u001b[1;32m   1864\u001b[0m forward_backward \u001b[38;5;241m=\u001b[39m \u001b[38;5;28mself\u001b[39m\u001b[38;5;241m.\u001b[39m_select_forward_and_backward_functions(\n\u001b[1;32m   1865\u001b[0m     args,\n\u001b[1;32m   1866\u001b[0m     possible_gradient_type,\n\u001b[1;32m   1867\u001b[0m     executing_eagerly)\n\u001b[1;32m   1868\u001b[0m forward_function, args_with_tangents \u001b[38;5;241m=\u001b[39m forward_backward\u001b[38;5;241m.\u001b[39mforward()\n",
      "File \u001b[0;32m~/projects/.venv/lib/python3.9/site-packages/tensorflow/python/eager/function.py:499\u001b[0m, in \u001b[0;36m_EagerDefinedFunction.call\u001b[0;34m(self, ctx, args, cancellation_manager)\u001b[0m\n\u001b[1;32m    497\u001b[0m \u001b[38;5;28;01mwith\u001b[39;00m _InterpolateFunctionError(\u001b[38;5;28mself\u001b[39m):\n\u001b[1;32m    498\u001b[0m   \u001b[38;5;28;01mif\u001b[39;00m cancellation_manager \u001b[38;5;129;01mis\u001b[39;00m \u001b[38;5;28;01mNone\u001b[39;00m:\n\u001b[0;32m--> 499\u001b[0m     outputs \u001b[38;5;241m=\u001b[39m \u001b[43mexecute\u001b[49m\u001b[38;5;241;43m.\u001b[39;49m\u001b[43mexecute\u001b[49m\u001b[43m(\u001b[49m\n\u001b[1;32m    500\u001b[0m \u001b[43m        \u001b[49m\u001b[38;5;28;43mstr\u001b[39;49m\u001b[43m(\u001b[49m\u001b[38;5;28;43mself\u001b[39;49m\u001b[38;5;241;43m.\u001b[39;49m\u001b[43msignature\u001b[49m\u001b[38;5;241;43m.\u001b[39;49m\u001b[43mname\u001b[49m\u001b[43m)\u001b[49m\u001b[43m,\u001b[49m\n\u001b[1;32m    501\u001b[0m \u001b[43m        \u001b[49m\u001b[43mnum_outputs\u001b[49m\u001b[38;5;241;43m=\u001b[39;49m\u001b[38;5;28;43mself\u001b[39;49m\u001b[38;5;241;43m.\u001b[39;49m\u001b[43m_num_outputs\u001b[49m\u001b[43m,\u001b[49m\n\u001b[1;32m    502\u001b[0m \u001b[43m        \u001b[49m\u001b[43minputs\u001b[49m\u001b[38;5;241;43m=\u001b[39;49m\u001b[43margs\u001b[49m\u001b[43m,\u001b[49m\n\u001b[1;32m    503\u001b[0m \u001b[43m        \u001b[49m\u001b[43mattrs\u001b[49m\u001b[38;5;241;43m=\u001b[39;49m\u001b[43mattrs\u001b[49m\u001b[43m,\u001b[49m\n\u001b[1;32m    504\u001b[0m \u001b[43m        \u001b[49m\u001b[43mctx\u001b[49m\u001b[38;5;241;43m=\u001b[39;49m\u001b[43mctx\u001b[49m\u001b[43m)\u001b[49m\n\u001b[1;32m    505\u001b[0m   \u001b[38;5;28;01melse\u001b[39;00m:\n\u001b[1;32m    506\u001b[0m     outputs \u001b[38;5;241m=\u001b[39m execute\u001b[38;5;241m.\u001b[39mexecute_with_cancellation(\n\u001b[1;32m    507\u001b[0m         \u001b[38;5;28mstr\u001b[39m(\u001b[38;5;28mself\u001b[39m\u001b[38;5;241m.\u001b[39msignature\u001b[38;5;241m.\u001b[39mname),\n\u001b[1;32m    508\u001b[0m         num_outputs\u001b[38;5;241m=\u001b[39m\u001b[38;5;28mself\u001b[39m\u001b[38;5;241m.\u001b[39m_num_outputs,\n\u001b[0;32m   (...)\u001b[0m\n\u001b[1;32m    511\u001b[0m         ctx\u001b[38;5;241m=\u001b[39mctx,\n\u001b[1;32m    512\u001b[0m         cancellation_manager\u001b[38;5;241m=\u001b[39mcancellation_manager)\n",
      "File \u001b[0;32m~/projects/.venv/lib/python3.9/site-packages/tensorflow/python/eager/execute.py:54\u001b[0m, in \u001b[0;36mquick_execute\u001b[0;34m(op_name, num_outputs, inputs, attrs, ctx, name)\u001b[0m\n\u001b[1;32m     52\u001b[0m \u001b[38;5;28;01mtry\u001b[39;00m:\n\u001b[1;32m     53\u001b[0m   ctx\u001b[38;5;241m.\u001b[39mensure_initialized()\n\u001b[0;32m---> 54\u001b[0m   tensors \u001b[38;5;241m=\u001b[39m \u001b[43mpywrap_tfe\u001b[49m\u001b[38;5;241;43m.\u001b[39;49m\u001b[43mTFE_Py_Execute\u001b[49m\u001b[43m(\u001b[49m\u001b[43mctx\u001b[49m\u001b[38;5;241;43m.\u001b[39;49m\u001b[43m_handle\u001b[49m\u001b[43m,\u001b[49m\u001b[43m \u001b[49m\u001b[43mdevice_name\u001b[49m\u001b[43m,\u001b[49m\u001b[43m \u001b[49m\u001b[43mop_name\u001b[49m\u001b[43m,\u001b[49m\n\u001b[1;32m     55\u001b[0m \u001b[43m                                      \u001b[49m\u001b[43minputs\u001b[49m\u001b[43m,\u001b[49m\u001b[43m \u001b[49m\u001b[43mattrs\u001b[49m\u001b[43m,\u001b[49m\u001b[43m \u001b[49m\u001b[43mnum_outputs\u001b[49m\u001b[43m)\u001b[49m\n\u001b[1;32m     56\u001b[0m \u001b[38;5;28;01mexcept\u001b[39;00m core\u001b[38;5;241m.\u001b[39m_NotOkStatusException \u001b[38;5;28;01mas\u001b[39;00m e:\n\u001b[1;32m     57\u001b[0m   \u001b[38;5;28;01mif\u001b[39;00m name \u001b[38;5;129;01mis\u001b[39;00m \u001b[38;5;129;01mnot\u001b[39;00m \u001b[38;5;28;01mNone\u001b[39;00m:\n",
      "\u001b[0;31mKeyboardInterrupt\u001b[0m: "
     ]
    }
   ],
   "source": [
    "generator_acc_follow = []\n",
    "generator_accuracy_cumulative = 0.5\n",
    "discriminator_accuracy_cumulative = 0.5\n",
    "loss_cumulative = 1\n",
    "BATCH_SIZE = 128\n",
    "data = DataGenerator(labels, sentences, batches_per_epoch=30, batch_size=BATCH_SIZE)\n",
    "\n",
    "for epoch in range(300):\n",
    "    print()\n",
    "    generated_from_noise = generator(FIXED_NOISE)\n",
    "    for example in generated_from_noise:\n",
    "        recovered = message_recovery_with_metric(example)\n",
    "        print(recovered)\n",
    "    # save_models()\n",
    "\n",
    "    for sent_batch, labels_batch in data:\n",
    "        ##########################\n",
    "        # discriminator training #\n",
    "        ##########################\n",
    "        noise = data.rand_batch()\n",
    "        generated_texts = generator(noise)\n",
    "        # X\n",
    "        X = np.concatenate([sent_batch, generated_texts])\n",
    "        # target valuest smoothing\n",
    "        y_real = np.random.uniform(0.8, 1, size=[BATCH_SIZE])\n",
    "        y_real = np.ones((BATCH_SIZE,))\n",
    "        y_fake = np.random.uniform(0, 0.2, size=[BATCH_SIZE])\n",
    "        y_fake = np.zeros((BATCH_SIZE,))\n",
    "        # Y\n",
    "        y_real_fake = np.concatenate([y_real, y_fake])\n",
    "        y_labels = np.concatenate([labels_batch, np.zeros((BATCH_SIZE, len(le.classes_)))]) \n",
    "        \n",
    "#         print(discriminator.train_on_batch(X, [y_real_fake, np.array(y_labels)]))\n",
    "        discriminator.trainable = True\n",
    "        loss, _, _, accuracy = discriminator.train_on_batch(X, [y_real_fake, np.array(y_labels)])\n",
    "        # print('1', loss, accuracy, discriminator(sent_batch)[0])\n",
    "        discriminator_accuracy_cumulative = 0.99 * discriminator_accuracy_cumulative + 0.01 * accuracy\n",
    "        generator_accuracy_cumulative = 1 - discriminator_accuracy_cumulative\n",
    "        \n",
    "        ######################\n",
    "        # generator training #\n",
    "        ######################\n",
    "        discriminator.trainable = False\n",
    "        while True:\n",
    "            noise = data.rand_batch()\n",
    "            # target values\n",
    "    #         y_real_fake = np.random.uniform(0.9, 1.0, size=[BATCH_SIZE])\n",
    "            y_real_fake = np.ones((BATCH_SIZE,))\n",
    "\n",
    "            # train GAN and save accuracy to array\n",
    "    #         print(gan.train_on_batch(noise, [y_real_fake, noise[1]]))\n",
    "\n",
    "            loss, _, _, accuracy = gan.train_on_batch(noise, [y_real_fake, noise[1]])\n",
    "            accuracy = tf.math.reduce_mean(gan(noise)[0])\n",
    "            # print('3', loss, accuracy)\n",
    "\n",
    "            generator_accuracy_cumulative = 0.99 * generator_accuracy_cumulative + 0.01 * accuracy\n",
    "            discriminator_accuracy_cumulative = 1 - generator_accuracy_cumulative\n",
    "            print( \n",
    "                round(float(loss), 2),\n",
    "                round(float(generator_accuracy_cumulative), 2),\n",
    "                round(float(discriminator_accuracy_cumulative), 2),\n",
    "                end='\\r',\n",
    "            )\n",
    "            if generator_accuracy_cumulative > 0.5:\n",
    "                break\n",
    "#     print()\n",
    "#     if epoch%10==0:\n",
    "#         generated_from_noise = generator(FIXED_NOISE)\n",
    "#         for example in generated_from_noise:\n",
    "#             print(message_recovery_with_metric(example))\n",
    "        "
   ]
  },
  {
   "cell_type": "markdown",
   "metadata": {},
   "source": [
    "expected: ''set an alarm for two hours from now',"
   ]
  },
  {
   "cell_type": "code",
   "execution_count": null,
   "metadata": {},
   "outputs": [],
   "source": [
    "discriminator.train_on_batch(X, [y_real_fake, np.array(y_labels)])\n",
    "y_labels"
   ]
  },
  {
   "cell_type": "code",
   "execution_count": null,
   "metadata": {},
   "outputs": [],
   "source": [
    "labels_batch, np.zeros((BATCH_SIZE, len(le.classes_)))"
   ]
  },
  {
   "cell_type": "code",
   "execution_count": null,
   "metadata": {},
   "outputs": [],
   "source": [
    "float(loss)"
   ]
  },
  {
   "cell_type": "code",
   "execution_count": null,
   "metadata": {},
   "outputs": [],
   "source": [
    "for sent, lbl in data:\n",
    "    print(sent[0][0])\n",
    "    print(sent[0][-1])\n",
    "    break"
   ]
  },
  {
   "cell_type": "code",
   "execution_count": null,
   "metadata": {},
   "outputs": [],
   "source": [
    "generated_from_noise = generator(FIXED_NOISE)\n",
    "print(generated_from_noise[-1][0])\n",
    "print(generated_from_noise[-1][-1])"
   ]
  },
  {
   "cell_type": "code",
   "execution_count": null,
   "metadata": {},
   "outputs": [],
   "source": [
    "generated_from_noise = generator.forward(*FIXED_NOISE)\n",
    "generated_from_noise[0][-1]"
   ]
  },
  {
   "cell_type": "code",
   "execution_count": null,
   "metadata": {},
   "outputs": [],
   "source": []
  },
  {
   "cell_type": "code",
   "execution_count": null,
   "metadata": {},
   "outputs": [],
   "source": []
  },
  {
   "cell_type": "code",
   "execution_count": null,
   "metadata": {},
   "outputs": [],
   "source": []
  },
  {
   "cell_type": "code",
   "execution_count": null,
   "metadata": {},
   "outputs": [],
   "source": []
  },
  {
   "cell_type": "code",
   "execution_count": null,
   "metadata": {},
   "outputs": [],
   "source": []
  }
 ],
 "metadata": {
  "kernelspec": {
   "display_name": "Python 3 (ipykernel)",
   "language": "python",
   "name": "python3"
  },
  "language_info": {
   "codemirror_mode": {
    "name": "ipython",
    "version": 3
   },
   "file_extension": ".py",
   "mimetype": "text/x-python",
   "name": "python",
   "nbconvert_exporter": "python",
   "pygments_lexer": "ipython3",
   "version": "3.9.6"
  }
 },
 "nbformat": 4,
 "nbformat_minor": 4
}
