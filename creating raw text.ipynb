{
 "cells": [
  {
   "cell_type": "code",
   "execution_count": 4,
   "metadata": {},
   "outputs": [],
   "source": [
    "import pandas as pd"
   ]
  },
  {
   "cell_type": "code",
   "execution_count": 5,
   "metadata": {},
   "outputs": [],
   "source": [
    "\n",
    "with open('NLU-Evaluation-Data/AnnotatedData/NLU-Data-Home-Domain-Annotated-All.csv') as rf:    \n",
    "    with open('raw_text_en.txt', 'a+') as wf: \n",
    "        for i, line in enumerate(rf.readlines()):\n",
    "            if i == 0:\n",
    "                continue\n",
    "            sentence = line.split(';')[8]\n",
    "            wf.write(sentence)\n",
    "            wf.write('\\r')"
   ]
  },
  {
   "cell_type": "code",
   "execution_count": 6,
   "metadata": {},
   "outputs": [
    {
     "data": {
      "application/vnd.jupyter.widget-view+json": {
       "model_id": "cf7c46f4c87e4da3a0422407127cf9d3",
       "version_major": 2,
       "version_minor": 0
      },
      "text/plain": [
       "  0%|          | 0/8825 [00:00<?, ?it/s]"
      ]
     },
     "metadata": {},
     "output_type": "display_data"
    }
   ],
   "source": [
    "from pathlib import Path\n",
    "import re\n",
    "from tqdm.notebook import tqdm\n",
    "path = list(Path('OANC-GrAF').glob('**/*.txt'))\n",
    "re_w = re.compile(r'\\w+|\\d+')\n",
    "\n",
    "for p in tqdm(path):\n",
    "    with open(p) as rf:\n",
    "        for i, line in enumerate(rf.readlines()):\n",
    "            line = line.strip()\n",
    "            if line:\n",
    "                line = ' '.join(re_w.findall(line)).lower()\n",
    "                with open('raw_text_en.txt', 'a+') as wf: \n",
    "                    wf.write(line)\n",
    "                    wf.write('\\r')"
   ]
  }
 ],
 "metadata": {
  "kernelspec": {
   "display_name": "Python 3",
   "language": "python",
   "name": "python3"
  },
  "language_info": {
   "codemirror_mode": {
    "name": "ipython",
    "version": 3
   },
   "file_extension": ".py",
   "mimetype": "text/x-python",
   "name": "python",
   "nbconvert_exporter": "python",
   "pygments_lexer": "ipython3",
   "version": "3.8.6"
  }
 },
 "nbformat": 4,
 "nbformat_minor": 4
}
