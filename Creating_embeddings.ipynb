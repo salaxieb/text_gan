{
 "cells": [
  {
   "cell_type": "code",
   "execution_count": 1,
   "metadata": {},
   "outputs": [],
   "source": [
    "# !pip install gensim==3.8.0"
   ]
  },
  {
   "cell_type": "code",
   "execution_count": 2,
   "metadata": {},
   "outputs": [
    {
     "data": {
      "application/vnd.jupyter.widget-view+json": {
       "model_id": "2c43922df0324743bb2c3c2b1c382d17",
       "version_major": 2,
       "version_minor": 0
      },
      "text/plain": [
       "  0%|          | 0/1490912 [00:00<?, ?it/s]"
      ]
     },
     "metadata": {},
     "output_type": "display_data"
    },
    {
     "data": {
      "text/plain": [
       "{'neut': 27, 'cyto': 48}"
      ]
     },
     "execution_count": 2,
     "metadata": {},
     "output_type": "execute_result"
    }
   ],
   "source": [
    "from tqdm.notebook import tqdm, trange\n",
    "\n",
    "counts = {\n",
    "    'neut': 0,\n",
    "    'cyto': 0,\n",
    "}\n",
    "\n",
    "class DataSupplier:\n",
    "    def __init__(self, filepath):\n",
    "        self.filepath = filepath\n",
    "        \n",
    "    def __iter__(self):\n",
    "        for sent in tqdm(open(self.filepath), total=1490912):\n",
    "            tokens = sent.split()\n",
    "            for token in tokens:\n",
    "                if token in counts:\n",
    "                    counts[token] += 1\n",
    "            yield sent.split()\n",
    "\n",
    "supplier = DataSupplier('./raw_text_en.txt')\n",
    "for sent in supplier:\n",
    "    pass\n",
    "    #print(sent)\n",
    "    #break\n",
    "counts"
   ]
  },
  {
   "cell_type": "code",
   "execution_count": null,
   "metadata": {},
   "outputs": [
    {
     "data": {
      "application/vnd.jupyter.widget-view+json": {
       "model_id": "410a4fa65ee640ae9d6b74e31908d060",
       "version_major": 2,
       "version_minor": 0
      },
      "text/plain": [
       "  0%|          | 0/1490912 [00:00<?, ?it/s]"
      ]
     },
     "metadata": {},
     "output_type": "display_data"
    },
    {
     "data": {
      "application/vnd.jupyter.widget-view+json": {
       "model_id": "1e45710916f14e89990a4918f412ff3b",
       "version_major": 2,
       "version_minor": 0
      },
      "text/plain": [
       "  0%|          | 0/1490912 [00:00<?, ?it/s]"
      ]
     },
     "metadata": {},
     "output_type": "display_data"
    },
    {
     "data": {
      "application/vnd.jupyter.widget-view+json": {
       "model_id": "9f1c7212da534a3eb4a436d3f2d77ac2",
       "version_major": 2,
       "version_minor": 0
      },
      "text/plain": [
       "  0%|          | 0/1490912 [00:00<?, ?it/s]"
      ]
     },
     "metadata": {},
     "output_type": "display_data"
    },
    {
     "data": {
      "application/vnd.jupyter.widget-view+json": {
       "model_id": "01bb5d192aaa4b98976e7070aaf4184d",
       "version_major": 2,
       "version_minor": 0
      },
      "text/plain": [
       "  0%|          | 0/1490912 [00:00<?, ?it/s]"
      ]
     },
     "metadata": {},
     "output_type": "display_data"
    },
    {
     "data": {
      "application/vnd.jupyter.widget-view+json": {
       "model_id": "bbd566829f2e44178284692b7147ce2c",
       "version_major": 2,
       "version_minor": 0
      },
      "text/plain": [
       "  0%|          | 0/1490912 [00:00<?, ?it/s]"
      ]
     },
     "metadata": {},
     "output_type": "display_data"
    },
    {
     "data": {
      "application/vnd.jupyter.widget-view+json": {
       "model_id": "8093f717aec84c8c96aa159fd46aee5d",
       "version_major": 2,
       "version_minor": 0
      },
      "text/plain": [
       "  0%|          | 0/1490912 [00:00<?, ?it/s]"
      ]
     },
     "metadata": {},
     "output_type": "display_data"
    },
    {
     "data": {
      "application/vnd.jupyter.widget-view+json": {
       "model_id": "de09e713df5f4b2bbad677dfc31f3489",
       "version_major": 2,
       "version_minor": 0
      },
      "text/plain": [
       "  0%|          | 0/1490912 [00:00<?, ?it/s]"
      ]
     },
     "metadata": {},
     "output_type": "display_data"
    },
    {
     "data": {
      "application/vnd.jupyter.widget-view+json": {
       "model_id": "51973191df754f149e52040f0e02e821",
       "version_major": 2,
       "version_minor": 0
      },
      "text/plain": [
       "  0%|          | 0/1490912 [00:00<?, ?it/s]"
      ]
     },
     "metadata": {},
     "output_type": "display_data"
    },
    {
     "data": {
      "application/vnd.jupyter.widget-view+json": {
       "model_id": "b98aff7c29a34926825b755a5935e69e",
       "version_major": 2,
       "version_minor": 0
      },
      "text/plain": [
       "  0%|          | 0/1490912 [00:00<?, ?it/s]"
      ]
     },
     "metadata": {},
     "output_type": "display_data"
    },
    {
     "data": {
      "application/vnd.jupyter.widget-view+json": {
       "model_id": "228f963b56f84bbfa76e1f4353edc957",
       "version_major": 2,
       "version_minor": 0
      },
      "text/plain": [
       "  0%|          | 0/1490912 [00:00<?, ?it/s]"
      ]
     },
     "metadata": {},
     "output_type": "display_data"
    }
   ],
   "source": [
    "from gensim.models import Word2Vec, FastText\n",
    "import pickle\n",
    "\n",
    "# w2v = Word2Vec(sentences=supplier, vector_size=300, window=5, min_count=1)\n",
    "# with open('word2vec_300.pkl', 'wb') as f:\n",
    "#     pickle.dump(w2v, f)\n",
    "\n",
    "# w2v = Word2Vec(sentences=supplier, vector_size=150, window=5, min_count=1)\n",
    "# with open('word2vec_150.pkl', 'wb') as f:\n",
    "#     pickle.dump(w2v, f)\n",
    "    \n",
    "w2v = Word2Vec(sentences=supplier, size=100, window=5, min_count=10, iter=10)\n",
    "with open('word2vec_100.pkl', 'wb') as f:\n",
    "    pickle.dump(w2v, f)\n",
    "    \n",
    "len(w2v.wv.vocab)"
   ]
  },
  {
   "cell_type": "code",
   "execution_count": null,
   "metadata": {},
   "outputs": [],
   "source": [
    "# from gensim.models import Word2Vec, FastText\n",
    "# import pickle\n",
    "# from creds import embeddings_path\n",
    "\n",
    "# w2v = Word2Vec(sentences=supplier, size=300, window=5, min_count=1)\n",
    "# with open(embeddings_path + 'word2vec_stemmed_300.pkl', 'wb') as f:\n",
    "#     pickle.dump(w2v, f)\n",
    "\n",
    "# w2v = Word2Vec(sentences=supplier, size=150, window=5, min_count=1)\n",
    "# with open(embeddings_path + 'word2vec_stemmed_150.pkl', 'wb') as f:\n",
    "#     pickle.dump(w2v, f)\n",
    "    \n",
    "# print(len(w2v.wv.vocab))"
   ]
  },
  {
   "cell_type": "code",
   "execution_count": null,
   "metadata": {},
   "outputs": [],
   "source": [
    "\n",
    "# f_t = FastText(sentences=supplier, vector_size=300, window=5, min_count=1)\n",
    "# with open('fasttext_300.pkl', 'wb') as f:\n",
    "#     pickle.dump(f_t, f)\n",
    "\n",
    "# f_t = FastText(sentences=supplier, vector_size=150, window=5, min_count=1)\n",
    "# with open('fasttext_150.pkl', 'wb') as f:\n",
    "#     pickle.dump(f_t, f)\n",
    "    \n",
    "f_t = FastText(sentences=supplier, size=100, window=5, min_count=1, iter=10)\n",
    "with open('fasttext_100.pkl', 'wb') as f:\n",
    "    pickle.dump(f_t, f)\n",
    "print(len(f_t.wv.vocab))"
   ]
  },
  {
   "cell_type": "code",
   "execution_count": null,
   "metadata": {},
   "outputs": [],
   "source": [
    "# from creds import embeddings_path\n",
    "# f_t = FastText(sentences=supplier, size=300, window=5, min_count=1)\n",
    "# with open(embeddings_path + 'fasttext_stemmed_300.pkl', 'wb') as f:\n",
    "#     pickle.dump(f_t, f)\n",
    "# print(len(f_t.wv.vocab))\n",
    "\n",
    "# f_t = FastText(sentences=supplier, size=150, window=5, min_count=1)\n",
    "# with open(embeddings_path + 'fasttext_stemmed_150.pkl', 'wb') as f:\n",
    "#     pickle.dump(f_t, f)\n",
    "# print(len(f_t.wv.vocab))"
   ]
  }
 ],
 "metadata": {
  "kernelspec": {
   "display_name": "Python 3",
   "language": "python",
   "name": "python3"
  },
  "language_info": {
   "codemirror_mode": {
    "name": "ipython",
    "version": 3
   },
   "file_extension": ".py",
   "mimetype": "text/x-python",
   "name": "python",
   "nbconvert_exporter": "python",
   "pygments_lexer": "ipython3",
   "version": "3.8.6"
  }
 },
 "nbformat": 4,
 "nbformat_minor": 4
}
